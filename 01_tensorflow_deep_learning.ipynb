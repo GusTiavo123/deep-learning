{
 "cells": [
  {
   "cell_type": "markdown",
   "metadata": {},
   "source": [
    "# Introductions to Regression with Neural Networks in tensorflow\n",
    "\n",
    "There are may definitios for a regression problem but in our case, we're going to simplify it: predicting a numerical variable based on some other combination of variables, even shorter... predicting a number."
   ]
  },
  {
   "cell_type": "code",
   "execution_count": 1,
   "metadata": {},
   "outputs": [
    {
     "name": "stderr",
     "output_type": "stream",
     "text": [
      "2023-12-22 18:29:18.266038: I tensorflow/core/util/port.cc:113] oneDNN custom operations are on. You may see slightly different numerical results due to floating-point round-off errors from different computation orders. To turn them off, set the environment variable `TF_ENABLE_ONEDNN_OPTS=0`.\n",
      "2023-12-22 18:29:18.268350: I external/local_tsl/tsl/cuda/cudart_stub.cc:31] Could not find cuda drivers on your machine, GPU will not be used.\n",
      "2023-12-22 18:29:18.301254: E external/local_xla/xla/stream_executor/cuda/cuda_dnn.cc:9261] Unable to register cuDNN factory: Attempting to register factory for plugin cuDNN when one has already been registered\n",
      "2023-12-22 18:29:18.301285: E external/local_xla/xla/stream_executor/cuda/cuda_fft.cc:607] Unable to register cuFFT factory: Attempting to register factory for plugin cuFFT when one has already been registered\n",
      "2023-12-22 18:29:18.302560: E external/local_xla/xla/stream_executor/cuda/cuda_blas.cc:1515] Unable to register cuBLAS factory: Attempting to register factory for plugin cuBLAS when one has already been registered\n",
      "2023-12-22 18:29:18.308828: I external/local_tsl/tsl/cuda/cudart_stub.cc:31] Could not find cuda drivers on your machine, GPU will not be used.\n",
      "2023-12-22 18:29:18.309537: I tensorflow/core/platform/cpu_feature_guard.cc:182] This TensorFlow binary is optimized to use available CPU instructions in performance-critical operations.\n",
      "To enable the following instructions: AVX2 AVX_VNNI FMA, in other operations, rebuild TensorFlow with the appropriate compiler flags.\n",
      "2023-12-22 18:29:18.955540: W tensorflow/compiler/tf2tensorrt/utils/py_utils.cc:38] TF-TRT Warning: Could not find TensorRT\n"
     ]
    }
   ],
   "source": [
    "# Inport tensorflow\n",
    "import tensorflow as tf"
   ]
  },
  {
   "cell_type": "markdown",
   "metadata": {},
   "source": [
    "## Creating data to view and fit"
   ]
  },
  {
   "cell_type": "code",
   "execution_count": 2,
   "metadata": {},
   "outputs": [
    {
     "data": {
      "text/plain": [
       "<matplotlib.collections.PathCollection at 0x7f2b1dc12d40>"
      ]
     },
     "execution_count": 2,
     "metadata": {},
     "output_type": "execute_result"
    },
    {
     "data": {
      "image/png": "[encoded data removed]",
      "text/plain": [
       "<Figure size 640x480 with 1 Axes>"
      ]
     },
     "metadata": {},
     "output_type": "display_data"
    }
   ],
   "source": [
    "import numpy as np\n",
    "import matplotlib.pyplot as plt\n",
    "\n",
    "# Create features\n",
    "X = np.array([-7.0, -4.0, -1.0, 2.0, 5.0, 8.0, 11.0, 14.0])\n",
    "\n",
    "#Create labels\n",
    "y = np.array([3.0, 6.0, 9.0, 12.0, 15.0, 18.0, 21.0, 24.0])\n",
    "\n",
    "# Visualize it\n",
    "plt.scatter(X, y)"
   ]
  },
  {
   "cell_type": "markdown",
   "metadata": {},
   "source": [
    "## Input and output shapes"
   ]
  },
  {
   "cell_type": "code",
   "execution_count": 3,
   "metadata": {},
   "outputs": [
    {
     "data": {
      "text/plain": [
       "(<tf.Tensor: shape=(3,), dtype=string, numpy=array([b'bedroom', b'bathroom', b'garage'], dtype=object)>,\n",
       " <tf.Tensor: shape=(1,), dtype=int32, numpy=array([939700], dtype=int32)>)"
      ]
     },
     "execution_count": 3,
     "metadata": {},
     "output_type": "execute_result"
    }
   ],
   "source": [
    "# Create a demo tensor for our housing price prediction problem\n",
    "house_info = tf.constant([\"bedroom\", \"bathroom\", \"garage\"])\n",
    "house_price = tf.constant([939700])\n",
    "house_info, house_price"
   ]
  },
  {
   "cell_type": "code",
   "execution_count": 4,
   "metadata": {},
   "outputs": [
    {
     "data": {
      "text/plain": [
       "(-7.0, 3.0)"
      ]
     },
     "execution_count": 4,
     "metadata": {},
     "output_type": "execute_result"
    }
   ],
   "source": [
    "X[0], y[0]"
   ]
  },
  {
   "cell_type": "code",
   "execution_count": 5,
   "metadata": {},
   "outputs": [
    {
     "data": {
      "text/plain": [
       "((), ())"
      ]
     },
     "execution_count": 5,
     "metadata": {},
     "output_type": "execute_result"
    }
   ],
   "source": [
    "input_shape = X[0].shape\n",
    "output_shape = y[0].shape\n",
    "input_shape, output_shape"
   ]
  },
  {
   "cell_type": "code",
   "execution_count": 6,
   "metadata": {},
   "outputs": [
    {
     "data": {
      "text/plain": [
       "(<tf.Tensor: shape=(8,), dtype=float32, numpy=array([-7., -4., -1.,  2.,  5.,  8., 11., 14.], dtype=float32)>,\n",
       " <tf.Tensor: shape=(8,), dtype=float32, numpy=array([ 3.,  6.,  9., 12., 15., 18., 21., 24.], dtype=float32)>)"
      ]
     },
     "execution_count": 6,
     "metadata": {},
     "output_type": "execute_result"
    }
   ],
   "source": [
    "# Turn our NumPy arrays into tensors\n",
    "X = tf.constant(X, dtype=tf.float32)\n",
    "y = tf.constant(y, dtype=tf.float32)\n",
    "X, y"
   ]
  },
  {
   "cell_type": "code",
   "execution_count": 7,
   "metadata": {},
   "outputs": [
    {
     "data": {
      "text/plain": [
       "(TensorShape([]), TensorShape([]))"
      ]
     },
     "execution_count": 7,
     "metadata": {},
     "output_type": "execute_result"
    }
   ],
   "source": [
    "input_shape = X[0].shape\n",
    "output_shape = y[0].shape\n",
    "input_shape, output_shape"
   ]
  },
  {
   "cell_type": "code",
   "execution_count": 8,
   "metadata": {},
   "outputs": [
    {
     "data": {
      "text/plain": [
       "<matplotlib.collections.PathCollection at 0x7f2b1dc9f0d0>"
      ]
     },
     "execution_count": 8,
     "metadata": {},
     "output_type": "execute_result"
    },
    {
     "data": {
      "image/png": "[encoded data removed]",
      "text/plain": [
       "<Figure size 640x480 with 1 Axes>"
      ]
     },
     "metadata": {},
     "output_type": "display_data"
    }
   ],
   "source": [
    "plt.scatter(X, y)"
   ]
  },
  {
   "cell_type": "markdown",
   "metadata": {},
   "source": [
    "## Steps in modelling with TensorFlow\n",
    "1. **Creating a model** - define the input and output layers, as well as the hidden layers of a deep learning model\n",
    "\n",
    "2. **Compiling a model** - define the loss fuction (in other words, the function wich tells our model how wrong it is) and the optimizer (telss our model how to improve the patterns its learning) and evaluations metrics (what we can use to interpret the perfomance of our model)\n",
    "\n",
    "3. **Fitting a model** - letting the model try to find patterns between X & y (features and labels)."
   ]
  },
  {
   "cell_type": "code",
   "execution_count": 9,
   "metadata": {},
   "outputs": [
    {
     "name": "stdout",
     "output_type": "stream",
     "text": [
      "Epoch 1/5\n",
      "1/1 [==============================] - 0s 237ms/step - loss: 20.0130 - mae: 20.0130\n",
      "Epoch 2/5\n",
      "1/1 [==============================] - 0s 5ms/step - loss: 19.7318 - mae: 19.7318\n",
      "Epoch 3/5\n",
      "1/1 [==============================] - 0s 5ms/step - loss: 19.4505 - mae: 19.4505\n",
      "Epoch 4/5\n",
      "1/1 [==============================] - 0s 7ms/step - loss: 19.1693 - mae: 19.1693\n",
      "Epoch 5/5\n",
      "1/1 [==============================] - 0s 9ms/step - loss: 18.8880 - mae: 18.8880\n"
     ]
    },
    {
     "data": {
      "text/plain": [
       "<keras.src.callbacks.History at 0x7f2b1828e860>"
      ]
     },
     "execution_count": 9,
     "metadata": {},
     "output_type": "execute_result"
    }
   ],
   "source": [
    "# Set random seed\n",
    "tf.random.set_seed(42)\n",
    "\n",
    "# 1. Create a model using the Sequential API\n",
    "model = tf.keras.Sequential([\n",
    "    tf.keras.layers.Dense(1)\n",
    "])\n",
    "# model = tf.keras.Sequential()\n",
    "# model.add(tf.keras.layers.Dense(1))\n",
    "\n",
    "#2. Compile the model\n",
    "model.compile(loss=tf.keras.losses.mae, #mae is short for mean absolute error\n",
    "              optimizer=tf.keras.optimizers.SGD(), #sgd is short for stochastic gradient descent \n",
    "              metrics=[\"mae\"])\n",
    "\n",
    "#3. fit the model\n",
    "model.fit(tf.expand_dims(X, axis=-1), y, epochs=5)"
   ]
  },
  {
   "cell_type": "code",
   "execution_count": 10,
   "metadata": {},
   "outputs": [
    {
     "name": "stdout",
     "output_type": "stream",
     "text": [
      "1/1 [==============================] - 0s 83ms/step\n"
     ]
    },
    {
     "data": {
      "text/plain": [
       "array([[-19.018414]], dtype=float32)"
      ]
     },
     "execution_count": 10,
     "metadata": {},
     "output_type": "execute_result"
    }
   ],
   "source": [
    "model.predict([17.0])"
   ]
  },
  {
   "cell_type": "markdown",
   "metadata": {},
   "source": [
    "## Improving our model\n",
    "\n",
    "We can improve our model, by altering the steps we took to create a model.\n",
    "\n",
    "1. **Creating model** - here we might add more layers, increase the number of hidden units (all called neurons) within each of the hideen layers, change the activation function of each layer.\n",
    "\n",
    "2. **Compiling a model** - here we migth change the optimization function or perhaps the **learning rate** of the optimization function.\n",
    "\n",
    "3. **Fitting a model** - here we might fit a model for more epochs (leave it training for longer) or on more data (give the model more examples to learn from)"
   ]
  },
  {
   "cell_type": "code",
   "execution_count": 11,
   "metadata": {},
   "outputs": [
    {
     "name": "stdout",
     "output_type": "stream",
     "text": [
      "Epoch 1/100\n",
      "1/1 [==============================] - 0s 170ms/step - loss: 13.6729 - mae: 13.6729\n",
      "Epoch 2/100\n",
      "1/1 [==============================] - 0s 5ms/step - loss: 13.5404 - mae: 13.5404\n",
      "Epoch 3/100\n",
      "1/1 [==============================] - 0s 4ms/step - loss: 13.4079 - mae: 13.4079\n",
      "Epoch 4/100\n",
      "1/1 [==============================] - 0s 7ms/step - loss: 13.2754 - mae: 13.2754\n",
      "Epoch 5/100\n",
      "1/1 [==============================] - 0s 5ms/step - loss: 13.1429 - mae: 13.1429\n",
      "Epoch 6/100\n",
      "1/1 [==============================] - 0s 5ms/step - loss: 13.0104 - mae: 13.0104\n",
      "Epoch 7/100\n",
      "1/1 [==============================] - 0s 6ms/step - loss: 12.8779 - mae: 12.8779\n",
      "Epoch 8/100\n",
      "1/1 [==============================] - 0s 6ms/step - loss: 12.7454 - mae: 12.7454\n",
      "Epoch 9/100\n",
      "1/1 [==============================] - 0s 6ms/step - loss: 12.6129 - mae: 12.6129\n",
      "Epoch 10/100\n",
      "1/1 [==============================] - 0s 7ms/step - loss: 12.4804 - mae: 12.4804\n",
      "Epoch 11/100\n",
      "1/1 [==============================] - 0s 6ms/step - loss: 12.3479 - mae: 12.3479\n",
      "Epoch 12/100\n",
      "1/1 [==============================] - 0s 5ms/step - loss: 12.2154 - mae: 12.2154\n",
      "Epoch 13/100\n",
      "1/1 [==============================] - 0s 9ms/step - loss: 12.0829 - mae: 12.0829\n",
      "Epoch 14/100\n",
      "1/1 [==============================] - 0s 9ms/step - loss: 11.9504 - mae: 11.9504\n",
      "Epoch 15/100\n",
      "1/1 [==============================] - 0s 10ms/step - loss: 11.8179 - mae: 11.8179\n",
      "Epoch 16/100\n",
      "1/1 [==============================] - 0s 7ms/step - loss: 11.6854 - mae: 11.6854\n",
      "Epoch 17/100\n",
      "1/1 [==============================] - 0s 10ms/step - loss: 11.5529 - mae: 11.5529\n",
      "Epoch 18/100\n",
      "1/1 [==============================] - 0s 8ms/step - loss: 11.4204 - mae: 11.4204\n",
      "Epoch 19/100\n",
      "1/1 [==============================] - 0s 7ms/step - loss: 11.2879 - mae: 11.2879\n",
      "Epoch 20/100\n",
      "1/1 [==============================] - 0s 12ms/step - loss: 11.1554 - mae: 11.1554\n",
      "Epoch 21/100\n",
      "1/1 [==============================] - 0s 7ms/step - loss: 11.0229 - mae: 11.0229\n",
      "Epoch 22/100\n",
      "1/1 [==============================] - 0s 12ms/step - loss: 10.8904 - mae: 10.8904\n",
      "Epoch 23/100\n",
      "1/1 [==============================] - 0s 11ms/step - loss: 10.7579 - mae: 10.7579\n",
      "Epoch 24/100\n",
      "1/1 [==============================] - 0s 10ms/step - loss: 10.6254 - mae: 10.6254\n",
      "Epoch 25/100\n",
      "1/1 [==============================] - 0s 10ms/step - loss: 10.4929 - mae: 10.4929\n",
      "Epoch 26/100\n",
      "1/1 [==============================] - 0s 8ms/step - loss: 10.3604 - mae: 10.3604\n",
      "Epoch 27/100\n",
      "1/1 [==============================] - 0s 7ms/step - loss: 10.2279 - mae: 10.2279\n",
      "Epoch 28/100\n",
      "1/1 [==============================] - 0s 10ms/step - loss: 10.0954 - mae: 10.0954\n",
      "Epoch 29/100\n",
      "1/1 [==============================] - 0s 11ms/step - loss: 9.9629 - mae: 9.9629\n",
      "Epoch 30/100\n",
      "1/1 [==============================] - 0s 11ms/step - loss: 9.8304 - mae: 9.8304\n",
      "Epoch 31/100\n",
      "1/1 [==============================] - 0s 10ms/step - loss: 9.6979 - mae: 9.6979\n",
      "Epoch 32/100\n",
      "1/1 [==============================] - 0s 10ms/step - loss: 9.5654 - mae: 9.5654\n",
      "Epoch 33/100\n",
      "1/1 [==============================] - 0s 10ms/step - loss: 9.4329 - mae: 9.4329\n",
      "Epoch 34/100\n",
      "1/1 [==============================] - 0s 11ms/step - loss: 9.3004 - mae: 9.3004\n",
      "Epoch 35/100\n",
      "1/1 [==============================] - 0s 8ms/step - loss: 9.1679 - mae: 9.1679\n",
      "Epoch 36/100\n",
      "1/1 [==============================] - 0s 6ms/step - loss: 9.0354 - mae: 9.0354\n",
      "Epoch 37/100\n",
      "1/1 [==============================] - 0s 7ms/step - loss: 8.9029 - mae: 8.9029\n",
      "Epoch 38/100\n",
      "1/1 [==============================] - 0s 8ms/step - loss: 8.7704 - mae: 8.7704\n",
      "Epoch 39/100\n",
      "1/1 [==============================] - 0s 8ms/step - loss: 8.6379 - mae: 8.6379\n",
      "Epoch 40/100\n",
      "1/1 [==============================] - 0s 9ms/step - loss: 8.5054 - mae: 8.5054\n",
      "Epoch 41/100\n",
      "1/1 [==============================] - 0s 7ms/step - loss: 8.3729 - mae: 8.3729\n",
      "Epoch 42/100\n",
      "1/1 [==============================] - 0s 9ms/step - loss: 8.2404 - mae: 8.2404\n",
      "Epoch 43/100\n",
      "1/1 [==============================] - 0s 7ms/step - loss: 8.1079 - mae: 8.1079\n",
      "Epoch 44/100\n",
      "1/1 [==============================] - 0s 6ms/step - loss: 7.9754 - mae: 7.9754\n",
      "Epoch 45/100\n",
      "1/1 [==============================] - 0s 8ms/step - loss: 7.8429 - mae: 7.8429\n",
      "Epoch 46/100\n",
      "1/1 [==============================] - 0s 7ms/step - loss: 7.7104 - mae: 7.7104\n",
      "Epoch 47/100\n",
      "1/1 [==============================] - 0s 7ms/step - loss: 7.5779 - mae: 7.5779\n",
      "Epoch 48/100\n",
      "1/1 [==============================] - 0s 7ms/step - loss: 7.4454 - mae: 7.4454\n",
      "Epoch 49/100\n",
      "1/1 [==============================] - 0s 8ms/step - loss: 7.3129 - mae: 7.3129\n",
      "Epoch 50/100\n",
      "1/1 [==============================] - 0s 9ms/step - loss: 7.1804 - mae: 7.1804\n",
      "Epoch 51/100\n",
      "1/1 [==============================] - 0s 7ms/step - loss: 7.1250 - mae: 7.1250\n",
      "Epoch 52/100\n",
      "1/1 [==============================] - 0s 7ms/step - loss: 7.1194 - mae: 7.1194\n",
      "Epoch 53/100\n",
      "1/1 [==============================] - 0s 6ms/step - loss: 7.1137 - mae: 7.1137\n",
      "Epoch 54/100\n",
      "1/1 [==============================] - 0s 9ms/step - loss: 7.1081 - mae: 7.1081\n",
      "Epoch 55/100\n",
      "1/1 [==============================] - 0s 8ms/step - loss: 7.1025 - mae: 7.1025\n",
      "Epoch 56/100\n",
      "1/1 [==============================] - 0s 9ms/step - loss: 7.0969 - mae: 7.0969\n",
      "Epoch 57/100\n",
      "1/1 [==============================] - 0s 9ms/step - loss: 7.0913 - mae: 7.0913\n",
      "Epoch 58/100\n",
      "1/1 [==============================] - 0s 10ms/step - loss: 7.0856 - mae: 7.0856\n",
      "Epoch 59/100\n",
      "1/1 [==============================] - 0s 6ms/step - loss: 7.0800 - mae: 7.0800\n",
      "Epoch 60/100\n",
      "1/1 [==============================] - 0s 9ms/step - loss: 7.0744 - mae: 7.0744\n",
      "Epoch 61/100\n",
      "1/1 [==============================] - 0s 7ms/step - loss: 7.0687 - mae: 7.0687\n",
      "Epoch 62/100\n",
      "1/1 [==============================] - 0s 9ms/step - loss: 7.0631 - mae: 7.0631\n",
      "Epoch 63/100\n",
      "1/1 [==============================] - 0s 8ms/step - loss: 7.0575 - mae: 7.0575\n",
      "Epoch 64/100\n",
      "1/1 [==============================] - 0s 10ms/step - loss: 7.0519 - mae: 7.0519\n",
      "Epoch 65/100\n",
      "1/1 [==============================] - 0s 10ms/step - loss: 7.0463 - mae: 7.0463\n",
      "Epoch 66/100\n",
      "1/1 [==============================] - 0s 9ms/step - loss: 7.0406 - mae: 7.0406\n",
      "Epoch 67/100\n",
      "1/1 [==============================] - 0s 18ms/step - loss: 7.0350 - mae: 7.0350\n",
      "Epoch 68/100\n",
      "1/1 [==============================] - 0s 13ms/step - loss: 7.0294 - mae: 7.0294\n",
      "Epoch 69/100\n",
      "1/1 [==============================] - 0s 12ms/step - loss: 7.0237 - mae: 7.0237\n",
      "Epoch 70/100\n",
      "1/1 [==============================] - 0s 9ms/step - loss: 7.0181 - mae: 7.0181\n",
      "Epoch 71/100\n",
      "1/1 [==============================] - 0s 12ms/step - loss: 7.0125 - mae: 7.0125\n",
      "Epoch 72/100\n",
      "1/1 [==============================] - 0s 7ms/step - loss: 7.0069 - mae: 7.0069\n",
      "Epoch 73/100\n",
      "1/1 [==============================] - 0s 11ms/step - loss: 7.0013 - mae: 7.0013\n",
      "Epoch 74/100\n",
      "1/1 [==============================] - 0s 8ms/step - loss: 6.9956 - mae: 6.9956\n",
      "Epoch 75/100\n",
      "1/1 [==============================] - 0s 11ms/step - loss: 6.9900 - mae: 6.9900\n",
      "Epoch 76/100\n",
      "1/1 [==============================] - 0s 7ms/step - loss: 6.9844 - mae: 6.9844\n",
      "Epoch 77/100\n",
      "1/1 [==============================] - 0s 19ms/step - loss: 6.9788 - mae: 6.9788\n",
      "Epoch 78/100\n",
      "1/1 [==============================] - 0s 10ms/step - loss: 6.9731 - mae: 6.9731\n",
      "Epoch 79/100\n",
      "1/1 [==============================] - 0s 10ms/step - loss: 6.9675 - mae: 6.9675\n",
      "Epoch 80/100\n",
      "1/1 [==============================] - 0s 11ms/step - loss: 6.9619 - mae: 6.9619\n",
      "Epoch 81/100\n",
      "1/1 [==============================] - 0s 13ms/step - loss: 6.9563 - mae: 6.9563\n",
      "Epoch 82/100\n",
      "1/1 [==============================] - 0s 8ms/step - loss: 6.9506 - mae: 6.9506\n",
      "Epoch 83/100\n",
      "1/1 [==============================] - 0s 10ms/step - loss: 6.9450 - mae: 6.9450\n",
      "Epoch 84/100\n",
      "1/1 [==============================] - 0s 8ms/step - loss: 6.9394 - mae: 6.9394\n",
      "Epoch 85/100\n",
      "1/1 [==============================] - 0s 7ms/step - loss: 6.9338 - mae: 6.9338\n",
      "Epoch 86/100\n",
      "1/1 [==============================] - 0s 8ms/step - loss: 6.9281 - mae: 6.9281\n",
      "Epoch 87/100\n",
      "1/1 [==============================] - 0s 12ms/step - loss: 6.9225 - mae: 6.9225\n",
      "Epoch 88/100\n",
      "1/1 [==============================] - 0s 10ms/step - loss: 6.9169 - mae: 6.9169\n",
      "Epoch 89/100\n",
      "1/1 [==============================] - 0s 8ms/step - loss: 6.9113 - mae: 6.9113\n",
      "Epoch 90/100\n",
      "1/1 [==============================] - 0s 11ms/step - loss: 6.9056 - mae: 6.9056\n",
      "Epoch 91/100\n",
      "1/1 [==============================] - 0s 9ms/step - loss: 6.9000 - mae: 6.9000\n",
      "Epoch 92/100\n",
      "1/1 [==============================] - 0s 10ms/step - loss: 6.8944 - mae: 6.8944\n",
      "Epoch 93/100\n",
      "1/1 [==============================] - 0s 8ms/step - loss: 6.8888 - mae: 6.8888\n",
      "Epoch 94/100\n",
      "1/1 [==============================] - 0s 7ms/step - loss: 6.8831 - mae: 6.8831\n",
      "Epoch 95/100\n",
      "1/1 [==============================] - 0s 6ms/step - loss: 6.8775 - mae: 6.8775\n",
      "Epoch 96/100\n",
      "1/1 [==============================] - 0s 6ms/step - loss: 6.8719 - mae: 6.8719\n",
      "Epoch 97/100\n",
      "1/1 [==============================] - 0s 6ms/step - loss: 6.8663 - mae: 6.8663\n",
      "Epoch 98/100\n",
      "1/1 [==============================] - 0s 6ms/step - loss: 6.8606 - mae: 6.8606\n",
      "Epoch 99/100\n",
      "1/1 [==============================] - 0s 6ms/step - loss: 6.8550 - mae: 6.8550\n",
      "Epoch 100/100\n",
      "1/1 [==============================] - 0s 5ms/step - loss: 6.8494 - mae: 6.8494\n"
     ]
    },
    {
     "data": {
      "text/plain": [
       "<keras.src.callbacks.History at 0x7f2b107d4790>"
      ]
     },
     "execution_count": 11,
     "metadata": {},
     "output_type": "execute_result"
    }
   ],
   "source": [
    "# Let's rebuild our model\n",
    "\n",
    "# 1. Create the model\n",
    "model = tf.keras.Sequential([\n",
    "    tf.keras.layers.Dense(1)\n",
    "])\n",
    "\n",
    "# 2. Compile the model\n",
    "model.compile(loss=tf.keras.losses.mae,\n",
    "              optimizer=tf.keras.optimizers.SGD(),\n",
    "              metrics=[\"mae\"])\n",
    "\n",
    "# 3. Fit the model (this time we'll train for longer)\n",
    "model.fit(tf.expand_dims(X, axis=-1), y, epochs=100)"
   ]
  },
  {
   "cell_type": "code",
   "execution_count": 12,
   "metadata": {},
   "outputs": [
    {
     "name": "stdout",
     "output_type": "stream",
     "text": [
      "1/1 [==============================] - 0s 67ms/step\n"
     ]
    },
    {
     "data": {
      "text/plain": [
       "array([[29.78509]], dtype=float32)"
      ]
     },
     "execution_count": 12,
     "metadata": {},
     "output_type": "execute_result"
    }
   ],
   "source": [
    "model.predict([17.0])"
   ]
  },
  {
   "cell_type": "code",
   "execution_count": 13,
   "metadata": {},
   "outputs": [
    {
     "name": "stdout",
     "output_type": "stream",
     "text": [
      "Epoch 1/100\n",
      "1/1 [==============================] - 0s 263ms/step - loss: 13.5491 - mae: 13.5491\n",
      "Epoch 2/100\n",
      "1/1 [==============================] - 0s 6ms/step - loss: 12.9974 - mae: 12.9974\n",
      "Epoch 3/100\n",
      "1/1 [==============================] - 0s 8ms/step - loss: 12.4609 - mae: 12.4609\n",
      "Epoch 4/100\n",
      "1/1 [==============================] - 0s 6ms/step - loss: 11.9163 - mae: 11.9163\n",
      "Epoch 5/100\n",
      "1/1 [==============================] - 0s 6ms/step - loss: 11.3624 - mae: 11.3624\n",
      "Epoch 6/100\n",
      "1/1 [==============================] - 0s 7ms/step - loss: 10.7946 - mae: 10.7946\n",
      "Epoch 7/100\n",
      "1/1 [==============================] - 0s 8ms/step - loss: 10.2082 - mae: 10.2082\n",
      "Epoch 8/100\n",
      "1/1 [==============================] - 0s 9ms/step - loss: 9.6066 - mae: 9.6066\n",
      "Epoch 9/100\n",
      "1/1 [==============================] - 0s 7ms/step - loss: 9.0201 - mae: 9.0201\n",
      "Epoch 10/100\n",
      "1/1 [==============================] - 0s 8ms/step - loss: 8.4127 - mae: 8.4127\n",
      "Epoch 11/100\n",
      "1/1 [==============================] - 0s 10ms/step - loss: 7.7654 - mae: 7.7654\n",
      "Epoch 12/100\n",
      "1/1 [==============================] - 0s 11ms/step - loss: 7.0681 - mae: 7.0681\n",
      "Epoch 13/100\n",
      "1/1 [==============================] - 0s 9ms/step - loss: 6.3164 - mae: 6.3164\n",
      "Epoch 14/100\n",
      "1/1 [==============================] - 0s 6ms/step - loss: 5.5029 - mae: 5.5029\n",
      "Epoch 15/100\n",
      "1/1 [==============================] - 0s 9ms/step - loss: 4.6201 - mae: 4.6201\n",
      "Epoch 16/100\n",
      "1/1 [==============================] - 0s 6ms/step - loss: 4.0332 - mae: 4.0332\n",
      "Epoch 17/100\n",
      "1/1 [==============================] - 0s 6ms/step - loss: 3.9353 - mae: 3.9353\n",
      "Epoch 18/100\n",
      "1/1 [==============================] - 0s 8ms/step - loss: 3.9429 - mae: 3.9429\n",
      "Epoch 19/100\n",
      "1/1 [==============================] - 0s 7ms/step - loss: 3.9155 - mae: 3.9155\n",
      "Epoch 20/100\n",
      "1/1 [==============================] - 0s 8ms/step - loss: 3.9583 - mae: 3.9583\n",
      "Epoch 21/100\n",
      "1/1 [==============================] - 0s 6ms/step - loss: 3.8914 - mae: 3.8914\n",
      "Epoch 22/100\n",
      "1/1 [==============================] - 0s 6ms/step - loss: 3.9648 - mae: 3.9648\n",
      "Epoch 23/100\n",
      "1/1 [==============================] - 0s 5ms/step - loss: 3.8971 - mae: 3.8971\n",
      "Epoch 24/100\n",
      "1/1 [==============================] - 0s 6ms/step - loss: 3.9388 - mae: 3.9388\n",
      "Epoch 25/100\n",
      "1/1 [==============================] - 0s 6ms/step - loss: 3.9037 - mae: 3.9037\n",
      "Epoch 26/100\n",
      "1/1 [==============================] - 0s 7ms/step - loss: 3.9128 - mae: 3.9128\n",
      "Epoch 27/100\n",
      "1/1 [==============================] - 0s 5ms/step - loss: 3.9152 - mae: 3.9152\n",
      "Epoch 28/100\n",
      "1/1 [==============================] - 0s 7ms/step - loss: 3.8948 - mae: 3.8948\n",
      "Epoch 29/100\n",
      "1/1 [==============================] - 0s 6ms/step - loss: 3.9259 - mae: 3.9259\n",
      "Epoch 30/100\n",
      "1/1 [==============================] - 0s 7ms/step - loss: 3.8685 - mae: 3.8685\n",
      "Epoch 31/100\n",
      "1/1 [==============================] - 0s 5ms/step - loss: 3.9327 - mae: 3.9327\n",
      "Epoch 32/100\n",
      "1/1 [==============================] - 0s 7ms/step - loss: 3.8655 - mae: 3.8655\n",
      "Epoch 33/100\n",
      "1/1 [==============================] - 0s 6ms/step - loss: 3.9153 - mae: 3.9153\n",
      "Epoch 34/100\n",
      "1/1 [==============================] - 0s 6ms/step - loss: 3.8723 - mae: 3.8723\n",
      "Epoch 35/100\n",
      "1/1 [==============================] - 0s 6ms/step - loss: 3.8931 - mae: 3.8931\n",
      "Epoch 36/100\n",
      "1/1 [==============================] - 0s 6ms/step - loss: 3.8879 - mae: 3.8879\n",
      "Epoch 37/100\n",
      "1/1 [==============================] - 0s 7ms/step - loss: 3.8708 - mae: 3.8708\n",
      "Epoch 38/100\n",
      "1/1 [==============================] - 0s 6ms/step - loss: 3.8948 - mae: 3.8948\n",
      "Epoch 39/100\n",
      "1/1 [==============================] - 0s 6ms/step - loss: 3.8442 - mae: 3.8442\n",
      "Epoch 40/100\n",
      "1/1 [==============================] - 0s 7ms/step - loss: 3.9018 - mae: 3.9018\n",
      "Epoch 41/100\n",
      "1/1 [==============================] - 0s 6ms/step - loss: 3.8350 - mae: 3.8350\n",
      "Epoch 42/100\n",
      "1/1 [==============================] - 0s 7ms/step - loss: 3.8906 - mae: 3.8906\n",
      "Epoch 43/100\n",
      "1/1 [==============================] - 0s 6ms/step - loss: 3.8444 - mae: 3.8444\n",
      "Epoch 44/100\n",
      "1/1 [==============================] - 0s 7ms/step - loss: 3.8723 - mae: 3.8723\n",
      "Epoch 45/100\n",
      "1/1 [==============================] - 0s 6ms/step - loss: 3.8577 - mae: 3.8577\n",
      "Epoch 46/100\n",
      "1/1 [==============================] - 0s 6ms/step - loss: 3.8455 - mae: 3.8455\n",
      "Epoch 47/100\n",
      "1/1 [==============================] - 0s 6ms/step - loss: 3.8648 - mae: 3.8648\n",
      "Epoch 48/100\n",
      "1/1 [==============================] - 0s 8ms/step - loss: 3.8187 - mae: 3.8187\n",
      "Epoch 49/100\n",
      "1/1 [==============================] - 0s 7ms/step - loss: 3.8721 - mae: 3.8721\n",
      "Epoch 50/100\n",
      "1/1 [==============================] - 0s 8ms/step - loss: 3.8056 - mae: 3.8056\n",
      "Epoch 51/100\n",
      "1/1 [==============================] - 0s 7ms/step - loss: 3.8662 - mae: 3.8662\n",
      "Epoch 52/100\n",
      "1/1 [==============================] - 0s 7ms/step - loss: 3.8215 - mae: 3.8215\n",
      "Epoch 53/100\n",
      "1/1 [==============================] - 0s 9ms/step - loss: 3.8459 - mae: 3.8459\n",
      "Epoch 54/100\n",
      "1/1 [==============================] - 0s 10ms/step - loss: 3.8286 - mae: 3.8286\n",
      "Epoch 55/100\n",
      "1/1 [==============================] - 0s 7ms/step - loss: 3.8189 - mae: 3.8189\n",
      "Epoch 56/100\n",
      "1/1 [==============================] - 0s 9ms/step - loss: 3.8360 - mae: 3.8360\n",
      "Epoch 57/100\n",
      "1/1 [==============================] - 0s 9ms/step - loss: 3.7918 - mae: 3.7918\n",
      "Epoch 58/100\n",
      "1/1 [==============================] - 0s 7ms/step - loss: 3.8435 - mae: 3.8435\n",
      "Epoch 59/100\n",
      "1/1 [==============================] - 0s 10ms/step - loss: 3.7773 - mae: 3.7773\n",
      "Epoch 60/100\n",
      "1/1 [==============================] - 0s 9ms/step - loss: 3.8459 - mae: 3.8459\n",
      "Epoch 61/100\n",
      "1/1 [==============================] - 0s 10ms/step - loss: 3.7933 - mae: 3.7933\n",
      "Epoch 62/100\n",
      "1/1 [==============================] - 0s 14ms/step - loss: 3.8184 - mae: 3.8184\n",
      "Epoch 63/100\n",
      "1/1 [==============================] - 0s 23ms/step - loss: 3.8007 - mae: 3.8007\n",
      "Epoch 64/100\n",
      "1/1 [==============================] - 0s 10ms/step - loss: 3.7910 - mae: 3.7910\n",
      "Epoch 65/100\n",
      "1/1 [==============================] - 0s 8ms/step - loss: 3.8082 - mae: 3.8082\n",
      "Epoch 66/100\n",
      "1/1 [==============================] - 0s 9ms/step - loss: 3.7636 - mae: 3.7636\n",
      "Epoch 67/100\n",
      "1/1 [==============================] - 0s 7ms/step - loss: 3.8159 - mae: 3.8159\n",
      "Epoch 68/100\n",
      "1/1 [==============================] - 0s 11ms/step - loss: 3.7567 - mae: 3.7567\n",
      "Epoch 69/100\n",
      "1/1 [==============================] - 0s 10ms/step - loss: 3.8169 - mae: 3.8169\n",
      "Epoch 70/100\n",
      "1/1 [==============================] - 0s 12ms/step - loss: 3.7662 - mae: 3.7662\n",
      "Epoch 71/100\n",
      "1/1 [==============================] - 0s 10ms/step - loss: 3.7895 - mae: 3.7895\n",
      "Epoch 72/100\n",
      "1/1 [==============================] - 0s 10ms/step - loss: 3.7738 - mae: 3.7738\n",
      "Epoch 73/100\n",
      "1/1 [==============================] - 0s 8ms/step - loss: 3.7619 - mae: 3.7619\n",
      "Epoch 74/100\n",
      "1/1 [==============================] - 0s 9ms/step - loss: 3.7815 - mae: 3.7815\n",
      "Epoch 75/100\n",
      "1/1 [==============================] - 0s 11ms/step - loss: 3.7343 - mae: 3.7343\n",
      "Epoch 76/100\n",
      "1/1 [==============================] - 0s 11ms/step - loss: 3.7940 - mae: 3.7940\n",
      "Epoch 77/100\n",
      "1/1 [==============================] - 0s 11ms/step - loss: 3.7324 - mae: 3.7324\n",
      "Epoch 78/100\n",
      "1/1 [==============================] - 0s 9ms/step - loss: 3.7872 - mae: 3.7872\n",
      "Epoch 79/100\n",
      "1/1 [==============================] - 0s 9ms/step - loss: 3.7400 - mae: 3.7400\n",
      "Epoch 80/100\n",
      "1/1 [==============================] - 0s 9ms/step - loss: 3.7594 - mae: 3.7594\n",
      "Epoch 81/100\n",
      "1/1 [==============================] - 0s 8ms/step - loss: 3.7478 - mae: 3.7478\n",
      "Epoch 82/100\n",
      "1/1 [==============================] - 0s 9ms/step - loss: 3.7316 - mae: 3.7316\n",
      "Epoch 83/100\n",
      "1/1 [==============================] - 0s 10ms/step - loss: 3.7559 - mae: 3.7559\n",
      "Epoch 84/100\n",
      "1/1 [==============================] - 0s 8ms/step - loss: 3.7065 - mae: 3.7065\n",
      "Epoch 85/100\n",
      "1/1 [==============================] - 0s 9ms/step - loss: 3.7726 - mae: 3.7726\n",
      "Epoch 86/100\n",
      "1/1 [==============================] - 0s 9ms/step - loss: 3.7070 - mae: 3.7070\n",
      "Epoch 87/100\n",
      "1/1 [==============================] - 0s 11ms/step - loss: 3.7562 - mae: 3.7562\n",
      "Epoch 88/100\n",
      "1/1 [==============================] - 0s 9ms/step - loss: 3.7149 - mae: 3.7149\n",
      "Epoch 89/100\n",
      "1/1 [==============================] - 0s 10ms/step - loss: 3.7281 - mae: 3.7281\n",
      "Epoch 90/100\n",
      "1/1 [==============================] - 0s 12ms/step - loss: 3.7230 - mae: 3.7230\n",
      "Epoch 91/100\n",
      "1/1 [==============================] - 0s 18ms/step - loss: 3.7000 - mae: 3.7000\n",
      "Epoch 92/100\n",
      "1/1 [==============================] - 0s 15ms/step - loss: 3.7315 - mae: 3.7315\n",
      "Epoch 93/100\n",
      "1/1 [==============================] - 0s 10ms/step - loss: 3.6798 - mae: 3.6798\n",
      "Epoch 94/100\n",
      "1/1 [==============================] - 0s 10ms/step - loss: 3.7480 - mae: 3.7480\n",
      "Epoch 95/100\n",
      "1/1 [==============================] - 0s 9ms/step - loss: 3.6827 - mae: 3.6827\n",
      "Epoch 96/100\n",
      "1/1 [==============================] - 0s 10ms/step - loss: 3.7238 - mae: 3.7238\n",
      "Epoch 97/100\n",
      "1/1 [==============================] - 0s 12ms/step - loss: 3.6907 - mae: 3.6907\n",
      "Epoch 98/100\n",
      "1/1 [==============================] - 0s 11ms/step - loss: 3.6955 - mae: 3.6955\n",
      "Epoch 99/100\n",
      "1/1 [==============================] - 0s 11ms/step - loss: 3.6990 - mae: 3.6990\n",
      "Epoch 100/100\n",
      "1/1 [==============================] - 0s 8ms/step - loss: 3.6670 - mae: 3.6670\n"
     ]
    },
    {
     "data": {
      "text/plain": [
       "<keras.src.callbacks.History at 0x7f2b106b33a0>"
      ]
     },
     "execution_count": 13,
     "metadata": {},
     "output_type": "execute_result"
    }
   ],
   "source": [
    "# Let's see if we can make anoter to improve our model\n",
    "\n",
    "# 1. Create the model (this time with an extra hidden layer with 100 hiden units)\n",
    "model = tf.keras.Sequential([\n",
    "    tf.keras.layers.Dense(100, activation=\"relu\"),\n",
    "    tf.keras.layers.Dense(1)\n",
    "])\n",
    "\n",
    "# 2. Compile the model\n",
    "model.compile(loss=\"mae\",\n",
    "              optimizer=tf.keras.optimizers.SGD(),\n",
    "              metrics=[\"mae\"])\n",
    "\n",
    "# 3. Fit the model\n",
    "model.fit(tf.expand_dims(X, axis=-1), y, epochs=100)"
   ]
  },
  {
   "cell_type": "code",
   "execution_count": 14,
   "metadata": {},
   "outputs": [
    {
     "name": "stdout",
     "output_type": "stream",
     "text": [
      "1/1 [==============================] - 0s 77ms/step\n"
     ]
    },
    {
     "data": {
      "text/plain": [
       "array([[32.788815]], dtype=float32)"
      ]
     },
     "execution_count": 14,
     "metadata": {},
     "output_type": "execute_result"
    }
   ],
   "source": [
    "model.predict([17.0])"
   ]
  },
  {
   "cell_type": "code",
   "execution_count": null,
   "metadata": {},
   "outputs": [],
   "source": [
    "# Keep improving\n",
    "\n",
    "# 1. Create the model \n",
    "model = tf.keras.Sequential([\n",
    "    tf.keras.layers.Dense(50)\n",
    "])"
   ]
  }
 ],
 "metadata": {
  "kernelspec": {
   "display_name": "Python 3",
   "language": "python",
   "name": "python3"
  },
  "language_info": {
   "codemirror_mode": {
    "name": "ipython",
    "version": 3
   },
   "file_extension": ".py",
   "mimetype": "text/x-python",
   "name": "python",
   "nbconvert_exporter": "python",
   "pygments_lexer": "ipython3",
   "version": "3.10.12"
  }
 },
 "nbformat": 4,
 "nbformat_minor": 2
}
