{
  "cells": [
    {
      "cell_type": "markdown",
      "metadata": {
        "id": "UmB-hVbJee72"
      },
      "source": [
        "# Introductions to Regression with Neural Networks in tensorflow\n",
        "\n",
        "There are may definitios for a regression problem but in our case, we're going to simplify it: predicting a numerical variable based on some other combination of variables, even shorter... predicting a number."
      ]
    },
    {
      "cell_type": "code",
      "execution_count": null,
      "metadata": {
        "id": "h6DOuSHZee77"
      },
      "outputs": [],
      "source": [
        "# Import tensorflow\n",
        "import tensorflow as tf"
      ]
    },
    {
      "cell_type": "markdown",
      "metadata": {
        "id": "s0UNfadlee7-"
      },
      "source": [
        "## Creating data to view and fit"
      ]
    },
    {
      "cell_type": "code",
      "execution_count": null,
      "metadata": {
        "colab": {
          "base_uri": "https://localhost:8080/",
          "height": 452
        },
        "id": "EFPljL_lee7-",
        "outputId": "9f4bb4ea-0f72-4bea-eda8-baf0fce38b65"
      },
      "outputs": [
        {
          "data": {
            "text/plain": [
              "<matplotlib.collections.PathCollection at 0x797b6e088760>"
            ]
          },
          "execution_count": 2,
          "metadata": {},
          "output_type": "execute_result"
        },
        {
          "data": {
            "image/png": "[encoded data removed]",
            "text/plain": [
              "<Figure size 640x480 with 1 Axes>"
            ]
          },
          "metadata": {},
          "output_type": "display_data"
        }
      ],
      "source": [
        "import numpy as np\n",
        "import matplotlib.pyplot as plt\n",
        "\n",
        "# Create features\n",
        "X = np.array([-7.0, -4.0, -1.0, 2.0, 5.0, 8.0, 11.0, 14.0])\n",
        "\n",
        "#Create labels\n",
        "y = np.array([3.0, 6.0, 9.0, 12.0, 15.0, 18.0, 21.0, 24.0])\n",
        "\n",
        "# Visualize it\n",
        "plt.scatter(X, y)"
      ]
    },
    {
      "cell_type": "markdown",
      "metadata": {
        "id": "uFJZ7A3qee7_"
      },
      "source": [
        "## Input and output shapes"
      ]
    },
    {
      "cell_type": "code",
      "execution_count": null,
      "metadata": {
        "colab": {
          "base_uri": "https://localhost:8080/"
        },
        "id": "pY7TvX2Jee7_",
        "outputId": "179dfbd2-b216-40cc-f5c3-b324d0365d49"
      },
      "outputs": [
        {
          "data": {
            "text/plain": [
              "(<tf.Tensor: shape=(3,), dtype=string, numpy=array([b'bedroom', b'bathroom', b'garage'], dtype=object)>,\n",
              " <tf.Tensor: shape=(1,), dtype=int32, numpy=array([939700], dtype=int32)>)"
            ]
          },
          "execution_count": 3,
          "metadata": {},
          "output_type": "execute_result"
        }
      ],
      "source": [
        "# Create a demo tensor for our housing price prediction problem\n",
        "house_info = tf.constant([\"bedroom\", \"bathroom\", \"garage\"])\n",
        "house_price = tf.constant([939700])\n",
        "house_info, house_price"
      ]
    },
    {
      "cell_type": "code",
      "execution_count": null,
      "metadata": {
        "colab": {
          "base_uri": "https://localhost:8080/"
        },
        "id": "qfxnbE9bee7_",
        "outputId": "f33aa126-5c72-4c61-fcac-bbea6749824e"
      },
      "outputs": [
        {
          "data": {
            "text/plain": [
              "(-7.0, 3.0)"
            ]
          },
          "execution_count": 4,
          "metadata": {},
          "output_type": "execute_result"
        }
      ],
      "source": [
        "X[0], y[0]"
      ]
    },
    {
      "cell_type": "code",
      "execution_count": null,
      "metadata": {
        "colab": {
          "base_uri": "https://localhost:8080/"
        },
        "id": "9_ui3LdCee8A",
        "outputId": "5e3a4479-0402-4435-a646-b03bf1514071"
      },
      "outputs": [
        {
          "data": {
            "text/plain": [
              "((), ())"
            ]
          },
          "execution_count": 5,
          "metadata": {},
          "output_type": "execute_result"
        }
      ],
      "source": [
        "input_shape = X[0].shape\n",
        "output_shape = y[0].shape\n",
        "input_shape, output_shape"
      ]
    },
    {
      "cell_type": "code",
      "execution_count": null,
      "metadata": {
        "colab": {
          "base_uri": "https://localhost:8080/"
        },
        "id": "UP2T0DVfee8A",
        "outputId": "c2e2dfd5-50de-4e05-c124-a6fc5c85e074"
      },
      "outputs": [
        {
          "data": {
            "text/plain": [
              "(<tf.Tensor: shape=(8,), dtype=float32, numpy=array([-7., -4., -1.,  2.,  5.,  8., 11., 14.], dtype=float32)>,\n",
              " <tf.Tensor: shape=(8,), dtype=float32, numpy=array([ 3.,  6.,  9., 12., 15., 18., 21., 24.], dtype=float32)>)"
            ]
          },
          "execution_count": 6,
          "metadata": {},
          "output_type": "execute_result"
        }
      ],
      "source": [
        "# Turn our NumPy arrays into tensors\n",
        "X = tf.constant(X, dtype=tf.float32)\n",
        "y = tf.constant(y, dtype=tf.float32)\n",
        "X, y"
      ]
    },
    {
      "cell_type": "code",
      "execution_count": null,
      "metadata": {
        "colab": {
          "base_uri": "https://localhost:8080/"
        },
        "id": "u5QrM2pSee8B",
        "outputId": "c7bdec25-65fe-4ef1-f966-79f08519081e"
      },
      "outputs": [
        {
          "data": {
            "text/plain": [
              "(TensorShape([]), TensorShape([]))"
            ]
          },
          "execution_count": 7,
          "metadata": {},
          "output_type": "execute_result"
        }
      ],
      "source": [
        "input_shape = X[0].shape\n",
        "output_shape = y[0].shape\n",
        "input_shape, output_shape"
      ]
    },
    {
      "cell_type": "code",
      "execution_count": null,
      "metadata": {
        "colab": {
          "base_uri": "https://localhost:8080/",
          "height": 452
        },
        "id": "2TqJGM1gee8B",
        "outputId": "db6741fd-c84d-4ed3-f4c7-49ff6f1f1b8b"
      },
      "outputs": [
        {
          "data": {
            "text/plain": [
              "<matplotlib.collections.PathCollection at 0x797b6bf979d0>"
            ]
          },
          "execution_count": 8,
          "metadata": {},
          "output_type": "execute_result"
        },
        {
          "data": {
            "image/png": "[encoded data removed]",
            "text/plain": [
              "<Figure size 640x480 with 1 Axes>"
            ]
          },
          "metadata": {},
          "output_type": "display_data"
        }
      ],
      "source": [
        "plt.scatter(X, y)"
      ]
    },
    {
      "cell_type": "markdown",
      "metadata": {
        "id": "YPW09RNqee8C"
      },
      "source": [
        "## Steps in modelling with TensorFlow\n",
        "1. **Creating a model** - define the input and output layers, as well as the hidden layers of a deep learning model\n",
        "\n",
        "2. **Compiling a model** - define the loss fuction (in other words, the function wich tells our model how wrong it is) and the optimizer (telss our model how to improve the patterns its learning) and evaluations metrics (what we can use to interpret the perfomance of our model)\n",
        "\n",
        "3. **Fitting a model** - letting the model try to find patterns between X & y (features and labels)."
      ]
    },
    {
      "cell_type": "code",
      "execution_count": null,
      "metadata": {
        "colab": {
          "base_uri": "https://localhost:8080/"
        },
        "id": "bY3QPqi2ee8C",
        "outputId": "968b0468-880c-4318-f17c-7be63853b1c2"
      },
      "outputs": [
        {
          "name": "stdout",
          "output_type": "stream",
          "text": [
            "Epoch 1/5\n",
            "1/1 [==============================] - 1s 674ms/step - loss: 20.2938 - mae: 20.2938\n",
            "Epoch 2/5\n",
            "1/1 [==============================] - 0s 19ms/step - loss: 20.0125 - mae: 20.0125\n",
            "Epoch 3/5\n",
            "1/1 [==============================] - 0s 13ms/step - loss: 19.7313 - mae: 19.7313\n",
            "Epoch 4/5\n",
            "1/1 [==============================] - 0s 13ms/step - loss: 19.4500 - mae: 19.4500\n",
            "Epoch 5/5\n",
            "1/1 [==============================] - 0s 12ms/step - loss: 19.1688 - mae: 19.1688\n"
          ]
        },
        {
          "data": {
            "text/plain": [
              "<keras.src.callbacks.History at 0x797b68ee7760>"
            ]
          },
          "execution_count": 9,
          "metadata": {},
          "output_type": "execute_result"
        }
      ],
      "source": [
        "# Set random seed\n",
        "tf.random.set_seed(42)\n",
        "\n",
        "# 1. Create a model using the Sequential API\n",
        "model = tf.keras.Sequential([\n",
        "    tf.keras.layers.Dense(1)\n",
        "])\n",
        "# model = tf.keras.Sequential()\n",
        "# model.add(tf.keras.layers.Dense(1))\n",
        "\n",
        "#2. Compile the model\n",
        "model.compile(loss=tf.keras.losses.mae, #mae is short for mean absolute error\n",
        "              optimizer=tf.keras.optimizers.SGD(), #sgd is short for stochastic gradient descent\n",
        "              metrics=[\"mae\"])\n",
        "\n",
        "#3. fit the model\n",
        "model.fit(tf.expand_dims(X, axis=-1), y, epochs=5)"
      ]
    },
    {
      "cell_type": "code",
      "execution_count": null,
      "metadata": {
        "colab": {
          "base_uri": "https://localhost:8080/"
        },
        "id": "B0lK5K3Jee8E",
        "outputId": "1bb91014-d8c8-43bd-e769-44bf7fcf24d1"
      },
      "outputs": [
        {
          "name": "stdout",
          "output_type": "stream",
          "text": [
            "1/1 [==============================] - 0s 98ms/step\n"
          ]
        },
        {
          "data": {
            "text/plain": [
              "array([[-19.92751]], dtype=float32)"
            ]
          },
          "execution_count": 10,
          "metadata": {},
          "output_type": "execute_result"
        }
      ],
      "source": [
        "model.predict([17.0])"
      ]
    },
    {
      "cell_type": "markdown",
      "metadata": {
        "id": "uKzLqi_Mee8F"
      },
      "source": [
        "## Improving our model\n",
        "\n",
        "We can improve our model, by altering the steps we took to create a model.\n",
        "\n",
        "1. **Creating model** - here we might add more layers, increase the number of hidden units (all called neurons) within each of the hideen layers, change the activation function of each layer.\n",
        "\n",
        "2. **Compiling a model** - here we migth change the optimization function or perhaps the **learning rate** of the optimization function.\n",
        "\n",
        "3. **Fitting a model** - here we might fit a model for more epochs (leave it training for longer) or on more data (give the model more examples to learn from)"
      ]
    },
    {
      "cell_type": "code",
      "execution_count": null,
      "metadata": {
        "colab": {
          "base_uri": "https://localhost:8080/"
        },
        "id": "qxUUWwKdee8F",
        "outputId": "228848e6-fe75-4d9d-f0a9-21518a0534fe"
      },
      "outputs": [
        {
          "name": "stdout",
          "output_type": "stream",
          "text": [
            "Epoch 1/100\n",
            "1/1 [==============================] - 0s 334ms/step - loss: 14.0170 - mae: 14.0170\n",
            "Epoch 2/100\n",
            "1/1 [==============================] - 0s 13ms/step - loss: 13.8845 - mae: 13.8845\n",
            "Epoch 3/100\n",
            "1/1 [==============================] - 0s 12ms/step - loss: 13.7520 - mae: 13.7520\n",
            "Epoch 4/100\n",
            "1/1 [==============================] - 0s 10ms/step - loss: 13.6195 - mae: 13.6195\n",
            "Epoch 5/100\n",
            "1/1 [==============================] - 0s 14ms/step - loss: 13.4870 - mae: 13.4870\n",
            "Epoch 6/100\n",
            "1/1 [==============================] - 0s 12ms/step - loss: 13.3545 - mae: 13.3545\n",
            "Epoch 7/100\n",
            "1/1 [==============================] - 0s 10ms/step - loss: 13.2220 - mae: 13.2220\n",
            "Epoch 8/100\n",
            "1/1 [==============================] - 0s 13ms/step - loss: 13.0895 - mae: 13.0895\n",
            "Epoch 9/100\n",
            "1/1 [==============================] - 0s 11ms/step - loss: 12.9570 - mae: 12.9570\n",
            "Epoch 10/100\n",
            "1/1 [==============================] - 0s 11ms/step - loss: 12.8245 - mae: 12.8245\n",
            "Epoch 11/100\n",
            "1/1 [==============================] - 0s 11ms/step - loss: 12.6920 - mae: 12.6920\n",
            "Epoch 12/100\n",
            "1/1 [==============================] - 0s 11ms/step - loss: 12.5595 - mae: 12.5595\n",
            "Epoch 13/100\n",
            "1/1 [==============================] - 0s 11ms/step - loss: 12.4270 - mae: 12.4270\n",
            "Epoch 14/100\n",
            "1/1 [==============================] - 0s 11ms/step - loss: 12.2945 - mae: 12.2945\n",
            "Epoch 15/100\n",
            "1/1 [==============================] - 0s 13ms/step - loss: 12.1620 - mae: 12.1620\n",
            "Epoch 16/100\n",
            "1/1 [==============================] - 0s 12ms/step - loss: 12.0295 - mae: 12.0295\n",
            "Epoch 17/100\n",
            "1/1 [==============================] - 0s 12ms/step - loss: 11.8970 - mae: 11.8970\n",
            "Epoch 18/100\n",
            "1/1 [==============================] - 0s 11ms/step - loss: 11.7645 - mae: 11.7645\n",
            "Epoch 19/100\n",
            "1/1 [==============================] - 0s 12ms/step - loss: 11.6320 - mae: 11.6320\n",
            "Epoch 20/100\n",
            "1/1 [==============================] - 0s 10ms/step - loss: 11.4995 - mae: 11.4995\n",
            "Epoch 21/100\n",
            "1/1 [==============================] - 0s 12ms/step - loss: 11.3670 - mae: 11.3670\n",
            "Epoch 22/100\n",
            "1/1 [==============================] - 0s 12ms/step - loss: 11.2345 - mae: 11.2345\n",
            "Epoch 23/100\n",
            "1/1 [==============================] - 0s 10ms/step - loss: 11.1020 - mae: 11.1020\n",
            "Epoch 24/100\n",
            "1/1 [==============================] - 0s 13ms/step - loss: 10.9695 - mae: 10.9695\n",
            "Epoch 25/100\n",
            "1/1 [==============================] - 0s 10ms/step - loss: 10.8370 - mae: 10.8370\n",
            "Epoch 26/100\n",
            "1/1 [==============================] - 0s 10ms/step - loss: 10.7045 - mae: 10.7045\n",
            "Epoch 27/100\n",
            "1/1 [==============================] - 0s 10ms/step - loss: 10.5720 - mae: 10.5720\n",
            "Epoch 28/100\n",
            "1/1 [==============================] - 0s 10ms/step - loss: 10.4395 - mae: 10.4395\n",
            "Epoch 29/100\n",
            "1/1 [==============================] - 0s 11ms/step - loss: 10.3070 - mae: 10.3070\n",
            "Epoch 30/100\n",
            "1/1 [==============================] - 0s 11ms/step - loss: 10.1745 - mae: 10.1745\n",
            "Epoch 31/100\n",
            "1/1 [==============================] - 0s 10ms/step - loss: 10.0420 - mae: 10.0420\n",
            "Epoch 32/100\n",
            "1/1 [==============================] - 0s 10ms/step - loss: 9.9095 - mae: 9.9095\n",
            "Epoch 33/100\n",
            "1/1 [==============================] - 0s 11ms/step - loss: 9.7770 - mae: 9.7770\n",
            "Epoch 34/100\n",
            "1/1 [==============================] - 0s 10ms/step - loss: 9.6445 - mae: 9.6445\n",
            "Epoch 35/100\n",
            "1/1 [==============================] - 0s 10ms/step - loss: 9.5120 - mae: 9.5120\n",
            "Epoch 36/100\n",
            "1/1 [==============================] - 0s 10ms/step - loss: 9.3795 - mae: 9.3795\n",
            "Epoch 37/100\n",
            "1/1 [==============================] - 0s 10ms/step - loss: 9.2470 - mae: 9.2470\n",
            "Epoch 38/100\n",
            "1/1 [==============================] - 0s 10ms/step - loss: 9.1145 - mae: 9.1145\n",
            "Epoch 39/100\n",
            "1/1 [==============================] - 0s 25ms/step - loss: 8.9820 - mae: 8.9820\n",
            "Epoch 40/100\n",
            "1/1 [==============================] - 0s 12ms/step - loss: 8.8495 - mae: 8.8495\n",
            "Epoch 41/100\n",
            "1/1 [==============================] - 0s 13ms/step - loss: 8.7170 - mae: 8.7170\n",
            "Epoch 42/100\n",
            "1/1 [==============================] - 0s 10ms/step - loss: 8.5845 - mae: 8.5845\n",
            "Epoch 43/100\n",
            "1/1 [==============================] - 0s 16ms/step - loss: 8.4520 - mae: 8.4520\n",
            "Epoch 44/100\n",
            "1/1 [==============================] - 0s 14ms/step - loss: 8.3195 - mae: 8.3195\n",
            "Epoch 45/100\n",
            "1/1 [==============================] - 0s 13ms/step - loss: 8.1870 - mae: 8.1870\n",
            "Epoch 46/100\n",
            "1/1 [==============================] - 0s 11ms/step - loss: 8.0545 - mae: 8.0545\n",
            "Epoch 47/100\n",
            "1/1 [==============================] - 0s 10ms/step - loss: 7.9220 - mae: 7.9220\n",
            "Epoch 48/100\n",
            "1/1 [==============================] - 0s 10ms/step - loss: 7.7895 - mae: 7.7895\n",
            "Epoch 49/100\n",
            "1/1 [==============================] - 0s 10ms/step - loss: 7.6570 - mae: 7.6570\n",
            "Epoch 50/100\n",
            "1/1 [==============================] - 0s 10ms/step - loss: 7.5245 - mae: 7.5245\n",
            "Epoch 51/100\n",
            "1/1 [==============================] - 0s 10ms/step - loss: 7.3920 - mae: 7.3920\n",
            "Epoch 52/100\n",
            "1/1 [==============================] - 0s 32ms/step - loss: 7.2595 - mae: 7.2595\n",
            "Epoch 53/100\n",
            "1/1 [==============================] - 0s 18ms/step - loss: 7.1270 - mae: 7.1270\n",
            "Epoch 54/100\n",
            "1/1 [==============================] - 0s 17ms/step - loss: 7.1025 - mae: 7.1025\n",
            "Epoch 55/100\n",
            "1/1 [==============================] - 0s 11ms/step - loss: 7.0969 - mae: 7.0969\n",
            "Epoch 56/100\n",
            "1/1 [==============================] - 0s 11ms/step - loss: 7.0912 - mae: 7.0912\n",
            "Epoch 57/100\n",
            "1/1 [==============================] - 0s 10ms/step - loss: 7.0856 - mae: 7.0856\n",
            "Epoch 58/100\n",
            "1/1 [==============================] - 0s 11ms/step - loss: 7.0800 - mae: 7.0800\n",
            "Epoch 59/100\n",
            "1/1 [==============================] - 0s 12ms/step - loss: 7.0744 - mae: 7.0744\n",
            "Epoch 60/100\n",
            "1/1 [==============================] - 0s 12ms/step - loss: 7.0688 - mae: 7.0688\n",
            "Epoch 61/100\n",
            "1/1 [==============================] - 0s 10ms/step - loss: 7.0631 - mae: 7.0631\n",
            "Epoch 62/100\n",
            "1/1 [==============================] - 0s 10ms/step - loss: 7.0575 - mae: 7.0575\n",
            "Epoch 63/100\n",
            "1/1 [==============================] - 0s 11ms/step - loss: 7.0519 - mae: 7.0519\n",
            "Epoch 64/100\n",
            "1/1 [==============================] - 0s 10ms/step - loss: 7.0463 - mae: 7.0463\n",
            "Epoch 65/100\n",
            "1/1 [==============================] - 0s 11ms/step - loss: 7.0406 - mae: 7.0406\n",
            "Epoch 66/100\n",
            "1/1 [==============================] - 0s 11ms/step - loss: 7.0350 - mae: 7.0350\n",
            "Epoch 67/100\n",
            "1/1 [==============================] - 0s 10ms/step - loss: 7.0294 - mae: 7.0294\n",
            "Epoch 68/100\n",
            "1/1 [==============================] - 0s 13ms/step - loss: 7.0238 - mae: 7.0238\n",
            "Epoch 69/100\n",
            "1/1 [==============================] - 0s 12ms/step - loss: 7.0181 - mae: 7.0181\n",
            "Epoch 70/100\n",
            "1/1 [==============================] - 0s 12ms/step - loss: 7.0125 - mae: 7.0125\n",
            "Epoch 71/100\n",
            "1/1 [==============================] - 0s 11ms/step - loss: 7.0069 - mae: 7.0069\n",
            "Epoch 72/100\n",
            "1/1 [==============================] - 0s 11ms/step - loss: 7.0013 - mae: 7.0013\n",
            "Epoch 73/100\n",
            "1/1 [==============================] - 0s 11ms/step - loss: 6.9956 - mae: 6.9956\n",
            "Epoch 74/100\n",
            "1/1 [==============================] - 0s 11ms/step - loss: 6.9900 - mae: 6.9900\n",
            "Epoch 75/100\n",
            "1/1 [==============================] - 0s 11ms/step - loss: 6.9844 - mae: 6.9844\n",
            "Epoch 76/100\n",
            "1/1 [==============================] - 0s 12ms/step - loss: 6.9788 - mae: 6.9788\n",
            "Epoch 77/100\n",
            "1/1 [==============================] - 0s 12ms/step - loss: 6.9731 - mae: 6.9731\n",
            "Epoch 78/100\n",
            "1/1 [==============================] - 0s 11ms/step - loss: 6.9675 - mae: 6.9675\n",
            "Epoch 79/100\n",
            "1/1 [==============================] - 0s 11ms/step - loss: 6.9619 - mae: 6.9619\n",
            "Epoch 80/100\n",
            "1/1 [==============================] - 0s 13ms/step - loss: 6.9563 - mae: 6.9563\n",
            "Epoch 81/100\n",
            "1/1 [==============================] - 0s 11ms/step - loss: 6.9506 - mae: 6.9506\n",
            "Epoch 82/100\n",
            "1/1 [==============================] - 0s 10ms/step - loss: 6.9450 - mae: 6.9450\n",
            "Epoch 83/100\n",
            "1/1 [==============================] - 0s 12ms/step - loss: 6.9394 - mae: 6.9394\n",
            "Epoch 84/100\n",
            "1/1 [==============================] - 0s 10ms/step - loss: 6.9338 - mae: 6.9338\n",
            "Epoch 85/100\n",
            "1/1 [==============================] - 0s 11ms/step - loss: 6.9281 - mae: 6.9281\n",
            "Epoch 86/100\n",
            "1/1 [==============================] - 0s 11ms/step - loss: 6.9225 - mae: 6.9225\n",
            "Epoch 87/100\n",
            "1/1 [==============================] - 0s 10ms/step - loss: 6.9169 - mae: 6.9169\n",
            "Epoch 88/100\n",
            "1/1 [==============================] - 0s 12ms/step - loss: 6.9113 - mae: 6.9113\n",
            "Epoch 89/100\n",
            "1/1 [==============================] - 0s 12ms/step - loss: 6.9056 - mae: 6.9056\n",
            "Epoch 90/100\n",
            "1/1 [==============================] - 0s 12ms/step - loss: 6.9000 - mae: 6.9000\n",
            "Epoch 91/100\n",
            "1/1 [==============================] - 0s 11ms/step - loss: 6.8944 - mae: 6.8944\n",
            "Epoch 92/100\n",
            "1/1 [==============================] - 0s 11ms/step - loss: 6.8888 - mae: 6.8888\n",
            "Epoch 93/100\n",
            "1/1 [==============================] - 0s 11ms/step - loss: 6.8831 - mae: 6.8831\n",
            "Epoch 94/100\n",
            "1/1 [==============================] - 0s 13ms/step - loss: 6.8775 - mae: 6.8775\n",
            "Epoch 95/100\n",
            "1/1 [==============================] - 0s 10ms/step - loss: 6.8719 - mae: 6.8719\n",
            "Epoch 96/100\n",
            "1/1 [==============================] - 0s 11ms/step - loss: 6.8663 - mae: 6.8663\n",
            "Epoch 97/100\n",
            "1/1 [==============================] - 0s 11ms/step - loss: 6.8606 - mae: 6.8606\n",
            "Epoch 98/100\n",
            "1/1 [==============================] - 0s 10ms/step - loss: 6.8550 - mae: 6.8550\n",
            "Epoch 99/100\n",
            "1/1 [==============================] - 0s 11ms/step - loss: 6.8494 - mae: 6.8494\n",
            "Epoch 100/100\n",
            "1/1 [==============================] - 0s 10ms/step - loss: 6.8438 - mae: 6.8438\n"
          ]
        },
        {
          "data": {
            "text/plain": [
              "<keras.src.callbacks.History at 0x797b6e0ee800>"
            ]
          },
          "execution_count": 11,
          "metadata": {},
          "output_type": "execute_result"
        }
      ],
      "source": [
        "# Let's rebuild our model\n",
        "\n",
        "# 1. Create the model\n",
        "model = tf.keras.Sequential([\n",
        "    tf.keras.layers.Dense(1)\n",
        "])\n",
        "\n",
        "# 2. Compile the model\n",
        "model.compile(loss=tf.keras.losses.mae,\n",
        "              optimizer=tf.keras.optimizers.SGD(),\n",
        "              metrics=[\"mae\"])\n",
        "\n",
        "# 3. Fit the model (this time we'll train for longer)\n",
        "model.fit(tf.expand_dims(X, axis=-1), y, epochs=100)"
      ]
    },
    {
      "cell_type": "code",
      "execution_count": null,
      "metadata": {
        "colab": {
          "base_uri": "https://localhost:8080/"
        },
        "id": "j3MPI45Pee8F",
        "outputId": "9dcfc2dc-b276-494d-d6f4-dd36f5f7e472"
      },
      "outputs": [
        {
          "name": "stdout",
          "output_type": "stream",
          "text": [
            "1/1 [==============================] - 0s 62ms/step\n"
          ]
        },
        {
          "data": {
            "text/plain": [
              "array([[29.906157]], dtype=float32)"
            ]
          },
          "execution_count": 12,
          "metadata": {},
          "output_type": "execute_result"
        }
      ],
      "source": [
        "model.predict([17.0])"
      ]
    },
    {
      "cell_type": "code",
      "execution_count": null,
      "metadata": {
        "colab": {
          "base_uri": "https://localhost:8080/"
        },
        "id": "ZCnD_rhRee8G",
        "outputId": "3fc68835-cc66-44ed-ad74-ec383b1bca82"
      },
      "outputs": [
        {
          "name": "stdout",
          "output_type": "stream",
          "text": [
            "Epoch 1/100\n",
            "1/1 [==============================] - 0s 467ms/step - loss: 13.7899 - mae: 13.7899\n",
            "Epoch 2/100\n",
            "1/1 [==============================] - 0s 11ms/step - loss: 13.1993 - mae: 13.1993\n",
            "Epoch 3/100\n",
            "1/1 [==============================] - 0s 10ms/step - loss: 12.6121 - mae: 12.6121\n",
            "Epoch 4/100\n",
            "1/1 [==============================] - 0s 10ms/step - loss: 12.0223 - mae: 12.0223\n",
            "Epoch 5/100\n",
            "1/1 [==============================] - 0s 13ms/step - loss: 11.4238 - mae: 11.4238\n",
            "Epoch 6/100\n",
            "1/1 [==============================] - 0s 11ms/step - loss: 10.8184 - mae: 10.8184\n",
            "Epoch 7/100\n",
            "1/1 [==============================] - 0s 10ms/step - loss: 10.2069 - mae: 10.2069\n",
            "Epoch 8/100\n",
            "1/1 [==============================] - 0s 12ms/step - loss: 9.5652 - mae: 9.5652\n",
            "Epoch 9/100\n",
            "1/1 [==============================] - 0s 11ms/step - loss: 8.8898 - mae: 8.8898\n",
            "Epoch 10/100\n",
            "1/1 [==============================] - 0s 11ms/step - loss: 8.1756 - mae: 8.1756\n",
            "Epoch 11/100\n",
            "1/1 [==============================] - 0s 11ms/step - loss: 7.4141 - mae: 7.4141\n",
            "Epoch 12/100\n",
            "1/1 [==============================] - 0s 10ms/step - loss: 6.5965 - mae: 6.5965\n",
            "Epoch 13/100\n",
            "1/1 [==============================] - 0s 11ms/step - loss: 5.7234 - mae: 5.7234\n",
            "Epoch 14/100\n",
            "1/1 [==============================] - 0s 11ms/step - loss: 4.7940 - mae: 4.7940\n",
            "Epoch 15/100\n",
            "1/1 [==============================] - 0s 11ms/step - loss: 4.1990 - mae: 4.1990\n",
            "Epoch 16/100\n",
            "1/1 [==============================] - 0s 11ms/step - loss: 4.0538 - mae: 4.0538\n",
            "Epoch 17/100\n",
            "1/1 [==============================] - 0s 11ms/step - loss: 4.0529 - mae: 4.0529\n",
            "Epoch 18/100\n",
            "1/1 [==============================] - 0s 10ms/step - loss: 3.9397 - mae: 3.9397\n",
            "Epoch 19/100\n",
            "1/1 [==============================] - 0s 10ms/step - loss: 3.9628 - mae: 3.9628\n",
            "Epoch 20/100\n",
            "1/1 [==============================] - 0s 10ms/step - loss: 3.9050 - mae: 3.9050\n",
            "Epoch 21/100\n",
            "1/1 [==============================] - 0s 10ms/step - loss: 3.9413 - mae: 3.9413\n",
            "Epoch 22/100\n",
            "1/1 [==============================] - 0s 12ms/step - loss: 3.9121 - mae: 3.9121\n",
            "Epoch 23/100\n",
            "1/1 [==============================] - 0s 11ms/step - loss: 3.9159 - mae: 3.9159\n",
            "Epoch 24/100\n",
            "1/1 [==============================] - 0s 11ms/step - loss: 3.9192 - mae: 3.9192\n",
            "Epoch 25/100\n",
            "1/1 [==============================] - 0s 13ms/step - loss: 3.8904 - mae: 3.8904\n",
            "Epoch 26/100\n",
            "1/1 [==============================] - 0s 11ms/step - loss: 3.9264 - mae: 3.9264\n",
            "Epoch 27/100\n",
            "1/1 [==============================] - 0s 12ms/step - loss: 3.8661 - mae: 3.8661\n",
            "Epoch 28/100\n",
            "1/1 [==============================] - 0s 12ms/step - loss: 3.9415 - mae: 3.9415\n",
            "Epoch 29/100\n",
            "1/1 [==============================] - 0s 11ms/step - loss: 3.8741 - mae: 3.8741\n",
            "Epoch 30/100\n",
            "1/1 [==============================] - 0s 10ms/step - loss: 3.9200 - mae: 3.9200\n",
            "Epoch 31/100\n",
            "1/1 [==============================] - 0s 10ms/step - loss: 3.8813 - mae: 3.8813\n",
            "Epoch 32/100\n",
            "1/1 [==============================] - 0s 10ms/step - loss: 3.8943 - mae: 3.8943\n",
            "Epoch 33/100\n",
            "1/1 [==============================] - 0s 11ms/step - loss: 3.8887 - mae: 3.8887\n",
            "Epoch 34/100\n",
            "1/1 [==============================] - 0s 12ms/step - loss: 3.8686 - mae: 3.8686\n",
            "Epoch 35/100\n",
            "1/1 [==============================] - 0s 13ms/step - loss: 3.8961 - mae: 3.8961\n",
            "Epoch 36/100\n",
            "1/1 [==============================] - 0s 14ms/step - loss: 3.8493 - mae: 3.8493\n",
            "Epoch 37/100\n",
            "1/1 [==============================] - 0s 11ms/step - loss: 3.9114 - mae: 3.9114\n",
            "Epoch 38/100\n",
            "1/1 [==============================] - 0s 11ms/step - loss: 3.8444 - mae: 3.8444\n",
            "Epoch 39/100\n",
            "1/1 [==============================] - 0s 12ms/step - loss: 3.8974 - mae: 3.8974\n",
            "Epoch 40/100\n",
            "1/1 [==============================] - 0s 11ms/step - loss: 3.8518 - mae: 3.8518\n",
            "Epoch 41/100\n",
            "1/1 [==============================] - 0s 11ms/step - loss: 3.8715 - mae: 3.8715\n",
            "Epoch 42/100\n",
            "1/1 [==============================] - 0s 10ms/step - loss: 3.8594 - mae: 3.8594\n",
            "Epoch 43/100\n",
            "1/1 [==============================] - 0s 10ms/step - loss: 3.8455 - mae: 3.8455\n",
            "Epoch 44/100\n",
            "1/1 [==============================] - 0s 10ms/step - loss: 3.8712 - mae: 3.8712\n",
            "Epoch 45/100\n",
            "1/1 [==============================] - 0s 11ms/step - loss: 3.8264 - mae: 3.8264\n",
            "Epoch 46/100\n",
            "1/1 [==============================] - 0s 10ms/step - loss: 3.8824 - mae: 3.8824\n",
            "Epoch 47/100\n",
            "1/1 [==============================] - 0s 10ms/step - loss: 3.8158 - mae: 3.8158\n",
            "Epoch 48/100\n",
            "1/1 [==============================] - 0s 17ms/step - loss: 3.8735 - mae: 3.8735\n",
            "Epoch 49/100\n",
            "1/1 [==============================] - 0s 11ms/step - loss: 3.8234 - mae: 3.8234\n",
            "Epoch 50/100\n",
            "1/1 [==============================] - 0s 13ms/step - loss: 3.8473 - mae: 3.8473\n",
            "Epoch 51/100\n",
            "1/1 [==============================] - 0s 12ms/step - loss: 3.8312 - mae: 3.8312\n",
            "Epoch 52/100\n",
            "1/1 [==============================] - 0s 11ms/step - loss: 3.8233 - mae: 3.8233\n",
            "Epoch 53/100\n",
            "1/1 [==============================] - 0s 13ms/step - loss: 3.8467 - mae: 3.8467\n",
            "Epoch 54/100\n",
            "1/1 [==============================] - 0s 14ms/step - loss: 3.8016 - mae: 3.8016\n",
            "Epoch 55/100\n",
            "1/1 [==============================] - 0s 11ms/step - loss: 3.8546 - mae: 3.8546\n",
            "Epoch 56/100\n",
            "1/1 [==============================] - 0s 10ms/step - loss: 3.7883 - mae: 3.7883\n",
            "Epoch 57/100\n",
            "1/1 [==============================] - 0s 13ms/step - loss: 3.8483 - mae: 3.8483\n",
            "Epoch 58/100\n",
            "1/1 [==============================] - 0s 11ms/step - loss: 3.7962 - mae: 3.7962\n",
            "Epoch 59/100\n",
            "1/1 [==============================] - 0s 10ms/step - loss: 3.8219 - mae: 3.8219\n",
            "Epoch 60/100\n",
            "1/1 [==============================] - 0s 10ms/step - loss: 3.8041 - mae: 3.8041\n",
            "Epoch 61/100\n",
            "1/1 [==============================] - 0s 10ms/step - loss: 3.8025 - mae: 3.8025\n",
            "Epoch 62/100\n",
            "1/1 [==============================] - 0s 10ms/step - loss: 3.8198 - mae: 3.8198\n",
            "Epoch 63/100\n",
            "1/1 [==============================] - 0s 10ms/step - loss: 3.7756 - mae: 3.7756\n",
            "Epoch 64/100\n",
            "1/1 [==============================] - 0s 10ms/step - loss: 3.8279 - mae: 3.8279\n",
            "Epoch 65/100\n",
            "1/1 [==============================] - 0s 15ms/step - loss: 3.7619 - mae: 3.7619\n",
            "Epoch 66/100\n",
            "1/1 [==============================] - 0s 10ms/step - loss: 3.8219 - mae: 3.8219\n",
            "Epoch 67/100\n",
            "1/1 [==============================] - 0s 10ms/step - loss: 3.7699 - mae: 3.7699\n",
            "Epoch 68/100\n",
            "1/1 [==============================] - 0s 10ms/step - loss: 3.7952 - mae: 3.7952\n",
            "Epoch 69/100\n",
            "1/1 [==============================] - 0s 10ms/step - loss: 3.7824 - mae: 3.7824\n",
            "Epoch 70/100\n",
            "1/1 [==============================] - 0s 11ms/step - loss: 3.7753 - mae: 3.7753\n",
            "Epoch 71/100\n",
            "1/1 [==============================] - 0s 13ms/step - loss: 3.7939 - mae: 3.7939\n",
            "Epoch 72/100\n",
            "1/1 [==============================] - 0s 10ms/step - loss: 3.7482 - mae: 3.7482\n",
            "Epoch 73/100\n",
            "1/1 [==============================] - 0s 13ms/step - loss: 3.8022 - mae: 3.8022\n",
            "Epoch 74/100\n",
            "1/1 [==============================] - 0s 12ms/step - loss: 3.7365 - mae: 3.7365\n",
            "Epoch 75/100\n",
            "1/1 [==============================] - 0s 10ms/step - loss: 3.7942 - mae: 3.7942\n",
            "Epoch 76/100\n",
            "1/1 [==============================] - 0s 11ms/step - loss: 3.7448 - mae: 3.7448\n",
            "Epoch 77/100\n",
            "1/1 [==============================] - 0s 10ms/step - loss: 3.7692 - mae: 3.7692\n",
            "Epoch 78/100\n",
            "1/1 [==============================] - 0s 10ms/step - loss: 3.7607 - mae: 3.7607\n",
            "Epoch 79/100\n",
            "1/1 [==============================] - 0s 31ms/step - loss: 3.7469 - mae: 3.7469\n",
            "Epoch 80/100\n",
            "1/1 [==============================] - 0s 12ms/step - loss: 3.7691 - mae: 3.7691\n",
            "Epoch 81/100\n",
            "1/1 [==============================] - 0s 10ms/step - loss: 3.7195 - mae: 3.7195\n",
            "Epoch 82/100\n",
            "1/1 [==============================] - 0s 11ms/step - loss: 3.7777 - mae: 3.7777\n",
            "Epoch 83/100\n",
            "1/1 [==============================] - 0s 11ms/step - loss: 3.7122 - mae: 3.7122\n",
            "Epoch 84/100\n",
            "1/1 [==============================] - 0s 11ms/step - loss: 3.7651 - mae: 3.7651\n",
            "Epoch 85/100\n",
            "1/1 [==============================] - 0s 11ms/step - loss: 3.7206 - mae: 3.7206\n",
            "Epoch 86/100\n",
            "1/1 [==============================] - 0s 11ms/step - loss: 3.7444 - mae: 3.7444\n",
            "Epoch 87/100\n",
            "1/1 [==============================] - 0s 10ms/step - loss: 3.7367 - mae: 3.7367\n",
            "Epoch 88/100\n",
            "1/1 [==============================] - 0s 10ms/step - loss: 3.7172 - mae: 3.7172\n",
            "Epoch 89/100\n",
            "1/1 [==============================] - 0s 13ms/step - loss: 3.7453 - mae: 3.7453\n",
            "Epoch 90/100\n",
            "1/1 [==============================] - 0s 14ms/step - loss: 3.6895 - mae: 3.6895\n",
            "Epoch 91/100\n",
            "1/1 [==============================] - 0s 13ms/step - loss: 3.7541 - mae: 3.7541\n",
            "Epoch 92/100\n",
            "1/1 [==============================] - 0s 14ms/step - loss: 3.6888 - mae: 3.6888\n",
            "Epoch 93/100\n",
            "1/1 [==============================] - 0s 10ms/step - loss: 3.7348 - mae: 3.7348\n",
            "Epoch 94/100\n",
            "1/1 [==============================] - 0s 10ms/step - loss: 3.7009 - mae: 3.7009\n",
            "Epoch 95/100\n",
            "1/1 [==============================] - 0s 10ms/step - loss: 3.7140 - mae: 3.7140\n",
            "Epoch 96/100\n",
            "1/1 [==============================] - 0s 9ms/step - loss: 3.7137 - mae: 3.7137\n",
            "Epoch 97/100\n",
            "1/1 [==============================] - 0s 10ms/step - loss: 3.6861 - mae: 3.6861\n",
            "Epoch 98/100\n",
            "1/1 [==============================] - 0s 10ms/step - loss: 3.7226 - mae: 3.7226\n",
            "Epoch 99/100\n",
            "1/1 [==============================] - 0s 10ms/step - loss: 3.6581 - mae: 3.6581\n",
            "Epoch 100/100\n",
            "1/1 [==============================] - 0s 18ms/step - loss: 3.7315 - mae: 3.7315\n"
          ]
        },
        {
          "data": {
            "text/plain": [
              "<keras.src.callbacks.History at 0x797b6823d060>"
            ]
          },
          "execution_count": 13,
          "metadata": {},
          "output_type": "execute_result"
        }
      ],
      "source": [
        "# Let's see if we can make anoter to improve our model\n",
        "\n",
        "# 1. Create the model (this time with an extra hidden layer with 100 hiden units)\n",
        "model = tf.keras.Sequential([\n",
        "    tf.keras.layers.Dense(100, activation=\"relu\"),\n",
        "    tf.keras.layers.Dense(1)\n",
        "])\n",
        "\n",
        "# 2. Compile the model\n",
        "model.compile(loss=\"mae\",\n",
        "              optimizer=tf.keras.optimizers.SGD(),\n",
        "              metrics=[\"mae\"])\n",
        "\n",
        "# 3. Fit the model\n",
        "model.fit(tf.expand_dims(X, axis=-1), y, epochs=100)"
      ]
    },
    {
      "cell_type": "code",
      "execution_count": null,
      "metadata": {
        "colab": {
          "base_uri": "https://localhost:8080/"
        },
        "id": "Mwu5t6o3ee8G",
        "outputId": "b2c75833-588e-4dcd-b569-958d4aacdce8"
      },
      "outputs": [
        {
          "name": "stdout",
          "output_type": "stream",
          "text": [
            "1/1 [==============================] - 0s 188ms/step\n"
          ]
        },
        {
          "data": {
            "text/plain": [
              "array([[32.128674]], dtype=float32)"
            ]
          },
          "execution_count": 14,
          "metadata": {},
          "output_type": "execute_result"
        }
      ],
      "source": [
        "model.predict([17.0])"
      ]
    },
    {
      "cell_type": "code",
      "execution_count": null,
      "metadata": {
        "colab": {
          "base_uri": "https://localhost:8080/"
        },
        "id": "3VPc6C5cee8G",
        "outputId": "8aee5fbb-3150-4b3c-e535-2b6350dc0b8c"
      },
      "outputs": [
        {
          "name": "stdout",
          "output_type": "stream",
          "text": [
            "Epoch 1/100\n",
            "1/1 [==============================] - 1s 806ms/step - loss: 13.6352 - mae: 13.6352\n",
            "Epoch 2/100\n",
            "1/1 [==============================] - 0s 12ms/step - loss: 12.9695 - mae: 12.9695\n",
            "Epoch 3/100\n",
            "1/1 [==============================] - 0s 11ms/step - loss: 12.3039 - mae: 12.3039\n",
            "Epoch 4/100\n",
            "1/1 [==============================] - 0s 12ms/step - loss: 11.6356 - mae: 11.6356\n",
            "Epoch 5/100\n",
            "1/1 [==============================] - 0s 17ms/step - loss: 10.9618 - mae: 10.9618\n",
            "Epoch 6/100\n",
            "1/1 [==============================] - 0s 16ms/step - loss: 10.2795 - mae: 10.2795\n",
            "Epoch 7/100\n",
            "1/1 [==============================] - 0s 15ms/step - loss: 9.5857 - mae: 9.5857\n",
            "Epoch 8/100\n",
            "1/1 [==============================] - 0s 11ms/step - loss: 8.8774 - mae: 8.8774\n",
            "Epoch 9/100\n",
            "1/1 [==============================] - 0s 11ms/step - loss: 8.1518 - mae: 8.1518\n",
            "Epoch 10/100\n",
            "1/1 [==============================] - 0s 10ms/step - loss: 7.4063 - mae: 7.4063\n",
            "Epoch 11/100\n",
            "1/1 [==============================] - 0s 11ms/step - loss: 6.7266 - mae: 6.7266\n",
            "Epoch 12/100\n",
            "1/1 [==============================] - 0s 12ms/step - loss: 6.7224 - mae: 6.7224\n",
            "Epoch 13/100\n",
            "1/1 [==============================] - 0s 14ms/step - loss: 7.0038 - mae: 7.0038\n",
            "Epoch 14/100\n",
            "1/1 [==============================] - 0s 16ms/step - loss: 7.1749 - mae: 7.1749\n",
            "Epoch 15/100\n",
            "1/1 [==============================] - 0s 14ms/step - loss: 7.3039 - mae: 7.3039\n",
            "Epoch 16/100\n",
            "1/1 [==============================] - 0s 10ms/step - loss: 7.2724 - mae: 7.2724\n",
            "Epoch 17/100\n",
            "1/1 [==============================] - 0s 11ms/step - loss: 7.0721 - mae: 7.0721\n",
            "Epoch 18/100\n",
            "1/1 [==============================] - 0s 10ms/step - loss: 6.8416 - mae: 6.8416\n",
            "Epoch 19/100\n",
            "1/1 [==============================] - 0s 12ms/step - loss: 6.6026 - mae: 6.6026\n",
            "Epoch 20/100\n",
            "1/1 [==============================] - 0s 10ms/step - loss: 6.3438 - mae: 6.3438\n",
            "Epoch 21/100\n",
            "1/1 [==============================] - 0s 13ms/step - loss: 6.0698 - mae: 6.0698\n",
            "Epoch 22/100\n",
            "1/1 [==============================] - 0s 12ms/step - loss: 6.0146 - mae: 6.0146\n",
            "Epoch 23/100\n",
            "1/1 [==============================] - 0s 12ms/step - loss: 5.9849 - mae: 5.9849\n",
            "Epoch 24/100\n",
            "1/1 [==============================] - 0s 12ms/step - loss: 6.0803 - mae: 6.0803\n",
            "Epoch 25/100\n",
            "1/1 [==============================] - 0s 10ms/step - loss: 6.0675 - mae: 6.0675\n",
            "Epoch 26/100\n",
            "1/1 [==============================] - 0s 11ms/step - loss: 5.9612 - mae: 5.9612\n",
            "Epoch 27/100\n",
            "1/1 [==============================] - 0s 9ms/step - loss: 5.7722 - mae: 5.7722\n",
            "Epoch 28/100\n",
            "1/1 [==============================] - 0s 12ms/step - loss: 5.5659 - mae: 5.5659\n",
            "Epoch 29/100\n",
            "1/1 [==============================] - 0s 11ms/step - loss: 5.4630 - mae: 5.4630\n",
            "Epoch 30/100\n",
            "1/1 [==============================] - 0s 10ms/step - loss: 5.3571 - mae: 5.3571\n",
            "Epoch 31/100\n",
            "1/1 [==============================] - 0s 11ms/step - loss: 5.2842 - mae: 5.2842\n",
            "Epoch 32/100\n",
            "1/1 [==============================] - 0s 10ms/step - loss: 5.2559 - mae: 5.2559\n",
            "Epoch 33/100\n",
            "1/1 [==============================] - 0s 12ms/step - loss: 5.1850 - mae: 5.1850\n",
            "Epoch 34/100\n",
            "1/1 [==============================] - 0s 10ms/step - loss: 5.0752 - mae: 5.0752\n",
            "Epoch 35/100\n",
            "1/1 [==============================] - 0s 10ms/step - loss: 4.9301 - mae: 4.9301\n",
            "Epoch 36/100\n",
            "1/1 [==============================] - 0s 11ms/step - loss: 4.7649 - mae: 4.7649\n",
            "Epoch 37/100\n",
            "1/1 [==============================] - 0s 14ms/step - loss: 4.6688 - mae: 4.6688\n",
            "Epoch 38/100\n",
            "1/1 [==============================] - 0s 15ms/step - loss: 4.5658 - mae: 4.5658\n",
            "Epoch 39/100\n",
            "1/1 [==============================] - 0s 12ms/step - loss: 4.4559 - mae: 4.4559\n",
            "Epoch 40/100\n",
            "1/1 [==============================] - 0s 9ms/step - loss: 4.3388 - mae: 4.3388\n",
            "Epoch 41/100\n",
            "1/1 [==============================] - 0s 10ms/step - loss: 4.2144 - mae: 4.2144\n",
            "Epoch 42/100\n",
            "1/1 [==============================] - 0s 11ms/step - loss: 4.0826 - mae: 4.0826\n",
            "Epoch 43/100\n",
            "1/1 [==============================] - 0s 10ms/step - loss: 3.9429 - mae: 3.9429\n",
            "Epoch 44/100\n",
            "1/1 [==============================] - 0s 10ms/step - loss: 3.7953 - mae: 3.7953\n",
            "Epoch 45/100\n",
            "1/1 [==============================] - 0s 10ms/step - loss: 3.6395 - mae: 3.6395\n",
            "Epoch 46/100\n",
            "1/1 [==============================] - 0s 10ms/step - loss: 3.4752 - mae: 3.4752\n",
            "Epoch 47/100\n",
            "1/1 [==============================] - 0s 10ms/step - loss: 3.3022 - mae: 3.3022\n",
            "Epoch 48/100\n",
            "1/1 [==============================] - 0s 10ms/step - loss: 3.1201 - mae: 3.1201\n",
            "Epoch 49/100\n",
            "1/1 [==============================] - 0s 10ms/step - loss: 2.9287 - mae: 2.9287\n",
            "Epoch 50/100\n",
            "1/1 [==============================] - 0s 13ms/step - loss: 2.7762 - mae: 2.7762\n",
            "Epoch 51/100\n",
            "1/1 [==============================] - 0s 15ms/step - loss: 2.5728 - mae: 2.5728\n",
            "Epoch 52/100\n",
            "1/1 [==============================] - 0s 15ms/step - loss: 2.3341 - mae: 2.3341\n",
            "Epoch 53/100\n",
            "1/1 [==============================] - 0s 13ms/step - loss: 2.1261 - mae: 2.1261\n",
            "Epoch 54/100\n",
            "1/1 [==============================] - 0s 13ms/step - loss: 1.9059 - mae: 1.9059\n",
            "Epoch 55/100\n",
            "1/1 [==============================] - 0s 13ms/step - loss: 1.7076 - mae: 1.7076\n",
            "Epoch 56/100\n",
            "1/1 [==============================] - 0s 12ms/step - loss: 1.4162 - mae: 1.4162\n",
            "Epoch 57/100\n",
            "1/1 [==============================] - 0s 11ms/step - loss: 1.2147 - mae: 1.2147\n",
            "Epoch 58/100\n",
            "1/1 [==============================] - 0s 14ms/step - loss: 0.9692 - mae: 0.9692\n",
            "Epoch 59/100\n",
            "1/1 [==============================] - 0s 12ms/step - loss: 0.6425 - mae: 0.6425\n",
            "Epoch 60/100\n",
            "1/1 [==============================] - 0s 11ms/step - loss: 0.4594 - mae: 0.4594\n",
            "Epoch 61/100\n",
            "1/1 [==============================] - 0s 15ms/step - loss: 0.2144 - mae: 0.2144\n",
            "Epoch 62/100\n",
            "1/1 [==============================] - 0s 12ms/step - loss: 0.3865 - mae: 0.3865\n",
            "Epoch 63/100\n",
            "1/1 [==============================] - 0s 13ms/step - loss: 0.6667 - mae: 0.6667\n",
            "Epoch 64/100\n",
            "1/1 [==============================] - 0s 14ms/step - loss: 0.6954 - mae: 0.6954\n",
            "Epoch 65/100\n",
            "1/1 [==============================] - 0s 12ms/step - loss: 0.7025 - mae: 0.7025\n",
            "Epoch 66/100\n",
            "1/1 [==============================] - 0s 12ms/step - loss: 0.8794 - mae: 0.8794\n",
            "Epoch 67/100\n",
            "1/1 [==============================] - 0s 9ms/step - loss: 0.7995 - mae: 0.7995\n",
            "Epoch 68/100\n",
            "1/1 [==============================] - 0s 12ms/step - loss: 0.7048 - mae: 0.7048\n",
            "Epoch 69/100\n",
            "1/1 [==============================] - 0s 11ms/step - loss: 0.7000 - mae: 0.7000\n",
            "Epoch 70/100\n",
            "1/1 [==============================] - 0s 11ms/step - loss: 0.5163 - mae: 0.5163\n",
            "Epoch 71/100\n",
            "1/1 [==============================] - 0s 9ms/step - loss: 0.4663 - mae: 0.4663\n",
            "Epoch 72/100\n",
            "1/1 [==============================] - 0s 12ms/step - loss: 0.2870 - mae: 0.2870\n",
            "Epoch 73/100\n",
            "1/1 [==============================] - 0s 10ms/step - loss: 0.1994 - mae: 0.1994\n",
            "Epoch 74/100\n",
            "1/1 [==============================] - 0s 10ms/step - loss: 0.1260 - mae: 0.1260\n",
            "Epoch 75/100\n",
            "1/1 [==============================] - 0s 9ms/step - loss: 0.3355 - mae: 0.3355\n",
            "Epoch 76/100\n",
            "1/1 [==============================] - 0s 9ms/step - loss: 0.4751 - mae: 0.4751\n",
            "Epoch 77/100\n",
            "1/1 [==============================] - 0s 11ms/step - loss: 0.4325 - mae: 0.4325\n",
            "Epoch 78/100\n",
            "1/1 [==============================] - 0s 10ms/step - loss: 0.3385 - mae: 0.3385\n",
            "Epoch 79/100\n",
            "1/1 [==============================] - 0s 10ms/step - loss: 0.4461 - mae: 0.4461\n",
            "Epoch 80/100\n",
            "1/1 [==============================] - 0s 10ms/step - loss: 0.3116 - mae: 0.3116\n",
            "Epoch 81/100\n",
            "1/1 [==============================] - 0s 10ms/step - loss: 0.3238 - mae: 0.3238\n",
            "Epoch 82/100\n",
            "1/1 [==============================] - 0s 10ms/step - loss: 0.3320 - mae: 0.3320\n",
            "Epoch 83/100\n",
            "1/1 [==============================] - 0s 9ms/step - loss: 0.1345 - mae: 0.1345\n",
            "Epoch 84/100\n",
            "1/1 [==============================] - 0s 10ms/step - loss: 0.3537 - mae: 0.3537\n",
            "Epoch 85/100\n",
            "1/1 [==============================] - 0s 13ms/step - loss: 0.4698 - mae: 0.4698\n",
            "Epoch 86/100\n",
            "1/1 [==============================] - 0s 10ms/step - loss: 0.3437 - mae: 0.3437\n",
            "Epoch 87/100\n",
            "1/1 [==============================] - 0s 10ms/step - loss: 0.2669 - mae: 0.2669\n",
            "Epoch 88/100\n",
            "1/1 [==============================] - 0s 10ms/step - loss: 0.3746 - mae: 0.3746\n",
            "Epoch 89/100\n",
            "1/1 [==============================] - 0s 10ms/step - loss: 0.2328 - mae: 0.2328\n",
            "Epoch 90/100\n",
            "1/1 [==============================] - 0s 10ms/step - loss: 0.2745 - mae: 0.2745\n",
            "Epoch 91/100\n",
            "1/1 [==============================] - 0s 14ms/step - loss: 0.3349 - mae: 0.3349\n",
            "Epoch 92/100\n",
            "1/1 [==============================] - 0s 9ms/step - loss: 0.1418 - mae: 0.1418\n",
            "Epoch 93/100\n",
            "1/1 [==============================] - 0s 13ms/step - loss: 0.3183 - mae: 0.3183\n",
            "Epoch 94/100\n",
            "1/1 [==============================] - 0s 13ms/step - loss: 0.4454 - mae: 0.4454\n",
            "Epoch 95/100\n",
            "1/1 [==============================] - 0s 11ms/step - loss: 0.3168 - mae: 0.3168\n",
            "Epoch 96/100\n",
            "1/1 [==============================] - 0s 12ms/step - loss: 0.1470 - mae: 0.1470\n",
            "Epoch 97/100\n",
            "1/1 [==============================] - 0s 12ms/step - loss: 0.2779 - mae: 0.2779\n",
            "Epoch 98/100\n",
            "1/1 [==============================] - 0s 12ms/step - loss: 0.1902 - mae: 0.1902\n",
            "Epoch 99/100\n",
            "1/1 [==============================] - 0s 8ms/step - loss: 0.1511 - mae: 0.1511\n",
            "Epoch 100/100\n",
            "1/1 [==============================] - 0s 11ms/step - loss: 0.1631 - mae: 0.1631\n"
          ]
        },
        {
          "data": {
            "text/plain": [
              "<keras.src.callbacks.History at 0x797b680fda20>"
            ]
          },
          "execution_count": 15,
          "metadata": {},
          "output_type": "execute_result"
        }
      ],
      "source": [
        "# Keep improving\n",
        "\n",
        "# 1. Create the model\n",
        "model = tf.keras.Sequential([\n",
        "    tf.keras.layers.Dense(50),\n",
        "    tf.keras.layers.Dense(1)\n",
        "])\n",
        "\n",
        "# 2. Compile the model\n",
        "model.compile(loss=\"mae\",\n",
        "              optimizer=tf.keras.optimizers.Adam(learning_rate=0.01),\n",
        "              metrics=[\"mae\"])\n",
        "\n",
        "# 3. Fit the model\n",
        "model.fit(tf.expand_dims(X, axis=-1), y, epochs=100)"
      ]
    },
    {
      "cell_type": "markdown",
      "metadata": {
        "id": "yxQVj--thyFM"
      },
      "source": [
        "**learning_rate** is the most important parameter in neural networks"
      ]
    },
    {
      "cell_type": "code",
      "execution_count": null,
      "metadata": {
        "colab": {
          "base_uri": "https://localhost:8080/"
        },
        "id": "mLlxJdXaglNq",
        "outputId": "10b785a1-4b00-405d-a3ac-61319ca0e69c"
      },
      "outputs": [
        {
          "name": "stdout",
          "output_type": "stream",
          "text": [
            "1/1 [==============================] - 0s 71ms/step\n"
          ]
        },
        {
          "data": {
            "text/plain": [
              "array([[27.256315]], dtype=float32)"
            ]
          },
          "execution_count": 16,
          "metadata": {},
          "output_type": "execute_result"
        }
      ],
      "source": [
        "model.predict([17.0])"
      ]
    },
    {
      "cell_type": "markdown",
      "metadata": {
        "id": "6Q8dcTyFiXhl"
      },
      "source": [
        "## Evaluating our model\n",
        "\n",
        "In practice, a typical workdflow you'll go through when building neural networks is:\n",
        "```\n",
        "Build a model -> fit it -> evaluate it -> tweak a model -> fit it -> evaluate it -> tweak a model -> fit it -> evaluate it...\n",
        "```"
      ]
    },
    {
      "cell_type": "markdown",
      "metadata": {
        "id": "hkh2H2dakl7v"
      },
      "source": [
        "When it comes to evaluation.. there are 3 words you should memorize:\n",
        "\n",
        "> Visualize, visualize, visualize\n",
        "\n",
        "It's a good idea to visualize:\n",
        "* **The data** - what data are we working with? What does it look like?\n",
        "* **The model itself** - What does our model look like?\n",
        "* **The training of a model** - How does a model perform while it learns?\n",
        "* **The predictions of the model** - How do the predictions of a model line up against the ground truth (the original labels)?"
      ]
    },
    {
      "cell_type": "code",
      "execution_count": null,
      "metadata": {
        "colab": {
          "base_uri": "https://localhost:8080/"
        },
        "id": "ArPAZ9_alg4s",
        "outputId": "7462c385-ed56-469a-f490-4067217324da"
      },
      "outputs": [
        {
          "data": {
            "text/plain": [
              "<tf.Tensor: shape=(50,), dtype=int32, numpy=\n",
              "array([-100,  -96,  -92,  -88,  -84,  -80,  -76,  -72,  -68,  -64,  -60,\n",
              "        -56,  -52,  -48,  -44,  -40,  -36,  -32,  -28,  -24,  -20,  -16,\n",
              "        -12,   -8,   -4,    0,    4,    8,   12,   16,   20,   24,   28,\n",
              "         32,   36,   40,   44,   48,   52,   56,   60,   64,   68,   72,\n",
              "         76,   80,   84,   88,   92,   96], dtype=int32)>"
            ]
          },
          "execution_count": 17,
          "metadata": {},
          "output_type": "execute_result"
        }
      ],
      "source": [
        "# Make a bigger dataset\n",
        "X = tf.range(-100, 100, 4)\n",
        "X"
      ]
    },
    {
      "cell_type": "code",
      "execution_count": null,
      "metadata": {
        "colab": {
          "base_uri": "https://localhost:8080/"
        },
        "id": "mgpeH0Khmrq9",
        "outputId": "3b139655-2caf-498a-f07f-00eaf6620898"
      },
      "outputs": [
        {
          "data": {
            "text/plain": [
              "<tf.Tensor: shape=(50,), dtype=int32, numpy=\n",
              "array([-90, -86, -82, -78, -74, -70, -66, -62, -58, -54, -50, -46, -42,\n",
              "       -38, -34, -30, -26, -22, -18, -14, -10,  -6,  -2,   2,   6,  10,\n",
              "        14,  18,  22,  26,  30,  34,  38,  42,  46,  50,  54,  58,  62,\n",
              "        66,  70,  74,  78,  82,  86,  90,  94,  98, 102, 106], dtype=int32)>"
            ]
          },
          "execution_count": 18,
          "metadata": {},
          "output_type": "execute_result"
        }
      ],
      "source": [
        "# Make labels for the dataset\n",
        "y = X + 10\n",
        "y"
      ]
    },
    {
      "cell_type": "code",
      "execution_count": null,
      "metadata": {
        "colab": {
          "base_uri": "https://localhost:8080/",
          "height": 447
        },
        "id": "Y6dCjUwtnBjw",
        "outputId": "34f68f6e-fb88-4efa-d8bc-7f492ca7c618"
      },
      "outputs": [
        {
          "data": {
            "text/plain": [
              "<matplotlib.collections.PathCollection at 0x797b5b767a90>"
            ]
          },
          "execution_count": 19,
          "metadata": {},
          "output_type": "execute_result"
        },
        {
          "data": {
            "image/png": "[encoded data removed]",
            "text/plain": [
              "<Figure size 640x480 with 1 Axes>"
            ]
          },
          "metadata": {},
          "output_type": "display_data"
        }
      ],
      "source": [
        "# Visualize our data\n",
        "plt.scatter(X,y)"
      ]
    },
    {
      "cell_type": "markdown",
      "metadata": {
        "id": "6GHha3LdnR_B"
      },
      "source": [
        "### The 3 sets...\n",
        "\n",
        "* **Training set** - the model learns from this data, which is typically 70-80% of the total data you have available.\n",
        "* **Validation set** - the model get tuned on this data, wich is typically 10-15% of the data available.\n",
        "* **Test set** - the model gets evaluated on this data to test what is has learned, this set is typically 10-15% of the total data availabel.\n",
        "![image.png](data:image/png;base64,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)"
      ]
    },
    {
      "cell_type": "code",
      "execution_count": null,
      "metadata": {
        "colab": {
          "base_uri": "https://localhost:8080/"
        },
        "id": "dtV3pB3-xk5o",
        "outputId": "066a4c30-fd1b-4070-c2fa-c35d0d6e179f"
      },
      "outputs": [
        {
          "data": {
            "text/plain": [
              "50"
            ]
          },
          "execution_count": 20,
          "metadata": {},
          "output_type": "execute_result"
        }
      ],
      "source": [
        "# Check the length of how many samples we have\n",
        "len(X)"
      ]
    },
    {
      "cell_type": "code",
      "execution_count": null,
      "metadata": {
        "colab": {
          "base_uri": "https://localhost:8080/"
        },
        "id": "USF5di56xzEF",
        "outputId": "9e56f92f-f903-4909-a8da-202d2aa1a076"
      },
      "outputs": [
        {
          "data": {
            "text/plain": [
              "(40, 5, 5)"
            ]
          },
          "execution_count": 21,
          "metadata": {},
          "output_type": "execute_result"
        }
      ],
      "source": [
        "# Split the data into train and test sets\n",
        "from sklearn.model_selection import train_test_split\n",
        "\n",
        "# Convert tu numpy to use train_test_split\n",
        "X_np = X.numpy()\n",
        "y_np = y.numpy()\n",
        "\n",
        "# Divide the data\n",
        "X_train_np, X_temp_np, y_train_np, y_temp_np = train_test_split(X_np, y_np, test_size=0.2, random_state=42)\n",
        "X_val_np, X_test_np, y_val_np, y_test_np = train_test_split(X_temp_np, y_temp_np, test_size=0.5, random_state=42)\n",
        "\n",
        "# Convert to tensors\n",
        "X_train = tf.constant(X_train_np)\n",
        "y_train = tf.constant(y_train_np)\n",
        "X_val = tf.constant(X_val_np)\n",
        "y_val = tf.constant(y_val_np)\n",
        "X_test = tf.constant(X_test_np)\n",
        "y_test = tf.constant(y_test_np)\n",
        "\n",
        "len(X_train), len(X_val), len(X_test)"
      ]
    },
    {
      "cell_type": "markdown",
      "metadata": {
        "id": "Q1Om6FkdvSOr"
      },
      "source": [
        "### Visualizing the data\n",
        "\n",
        "Now we've got our data training, validation and test set... let's visualize it again!"
      ]
    },
    {
      "cell_type": "code",
      "execution_count": null,
      "metadata": {
        "colab": {
          "base_uri": "https://localhost:8080/",
          "height": 616
        },
        "id": "ODBPhcLEvP3U",
        "outputId": "f03e71fe-18b1-44cc-bdc7-b49e70c3aa1e"
      },
      "outputs": [
        {
          "data": {
            "text/plain": [
              "<matplotlib.legend.Legend at 0x797b546215d0>"
            ]
          },
          "execution_count": 22,
          "metadata": {},
          "output_type": "execute_result"
        },
        {
          "data": {
            "image/png": "[encoded data removed]",
            "text/plain": [
              "<Figure size 1000x700 with 1 Axes>"
            ]
          },
          "metadata": {},
          "output_type": "display_data"
        }
      ],
      "source": [
        "plt.figure(figsize=(10, 7))\n",
        "#Plot training data in blue\n",
        "plt.scatter(X_train, y_train, c=\"b\", label=\"Training data\")\n",
        "# Plot valueing data in red\n",
        "plt.scatter(X_val, y_val, c=\"r\", label=\"Valueing data\")\n",
        "# Plot test data in green\n",
        "plt.scatter(X_test, y_test, c=\"g\", label=\"Testing data\")\n",
        "# Show a legend\n",
        "plt.legend()"
      ]
    },
    {
      "cell_type": "code",
      "execution_count": null,
      "metadata": {
        "colab": {
          "base_uri": "https://localhost:8080/"
        },
        "id": "cneRSTRIxrs6",
        "outputId": "eb028e03-5d9a-48a4-8419-1df38f4ea2a0"
      },
      "outputs": [
        {
          "name": "stdout",
          "output_type": "stream",
          "text": [
            "Epoch 1/100\n",
            "2/2 [==============================] - 1s 418ms/step - loss: 24.2568 - mae: 24.2568 - val_loss: 15.1207 - val_mae: 15.1207\n",
            "Epoch 2/100\n",
            "2/2 [==============================] - 0s 72ms/step - loss: 23.2688 - mae: 23.2688 - val_loss: 14.6860 - val_mae: 14.6860\n",
            "Epoch 3/100\n",
            "2/2 [==============================] - 0s 60ms/step - loss: 22.3190 - mae: 22.3190 - val_loss: 14.2463 - val_mae: 14.2463\n",
            "Epoch 4/100\n",
            "2/2 [==============================] - 0s 113ms/step - loss: 21.3381 - mae: 21.3381 - val_loss: 13.8018 - val_mae: 13.8018\n",
            "Epoch 5/100\n",
            "2/2 [==============================] - 0s 118ms/step - loss: 20.3291 - mae: 20.3291 - val_loss: 13.3504 - val_mae: 13.3504\n",
            "Epoch 6/100\n",
            "2/2 [==============================] - 0s 49ms/step - loss: 19.3420 - mae: 19.3420 - val_loss: 12.8930 - val_mae: 12.8930\n",
            "Epoch 7/100\n",
            "2/2 [==============================] - 0s 65ms/step - loss: 18.3952 - mae: 18.3952 - val_loss: 12.4379 - val_mae: 12.4379\n",
            "Epoch 8/100\n",
            "2/2 [==============================] - 0s 79ms/step - loss: 17.3616 - mae: 17.3616 - val_loss: 11.9857 - val_mae: 11.9857\n",
            "Epoch 9/100\n",
            "2/2 [==============================] - 0s 71ms/step - loss: 16.4788 - mae: 16.4788 - val_loss: 11.5345 - val_mae: 11.5345\n",
            "Epoch 10/100\n",
            "2/2 [==============================] - 0s 55ms/step - loss: 15.5022 - mae: 15.5022 - val_loss: 11.0900 - val_mae: 11.0900\n",
            "Epoch 11/100\n",
            "2/2 [==============================] - 0s 65ms/step - loss: 14.6449 - mae: 14.6449 - val_loss: 10.6448 - val_mae: 10.6448\n",
            "Epoch 12/100\n",
            "2/2 [==============================] - 0s 73ms/step - loss: 13.7778 - mae: 13.7778 - val_loss: 10.2005 - val_mae: 10.2005\n",
            "Epoch 13/100\n",
            "1/2 [==============>...............] - ETA: 0s - loss: 13.1544 - mae: 13.1544"
          ]
        }
      ],
      "source": [
        "# Let's have a look at how to build a neural network for our data\n",
        "\n",
        "# 1. Create a model\n",
        "model = tf.keras.Sequential([\n",
        "    tf.keras.layers.Dense(1)\n",
        "])\n",
        "\n",
        "# 2. Compile the model\n",
        "model.compile(loss=\"mae\",\n",
        "              optimizer=tf.keras.optimizers.Adam(learning_rate=0.01),\n",
        "              metrics=[\"mae\"])\n",
        "\n",
        "# 3. Train the model\n",
        "model.fit(tf.expand_dims(X_train, axis=-1), y_train, epochs=100, validation_data=(tf.expand_dims(X_val, axis=-1), y_val))\n",
        "\n",
        "# 4. Test the model\n",
        "test_loss, test_acc = model.evaluate(tf.expand_dims(X_test, axis=-1), y_test, verbose=1)\n",
        "\n",
        "print(\"\\nTest accuracy: \", test_acc)"
      ]
    },
    {
      "cell_type": "code",
      "execution_count": null,
      "metadata": {
        "id": "EgpDRkwm1-lJ"
      },
      "outputs": [],
      "source": [
        "# Split the data into train and test sets\n",
        "from sklearn.model_selection import train_test_split\n",
        "\n",
        "# Convert tu numpy to use train_test_split\n",
        "X_np = X.numpy()\n",
        "y_np = y.numpy()\n",
        "\n",
        "# Divide the data\n",
        "X_train_np, X_test_np, y_train_np, y_test_np = train_test_split(X_np, y_np, test_size=0.2, random_state=42)\n",
        "\n",
        "# Convert to tensors\n",
        "X_train = tf.constant(X_train_np)\n",
        "y_train = tf.constant(y_train_np)\n",
        "X_test = tf.constant(X_test_np)\n",
        "y_test = tf.constant(y_test_np)\n",
        "\n",
        "len(X_train), len(X_test)"
      ]
    },
    {
      "cell_type": "code",
      "execution_count": null,
      "metadata": {
        "id": "O4VJBhJ93Pmb"
      },
      "outputs": [],
      "source": [
        "plt.figure(figsize=(10, 7))\n",
        "#Plot training data in blue\n",
        "plt.scatter(X_train, y_train, c=\"b\", label=\"Training data\")\n",
        "# Plot test data in green\n",
        "plt.scatter(X_test, y_test, c=\"g\", label=\"Testing data\")\n",
        "# Show a legend\n",
        "plt.legend()"
      ]
    },
    {
      "cell_type": "code",
      "execution_count": null,
      "metadata": {
        "id": "WS0K_aGw3a5a"
      },
      "outputs": [],
      "source": [
        "from os import name\n",
        "# Let's create a model which builds automatically by defining the input_shape argument in the first layer\n",
        "tf.random.set_seed(42)\n",
        "\n",
        "# 1. Create a model\n",
        "model = tf.keras.Sequential([\n",
        "    tf.keras.layers.Dense(10, input_shape=[1], name=\"input_layer\"),\n",
        "    tf.keras.layers.Dense(1, name=\"output_layer\")\n",
        "], name=\"model_1\")\n",
        "\n",
        "# 2. Compile the model (same as above)\n",
        "model.compile(loss=\"mae\",\n",
        "              optimizer=\"SGD\",\n",
        "              metrics=[\"mae\"])"
      ]
    },
    {
      "cell_type": "code",
      "execution_count": null,
      "metadata": {
        "id": "CiiMl4Mh4y6C"
      },
      "outputs": [],
      "source": [
        "model.summary()"
      ]
    },
    {
      "cell_type": "markdown",
      "metadata": {
        "id": "U1FK5Eeq5RIP"
      },
      "source": [
        "* Total params - total number of parameters in the model.\n",
        "* Trainable parameters - these are the parameters (patterns) the model can update as it trains.\n",
        "* Non-trainable params - these parameters aren't updated during training (this is typical when you bring in alredy learn patterns of parameters from other models during **transfer learning**)\n",
        "\n",
        "📖**Resourse**: https://www.youtube.com/watch?v=QDX-1M5Nj7s\n",
        "\n",
        "🛠️ **Exercise**: Try playing, around with the number of hidden units in the dense layer, see how that effects the number of parameters (total and trainable) by calling `model.summary()`"
      ]
    },
    {
      "cell_type": "code",
      "execution_count": null,
      "metadata": {
        "id": "OL3Mfn0N9UTC"
      },
      "outputs": [],
      "source": [
        "# Let's fit our model to the training data\n",
        "model.fit(tf.expand_dims(X_train, axis=-1), y_train, epochs=100, verbose=0)"
      ]
    },
    {
      "cell_type": "code",
      "execution_count": null,
      "metadata": {
        "id": "FV5keEOZPG99"
      },
      "outputs": [],
      "source": [
        "from tensorflow.keras.utils import plot_model\n",
        "\n",
        "plot_model(model=model, show_shapes=True)"
      ]
    },
    {
      "cell_type": "markdown",
      "metadata": {
        "id": "-1ipqfzEQ7Vt"
      },
      "source": [
        "### Visualizing our model's predictions\n",
        "\n",
        "To visualize predictions, it's a good idea to plot them against the ground truth labels.\n",
        "\n",
        "Often you'll see this in the form of `y_test` or `y_true` versus `y_pred` (ground truth versus model's predictions)"
      ]
    },
    {
      "cell_type": "code",
      "execution_count": null,
      "metadata": {
        "id": "cE-OqIEPS8hF"
      },
      "outputs": [],
      "source": [
        "y_pred = model.predict(tf.expand_dims(X_test, axis=-1))\n",
        "y_pred"
      ]
    },
    {
      "cell_type": "code",
      "execution_count": null,
      "metadata": {
        "id": "BDfbqJ_fTNtR"
      },
      "outputs": [],
      "source": [
        "y_test"
      ]
    },
    {
      "cell_type": "markdown",
      "metadata": {
        "id": "8_I9OtgBT5ZN"
      },
      "source": [
        "🔑**Note**: If you feel like you're going to reuse some kind of functionality in the future, it's a good idea to turn it into a function"
      ]
    },
    {
      "cell_type": "code",
      "execution_count": null,
      "metadata": {
        "id": "PxtTckftT0CF"
      },
      "outputs": [],
      "source": [
        "# let's create a plotting function\n",
        "def plot_predictions(train_data=X_train,\n",
        "                     train_labels=y_train,\n",
        "                     test_data=X_test,\n",
        "                     test_labels=y_test,\n",
        "                     predictions=y_pred):\n",
        "  # Plots training data, test data and compares predictions to ground truth labels\n",
        "  plt.figure(figsize=(10, 7))\n",
        "  # Plot training data in blue\n",
        "  plt.scatter(train_data, train_labels, c=\"b\", label=\"Training data\")\n",
        "  # Plot testing data in green\n",
        "  plt.scatter(test_data, test_labels, c=\"g\", label=\"Testing data\")\n",
        "  # Plot model's predictions in red\n",
        "  plt.scatter(test_data, predictions, c=\"r\", label=\"Predictions\")\n",
        "  # Show the legend\n",
        "  plt.legend()\n"
      ]
    },
    {
      "cell_type": "code",
      "execution_count": null,
      "metadata": {
        "id": "8GpqydYuT-g-"
      },
      "outputs": [],
      "source": [
        "plot_predictions()"
      ]
    },
    {
      "cell_type": "markdown",
      "metadata": {
        "id": "lN-evLPpUxKM"
      },
      "source": [
        "### Evaluating our model predictions with regression evaluation metrics\n",
        "\n",
        "Depending of the problem you're working on, there will be different evaluation metrics to evaluate your model's performance.\n",
        "\n",
        "Since we're working on a regression, two of the main metrics:\n",
        "* MAE - mean absolute error, \"on average, how wrong is each of my model's predictions\"\n",
        "* MSE - mean square error, \"square the average errors\""
      ]
    },
    {
      "cell_type": "code",
      "execution_count": null,
      "metadata": {
        "id": "KCsdOOEpX76j"
      },
      "outputs": [],
      "source": [
        "# Evaluate the model on the test\n",
        "model.evaluate(tf.expand_dims(X_test, axis=-1), y_test)"
      ]
    },
    {
      "cell_type": "code",
      "execution_count": null,
      "metadata": {
        "id": "mNe2r2a3YYGq"
      },
      "outputs": [],
      "source": [
        "# Calculate the mean absolute error\n",
        "tf.keras.losses.MAE(y_true=y_test, y_pred=tf.squeeze(y_pred))"
      ]
    },
    {
      "cell_type": "code",
      "execution_count": null,
      "metadata": {
        "id": "iq8BMVreZod8"
      },
      "outputs": [],
      "source": [
        "# Calculate the mean square error\n",
        "tf.keras.losses.MSE(y_true=y_test, y_pred=tf.squeeze(y_pred))"
      ]
    },
    {
      "cell_type": "code",
      "execution_count": null,
      "metadata": {
        "id": "xv2kIb4-aVRs"
      },
      "outputs": [],
      "source": [
        "# Make some functions to reuse MAE and MSE\n",
        "def mae(y_true, y_pred):\n",
        "  return tf.keras.losses.MAE(y_true=y_test, y_pred=tf.squeeze(y_pred))\n",
        "\n",
        "def mse(y_true, y_pred):\n",
        "  return tf.keras.losses.MSE(y_true=y_test, y_pred=tf.squeeze(y_pred))"
      ]
    },
    {
      "cell_type": "markdown",
      "metadata": {
        "id": "JcsbbSIyASru"
      },
      "source": [
        "### Running experimentes to improve our model\n",
        "\n",
        "1. Get more data - get more examples for your model to train on (more opportunities to learn patterns or relationships between features and labels)\n",
        "2. Make your model larger (using a more complex model) - this might come in the form of more layers or more hidden units in each layer.\n",
        "3. Train for longer - give your model more of a chance to find patterns in the data.\n",
        "\n",
        "Let's do 3 modelling experiments:\n",
        "1. `model_1` - same as the original model, 1 layer, trained for 100 epochs\n",
        "2. `model_2` - 2 layers, trained for 100 epochs\n",
        "3. `model_3` - 2 layers, trained for 500 epochs\n",
        "\n",
        "**Build `model_1`**"
      ]
    },
    {
      "cell_type": "code",
      "execution_count": null,
      "metadata": {
        "id": "c0R7rnBwASYN"
      },
      "outputs": [],
      "source": [
        "# Set random seed\n",
        "tf.random.set_seed(42)\n",
        "\n",
        "# 1. Create the model\n",
        "model_1 = tf.keras.Sequential([\n",
        "    tf.keras.layers.Dense(1)\n",
        "])\n",
        "\n",
        "# 2. Compile the model\n",
        "model_1.compile(loss=\"mae\",\n",
        "              optimizer=\"SGD\",\n",
        "              metrics=[\"mae\"])\n",
        "# 3. Fit the model\n",
        "model_1.fit(tf.expand_dims(X_train, axis=-1), y_train, epochs=100, verbose=0)"
      ]
    },
    {
      "cell_type": "code",
      "execution_count": null,
      "metadata": {
        "colab": {
          "background_save": true
        },
        "id": "HHtrLEJwEVbL",
        "outputId": "6cc3e45e-1457-4322-b185-784d65bb851b"
      },
      "outputs": [
        {
          "name": "stderr",
          "output_type": "stream",
          "text": [
            "WARNING:tensorflow:6 out of the last 6 calls to <function Model.make_predict_function.<locals>.predict_function at 0x797b5a709a20> triggered tf.function retracing. Tracing is expensive and the excessive number of tracings could be due to (1) creating @tf.function repeatedly in a loop, (2) passing tensors with different shapes, (3) passing Python objects instead of tensors. For (1), please define your @tf.function outside of the loop. For (2), @tf.function has reduce_retracing=True option that can avoid unnecessary retracing. For (3), please refer to https://www.tensorflow.org/guide/function#controlling_retracing and https://www.tensorflow.org/api_docs/python/tf/function for  more details.\n"
          ]
        },
        {
          "name": "stdout",
          "output_type": "stream",
          "text": [
            "1/1 [==============================] - 0s 51ms/step\n"
          ]
        },
        {
          "data": {
            "image/png": "[encoded data removed]",
            "text/plain": [
              "<Figure size 1000x700 with 1 Axes>"
            ]
          },
          "metadata": {},
          "output_type": "display_data"
        }
      ],
      "source": [
        "# Make and plot predicctions\n",
        "y_preds_1 = model_1.predict(X_test)\n",
        "plot_predictions(predictions=y_preds_1)"
      ]
    },
    {
      "cell_type": "code",
      "execution_count": null,
      "metadata": {
        "colab": {
          "background_save": true
        },
        "id": "9IwlXPfVFI9W",
        "outputId": "ea4aff5a-193e-4482-8d2b-5b152122d58d"
      },
      "outputs": [
        {
          "data": {
            "text/plain": [
              "(19.782345, 623.02325)"
            ]
          },
          "execution_count": 40,
          "metadata": {},
          "output_type": "execute_result"
        }
      ],
      "source": [
        "mae_1 = mae(y_test, y_preds_1)\n",
        "mse_1 = mse(y_test, y_preds_1)\n",
        "\n",
        "mae_1.numpy(), mse_1.numpy()"
      ]
    },
    {
      "cell_type": "markdown",
      "metadata": {
        "id": "vM-If9zeIBNh"
      },
      "source": [
        "**Build `model_2`**\n",
        "\n",
        "* 2 dense layers, trained for 100 epochs"
      ]
    },
    {
      "cell_type": "code",
      "execution_count": null,
      "metadata": {
        "colab": {
          "background_save": true
        },
        "id": "UKAlDCzNIIpn",
        "outputId": "aa15f0f8-64bf-4961-8fb4-453ef4a028bd"
      },
      "outputs": [
        {
          "data": {
            "text/plain": [
              "<keras.src.callbacks.History at 0x797b696c9090>"
            ]
          },
          "execution_count": 41,
          "metadata": {},
          "output_type": "execute_result"
        }
      ],
      "source": [
        "# Set random seed\n",
        "tf.random.set_seed(42)\n",
        "\n",
        "# 1. Create the model\n",
        "model_2 = tf.keras.Sequential([\n",
        "    tf.keras.layers.Dense(10),\n",
        "    tf.keras.layers.Dense(1)\n",
        "])\n",
        "\n",
        "# 2. Compile the model\n",
        "model_2.compile(loss=\"mae\",\n",
        "              optimizer=\"SGD\",\n",
        "              metrics=[\"mse\"])\n",
        "\n",
        "# 3. Fit the model\n",
        "model_2.fit(tf.expand_dims(X_train, axis=-1), y_train, epochs=100, verbose=0)"
      ]
    },
    {
      "cell_type": "code",
      "execution_count": null,
      "metadata": {
        "colab": {
          "background_save": true
        },
        "id": "C80wj_IaJau6",
        "outputId": "35f6eb82-54b5-43e4-a6c1-98e0a6c7abde"
      },
      "outputs": [
        {
          "name": "stdout",
          "output_type": "stream",
          "text": [
            "1/1 [==============================] - 0s 79ms/step\n"
          ]
        },
        {
          "data": {
            "image/png": "[encoded data removed]",
            "text/plain": [
              "<Figure size 1000x700 with 1 Axes>"
            ]
          },
          "metadata": {},
          "output_type": "display_data"
        }
      ],
      "source": [
        "# Make and plot predicctions\n",
        "y_preds_2 = model_2.predict(X_test)\n",
        "plot_predictions(predictions=y_preds_2)"
      ]
    },
    {
      "cell_type": "code",
      "execution_count": null,
      "metadata": {
        "colab": {
          "background_save": true
        },
        "id": "Y9bubYcuJkxm",
        "outputId": "2dc8f2ed-363d-490d-eb99-1edd0db5e1b0"
      },
      "outputs": [
        {
          "data": {
            "text/plain": [
              "(24.21718, 838.0548)"
            ]
          },
          "execution_count": 43,
          "metadata": {},
          "output_type": "execute_result"
        }
      ],
      "source": [
        "mae_2 = mae(y_test, y_preds_2)\n",
        "mse_2 = mse(y_test, y_preds_2)\n",
        "\n",
        "mae_2.numpy(), mse_2.numpy()"
      ]
    },
    {
      "cell_type": "markdown",
      "metadata": {
        "id": "BAz9cFkYLKG9"
      },
      "source": [
        "**Build `model_3`**\n",
        "* 2 layers, trained for 500 epochs"
      ]
    },
    {
      "cell_type": "code",
      "execution_count": null,
      "metadata": {
        "colab": {
          "background_save": true
        },
        "id": "Gq2qktrPLJsr",
        "outputId": "7c08848b-d47d-4c35-f282-efbe6fffabbf"
      },
      "outputs": [
        {
          "data": {
            "text/plain": [
              "<keras.src.callbacks.History at 0x797b6943d0c0>"
            ]
          },
          "execution_count": 44,
          "metadata": {},
          "output_type": "execute_result"
        }
      ],
      "source": [
        "# Set random seed\n",
        "tf.random.set_seed(42)\n",
        "\n",
        "# 1. Create the model\n",
        "model_3 = tf.keras.Sequential([\n",
        "    tf.keras.layers.Dense(10),\n",
        "    tf.keras.layers.Dense(1)\n",
        "])\n",
        "\n",
        "# 2. Compile the model\n",
        "model_3.compile(loss=\"mae\",\n",
        "                optimizer=\"SGD\",\n",
        "                metrics=[\"mse\"])\n",
        "\n",
        "# 3. Fit the model\n",
        "model_3.fit(tf.expand_dims(X_train, axis=-1), y_train, epochs=500, verbose=0)"
      ]
    },
    {
      "cell_type": "code",
      "execution_count": null,
      "metadata": {
        "colab": {
          "background_save": true
        },
        "id": "k5m_xy6SMJmj",
        "outputId": "32f61fb0-1193-46a4-9364-f2c603beeb52"
      },
      "outputs": [
        {
          "name": "stdout",
          "output_type": "stream",
          "text": [
            "1/1 [==============================] - 0s 53ms/step\n"
          ]
        },
        {
          "data": {
            "image/png": "[encoded data removed]",
            "text/plain": [
              "<Figure size 1000x700 with 1 Axes>"
            ]
          },
          "metadata": {},
          "output_type": "display_data"
        }
      ],
      "source": [
        "# Make and plot predicctions\n",
        "y_preds_3 = model_3.predict(X_test)\n",
        "plot_predictions(predictions=y_preds_3)"
      ]
    },
    {
      "cell_type": "code",
      "execution_count": null,
      "metadata": {
        "colab": {
          "background_save": true
        },
        "id": "tDxRYuTPMTR2",
        "outputId": "cf41de31-6d4e-4f8a-9b00-307fa4d8dc29"
      },
      "outputs": [
        {
          "data": {
            "text/plain": [
              "(33.881382, 1770.2662)"
            ]
          },
          "execution_count": 46,
          "metadata": {},
          "output_type": "execute_result"
        }
      ],
      "source": [
        "mae_3 = mae(y_test, y_preds_3)\n",
        "mse_3 = mse(y_test, y_preds_3)\n",
        "\n",
        "mae_3.numpy(), mse_3.numpy()"
      ]
    },
    {
      "cell_type": "markdown",
      "metadata": {
        "id": "IraQ80OhnNW5"
      },
      "source": [
        "🔑**Note:** You want to start with small experiments (small models) and make sure they work and then increase their scale when necessary."
      ]
    },
    {
      "cell_type": "markdown",
      "metadata": {
        "id": "25dTAo8EnqPh"
      },
      "source": [
        "### Comparing the results of our experiments\n",
        "\n",
        "We've run a few experiments, let's compare the results."
      ]
    },
    {
      "cell_type": "code",
      "execution_count": null,
      "metadata": {
        "colab": {
          "background_save": true
        },
        "id": "UnuUOKkfn21J",
        "outputId": "7f38b6a3-dd80-4c93-955e-d4ce9c0606db"
      },
      "outputs": [
        {
          "data": {
            "text/html": [
              "\n",
              "  <div id=\"df-ed70bb6c-4874-46b2-8931-cfde9ca81d36\" class=\"colab-df-container\">\n",
              "    <div>\n",
              "<style scoped>\n",
              "    .dataframe tbody tr th:only-of-type {\n",
              "        vertical-align: middle;\n",
              "    }\n",
              "\n",
              "    .dataframe tbody tr th {\n",
              "        vertical-align: top;\n",
              "    }\n",
              "\n",
              "    .dataframe thead th {\n",
              "        text-align: right;\n",
              "    }\n",
              "</style>\n",
              "<table border=\"1\" class=\"dataframe\">\n",
              "  <thead>\n",
              "    <tr style=\"text-align: right;\">\n",
              "      <th></th>\n",
              "      <th>model</th>\n",
              "      <th>mae</th>\n",
              "      <th>mse</th>\n",
              "    </tr>\n",
              "  </thead>\n",
              "  <tbody>\n",
              "    <tr>\n",
              "      <th>0</th>\n",
              "      <td>model_1</td>\n",
              "      <td>19.782345</td>\n",
              "      <td>623.023254</td>\n",
              "    </tr>\n",
              "    <tr>\n",
              "      <th>1</th>\n",
              "      <td>model_2</td>\n",
              "      <td>24.217180</td>\n",
              "      <td>838.054810</td>\n",
              "    </tr>\n",
              "    <tr>\n",
              "      <th>2</th>\n",
              "      <td>model_3</td>\n",
              "      <td>33.881382</td>\n",
              "      <td>1770.266235</td>\n",
              "    </tr>\n",
              "  </tbody>\n",
              "</table>\n",
              "</div>\n",
              "    <div class=\"colab-df-buttons\">\n",
              "\n",
              "  <div class=\"colab-df-container\">\n",
              "    <button class=\"colab-df-convert\" onclick=\"convertToInteractive('df-ed70bb6c-4874-46b2-8931-cfde9ca81d36')\"\n",
              "            title=\"Convert this dataframe to an interactive table.\"\n",
              "            style=\"display:none;\">\n",
              "\n",
              "  <svg xmlns=\"http://www.w3.org/2000/svg\" height=\"24px\" viewBox=\"0 -960 960 960\">\n",
              "    <path d=\"M120-120v-720h720v720H120Zm60-500h600v-160H180v160Zm220 220h160v-160H400v160Zm0 220h160v-160H400v160ZM180-400h160v-160H180v160Zm440 0h160v-160H620v160ZM180-180h160v-160H180v160Zm440 0h160v-160H620v160Z\"/>\n",
              "  </svg>\n",
              "    </button>\n",
              "\n",
              "  <style>\n",
              "    .colab-df-container {\n",
              "      display:flex;\n",
              "      gap: 12px;\n",
              "    }\n",
              "\n",
              "    .colab-df-convert {\n",
              "      background-color: #E8F0FE;\n",
              "      border: none;\n",
              "      border-radius: 50%;\n",
              "      cursor: pointer;\n",
              "      display: none;\n",
              "      fill: #1967D2;\n",
              "      height: 32px;\n",
              "      padding: 0 0 0 0;\n",
              "      width: 32px;\n",
              "    }\n",
              "\n",
              "    .colab-df-convert:hover {\n",
              "      background-color: #E2EBFA;\n",
              "      box-shadow: 0px 1px 2px rgba(60, 64, 67, 0.3), 0px 1px 3px 1px rgba(60, 64, 67, 0.15);\n",
              "      fill: #174EA6;\n",
              "    }\n",
              "\n",
              "    .colab-df-buttons div {\n",
              "      margin-bottom: 4px;\n",
              "    }\n",
              "\n",
              "    [theme=dark] .colab-df-convert {\n",
              "      background-color: #3B4455;\n",
              "      fill: #D2E3FC;\n",
              "    }\n",
              "\n",
              "    [theme=dark] .colab-df-convert:hover {\n",
              "      background-color: #434B5C;\n",
              "      box-shadow: 0px 1px 3px 1px rgba(0, 0, 0, 0.15);\n",
              "      filter: drop-shadow(0px 1px 2px rgba(0, 0, 0, 0.3));\n",
              "      fill: #FFFFFF;\n",
              "    }\n",
              "  </style>\n",
              "\n",
              "    <script>\n",
              "      const buttonEl =\n",
              "        document.querySelector('#df-ed70bb6c-4874-46b2-8931-cfde9ca81d36 button.colab-df-convert');\n",
              "      buttonEl.style.display =\n",
              "        google.colab.kernel.accessAllowed ? 'block' : 'none';\n",
              "\n",
              "      async function convertToInteractive(key) {\n",
              "        const element = document.querySelector('#df-ed70bb6c-4874-46b2-8931-cfde9ca81d36');\n",
              "        const dataTable =\n",
              "          await google.colab.kernel.invokeFunction('convertToInteractive',\n",
              "                                                    [key], {});\n",
              "        if (!dataTable) return;\n",
              "\n",
              "        const docLinkHtml = 'Like what you see? Visit the ' +\n",
              "          '<a target=\"_blank\" href=https://colab.research.google.com/notebooks/data_table.ipynb>data table notebook</a>'\n",
              "          + ' to learn more about interactive tables.';\n",
              "        element.innerHTML = '';\n",
              "        dataTable['output_type'] = 'display_data';\n",
              "        await google.colab.output.renderOutput(dataTable, element);\n",
              "        const docLink = document.createElement('div');\n",
              "        docLink.innerHTML = docLinkHtml;\n",
              "        element.appendChild(docLink);\n",
              "      }\n",
              "    </script>\n",
              "  </div>\n",
              "\n",
              "\n",
              "<div id=\"df-43831685-6f37-44d7-9dd3-f21184590b8e\">\n",
              "  <button class=\"colab-df-quickchart\" onclick=\"quickchart('df-43831685-6f37-44d7-9dd3-f21184590b8e')\"\n",
              "            title=\"Suggest charts\"\n",
              "            style=\"display:none;\">\n",
              "\n",
              "<svg xmlns=\"http://www.w3.org/2000/svg\" height=\"24px\"viewBox=\"0 0 24 24\"\n",
              "     width=\"24px\">\n",
              "    <g>\n",
              "        <path d=\"M19 3H5c-1.1 0-2 .9-2 2v14c0 1.1.9 2 2 2h14c1.1 0 2-.9 2-2V5c0-1.1-.9-2-2-2zM9 17H7v-7h2v7zm4 0h-2V7h2v10zm4 0h-2v-4h2v4z\"/>\n",
              "    </g>\n",
              "</svg>\n",
              "  </button>\n",
              "\n",
              "<style>\n",
              "  .colab-df-quickchart {\n",
              "      --bg-color: #E8F0FE;\n",
              "      --fill-color: #1967D2;\n",
              "      --hover-bg-color: #E2EBFA;\n",
              "      --hover-fill-color: #174EA6;\n",
              "      --disabled-fill-color: #AAA;\n",
              "      --disabled-bg-color: #DDD;\n",
              "  }\n",
              "\n",
              "  [theme=dark] .colab-df-quickchart {\n",
              "      --bg-color: #3B4455;\n",
              "      --fill-color: #D2E3FC;\n",
              "      --hover-bg-color: #434B5C;\n",
              "      --hover-fill-color: #FFFFFF;\n",
              "      --disabled-bg-color: #3B4455;\n",
              "      --disabled-fill-color: #666;\n",
              "  }\n",
              "\n",
              "  .colab-df-quickchart {\n",
              "    background-color: var(--bg-color);\n",
              "    border: none;\n",
              "    border-radius: 50%;\n",
              "    cursor: pointer;\n",
              "    display: none;\n",
              "    fill: var(--fill-color);\n",
              "    height: 32px;\n",
              "    padding: 0;\n",
              "    width: 32px;\n",
              "  }\n",
              "\n",
              "  .colab-df-quickchart:hover {\n",
              "    background-color: var(--hover-bg-color);\n",
              "    box-shadow: 0 1px 2px rgba(60, 64, 67, 0.3), 0 1px 3px 1px rgba(60, 64, 67, 0.15);\n",
              "    fill: var(--button-hover-fill-color);\n",
              "  }\n",
              "\n",
              "  .colab-df-quickchart-complete:disabled,\n",
              "  .colab-df-quickchart-complete:disabled:hover {\n",
              "    background-color: var(--disabled-bg-color);\n",
              "    fill: var(--disabled-fill-color);\n",
              "    box-shadow: none;\n",
              "  }\n",
              "\n",
              "  .colab-df-spinner {\n",
              "    border: 2px solid var(--fill-color);\n",
              "    border-color: transparent;\n",
              "    border-bottom-color: var(--fill-color);\n",
              "    animation:\n",
              "      spin 1s steps(1) infinite;\n",
              "  }\n",
              "\n",
              "  @keyframes spin {\n",
              "    0% {\n",
              "      border-color: transparent;\n",
              "      border-bottom-color: var(--fill-color);\n",
              "      border-left-color: var(--fill-color);\n",
              "    }\n",
              "    20% {\n",
              "      border-color: transparent;\n",
              "      border-left-color: var(--fill-color);\n",
              "      border-top-color: var(--fill-color);\n",
              "    }\n",
              "    30% {\n",
              "      border-color: transparent;\n",
              "      border-left-color: var(--fill-color);\n",
              "      border-top-color: var(--fill-color);\n",
              "      border-right-color: var(--fill-color);\n",
              "    }\n",
              "    40% {\n",
              "      border-color: transparent;\n",
              "      border-right-color: var(--fill-color);\n",
              "      border-top-color: var(--fill-color);\n",
              "    }\n",
              "    60% {\n",
              "      border-color: transparent;\n",
              "      border-right-color: var(--fill-color);\n",
              "    }\n",
              "    80% {\n",
              "      border-color: transparent;\n",
              "      border-right-color: var(--fill-color);\n",
              "      border-bottom-color: var(--fill-color);\n",
              "    }\n",
              "    90% {\n",
              "      border-color: transparent;\n",
              "      border-bottom-color: var(--fill-color);\n",
              "    }\n",
              "  }\n",
              "</style>\n",
              "\n",
              "  <script>\n",
              "    async function quickchart(key) {\n",
              "      const quickchartButtonEl =\n",
              "        document.querySelector('#' + key + ' button');\n",
              "      quickchartButtonEl.disabled = true;  // To prevent multiple clicks.\n",
              "      quickchartButtonEl.classList.add('colab-df-spinner');\n",
              "      try {\n",
              "        const charts = await google.colab.kernel.invokeFunction(\n",
              "            'suggestCharts', [key], {});\n",
              "      } catch (error) {\n",
              "        console.error('Error during call to suggestCharts:', error);\n",
              "      }\n",
              "      quickchartButtonEl.classList.remove('colab-df-spinner');\n",
              "      quickchartButtonEl.classList.add('colab-df-quickchart-complete');\n",
              "    }\n",
              "    (() => {\n",
              "      let quickchartButtonEl =\n",
              "        document.querySelector('#df-43831685-6f37-44d7-9dd3-f21184590b8e button');\n",
              "      quickchartButtonEl.style.display =\n",
              "        google.colab.kernel.accessAllowed ? 'block' : 'none';\n",
              "    })();\n",
              "  </script>\n",
              "</div>\n",
              "\n",
              "  <div id=\"id_edb586ac-9a7d-4f7e-a154-5238420d8939\">\n",
              "    <style>\n",
              "      .colab-df-generate {\n",
              "        background-color: #E8F0FE;\n",
              "        border: none;\n",
              "        border-radius: 50%;\n",
              "        cursor: pointer;\n",
              "        display: none;\n",
              "        fill: #1967D2;\n",
              "        height: 32px;\n",
              "        padding: 0 0 0 0;\n",
              "        width: 32px;\n",
              "      }\n",
              "\n",
              "      .colab-df-generate:hover {\n",
              "        background-color: #E2EBFA;\n",
              "        box-shadow: 0px 1px 2px rgba(60, 64, 67, 0.3), 0px 1px 3px 1px rgba(60, 64, 67, 0.15);\n",
              "        fill: #174EA6;\n",
              "      }\n",
              "\n",
              "      [theme=dark] .colab-df-generate {\n",
              "        background-color: #3B4455;\n",
              "        fill: #D2E3FC;\n",
              "      }\n",
              "\n",
              "      [theme=dark] .colab-df-generate:hover {\n",
              "        background-color: #434B5C;\n",
              "        box-shadow: 0px 1px 3px 1px rgba(0, 0, 0, 0.15);\n",
              "        filter: drop-shadow(0px 1px 2px rgba(0, 0, 0, 0.3));\n",
              "        fill: #FFFFFF;\n",
              "      }\n",
              "    </style>\n",
              "    <button class=\"colab-df-generate\" onclick=\"generateWithVariable('all_results')\"\n",
              "            title=\"Generate code using this dataframe.\"\n",
              "            style=\"display:none;\">\n",
              "\n",
              "  <svg xmlns=\"http://www.w3.org/2000/svg\" height=\"24px\"viewBox=\"0 0 24 24\"\n",
              "       width=\"24px\">\n",
              "    <path d=\"M7,19H8.4L18.45,9,17,7.55,7,17.6ZM5,21V16.75L18.45,3.32a2,2,0,0,1,2.83,0l1.4,1.43a1.91,1.91,0,0,1,.58,1.4,1.91,1.91,0,0,1-.58,1.4L9.25,21ZM18.45,9,17,7.55Zm-12,3A5.31,5.31,0,0,0,4.9,8.1,5.31,5.31,0,0,0,1,6.5,5.31,5.31,0,0,0,4.9,4.9,5.31,5.31,0,0,0,6.5,1,5.31,5.31,0,0,0,8.1,4.9,5.31,5.31,0,0,0,12,6.5,5.46,5.46,0,0,0,6.5,12Z\"/>\n",
              "  </svg>\n",
              "    </button>\n",
              "    <script>\n",
              "      (() => {\n",
              "      const buttonEl =\n",
              "        document.querySelector('#id_edb586ac-9a7d-4f7e-a154-5238420d8939 button.colab-df-generate');\n",
              "      buttonEl.style.display =\n",
              "        google.colab.kernel.accessAllowed ? 'block' : 'none';\n",
              "\n",
              "      buttonEl.onclick = () => {\n",
              "        google.colab.notebook.generateWithVariable('all_results');\n",
              "      }\n",
              "      })();\n",
              "    </script>\n",
              "  </div>\n",
              "\n",
              "    </div>\n",
              "  </div>\n"
            ],
            "text/plain": [
              "     model        mae          mse\n",
              "0  model_1  19.782345   623.023254\n",
              "1  model_2  24.217180   838.054810\n",
              "2  model_3  33.881382  1770.266235"
            ]
          },
          "execution_count": 47,
          "metadata": {},
          "output_type": "execute_result"
        }
      ],
      "source": [
        "# Let's compare our model's results using a pandas DataFrame\n",
        "import pandas as pd\n",
        "\n",
        "model_results = [[\"model_1\", mae_1.numpy(), mse_1.numpy()],\n",
        "                 [\"model_2\", mae_2.numpy(), mse_2.numpy()],\n",
        "                 [\"model_3\", mae_3.numpy(), mse_3.numpy()]]\n",
        "\n",
        "all_results = pd.DataFrame(model_results, columns=[\"model\", \"mae\", \"mse\"])\n",
        "all_results"
      ]
    },
    {
      "cell_type": "markdown",
      "metadata": {
        "id": "q30CAsHzsKXc"
      },
      "source": [
        "🔑**Note:** One of your main goals should be to minimize the time between your experiments. The more experiments you do, the more things you''ll figure out which don't work and in turn, get closer to figuring out what does work. Remember the machile learning practioner's motto: \"experiment, experiment, experiment\"."
      ]
    },
    {
      "cell_type": "markdown",
      "metadata": {
        "id": "qvetY-NQtfgM"
      },
      "source": [
        "## Tracking your experiments\n",
        "\n",
        "One really good habit in machine learning modelling is to track the results of your experiments.\n",
        "\n",
        "And when doing so, it can be tedious if you're running lots of experiments.\n",
        "\n",
        "Luckily, there are tools to help us.\n",
        "\n",
        "📖**Resources**: As you build more models, you'll want to look into using:\n",
        "\n",
        "* TensorBoard - a component of the TensorFlow library to help track modelling experiments (we'll see this one later)\n",
        "* Weights & Biases - a tool for tracking all kinds of machine learning experiments (plugs straight into TensorFlow)"
      ]
    },
    {
      "cell_type": "markdown",
      "metadata": {
        "id": "D1wnipVJux8s"
      },
      "source": [
        "## Saving our models\n",
        "\n",
        "Saving our models allows us to use them outside of Google Colab (or wherever they were trained) such as in a web application or mobile app.\n",
        "\n",
        "There are two main formats we can save our model's too:\n",
        "1. The SavedModel format\n",
        "2. The HDF5 format"
      ]
    },
    {
      "cell_type": "code",
      "execution_count": null,
      "metadata": {
        "colab": {
          "background_save": true
        },
        "id": "9HqID9fU9w-e"
      },
      "outputs": [],
      "source": [
        "# Save model usin the SavedModel format\n",
        "model_2.save(\"best_model_SaveModel_format\")"
      ]
    },
    {
      "cell_type": "code",
      "execution_count": null,
      "metadata": {
        "colab": {
          "background_save": true
        },
        "id": "qjkZE_B_-fxJ",
        "outputId": "77ed301c-dfa5-4d08-8223-a1e1c2a52ad6"
      },
      "outputs": [
        {
          "name": "stderr",
          "output_type": "stream",
          "text": [
            "/usr/local/lib/python3.10/dist-packages/keras/src/engine/training.py:3103: UserWarning: You are saving your model as an HDF5 file via `model.save()`. This file format is considered legacy. We recommend using instead the native Keras format, e.g. `model.save('my_model.keras')`.\n",
            "  saving_api.save_model(\n"
          ]
        }
      ],
      "source": [
        "# Save model using the HDF5 format\n",
        "model_2.save(\"best_model_HDF5_format.h5\")"
      ]
    },
    {
      "cell_type": "markdown",
      "metadata": {
        "id": "QoWa-zB8_Ae5"
      },
      "source": [
        "## Loading in a save model"
      ]
    },
    {
      "cell_type": "code",
      "execution_count": null,
      "metadata": {
        "colab": {
          "background_save": true
        },
        "id": "suAIxg-i_GFs",
        "outputId": "652c9109-e885-404f-f68f-98210f492dec"
      },
      "outputs": [
        {
          "name": "stdout",
          "output_type": "stream",
          "text": [
            "Model: \"sequential_6\"\n",
            "_________________________________________________________________\n",
            " Layer (type)                Output Shape              Param #   \n",
            "=================================================================\n",
            " dense_8 (Dense)             (None, 10)                20        \n",
            "                                                                 \n",
            " dense_9 (Dense)             (None, 1)                 11        \n",
            "                                                                 \n",
            "=================================================================\n",
            "Total params: 31 (124.00 Byte)\n",
            "Trainable params: 31 (124.00 Byte)\n",
            "Non-trainable params: 0 (0.00 Byte)\n",
            "_________________________________________________________________\n"
          ]
        }
      ],
      "source": [
        "# Load in the SaveModel format model\n",
        "loaded_SaveModel_format = tf.keras.models.load_model(\"/content/best_model_SaveModel_format\")\n",
        "loaded_SaveModel_format.summary()"
      ]
    },
    {
      "cell_type": "code",
      "execution_count": null,
      "metadata": {
        "colab": {
          "background_save": true
        },
        "id": "t_HyxY7oAjNy",
        "outputId": "a67c10c3-c3c1-4dd9-d7d9-f7060574ea8a"
      },
      "outputs": [
        {
          "name": "stdout",
          "output_type": "stream",
          "text": [
            "Model: \"sequential_6\"\n",
            "_________________________________________________________________\n",
            " Layer (type)                Output Shape              Param #   \n",
            "=================================================================\n",
            " dense_8 (Dense)             (None, 10)                20        \n",
            "                                                                 \n",
            " dense_9 (Dense)             (None, 1)                 11        \n",
            "                                                                 \n",
            "=================================================================\n",
            "Total params: 31 (124.00 Byte)\n",
            "Trainable params: 31 (124.00 Byte)\n",
            "Non-trainable params: 0 (0.00 Byte)\n",
            "_________________________________________________________________\n"
          ]
        }
      ],
      "source": [
        "# Load in a model using the .h5 format\n",
        "loaded_h5_model = tf.keras.models.load_model(\"/content/best_model_HDF5_format.h5\")\n",
        "loaded_h5_model.summary()"
      ]
    },
    {
      "cell_type": "markdown",
      "metadata": {
        "id": "twtBvJy732rt"
      },
      "source": [
        "## A larger example"
      ]
    },
    {
      "cell_type": "code",
      "execution_count": null,
      "metadata": {
        "id": "hZVa1K8J6TXR"
      },
      "outputs": [],
      "source": [
        "# Imports\n",
        "import tensorflow as tf\n",
        "import pandas as pd\n",
        "import matplotlib.pyplot as plt\n",
        "from sklearn.model_selection import train_test_split"
      ]
    },
    {
      "cell_type": "code",
      "execution_count": null,
      "metadata": {
        "colab": {
          "base_uri": "https://localhost:8080/",
          "height": 424
        },
        "id": "y3X28Wne6fO6",
        "outputId": "54217871-7c47-4e0d-b025-1a2df33d7ee0"
      },
      "outputs": [
        {
          "data": {
            "text/html": [
              "\n",
              "  <div id=\"df-3487337c-b923-477f-8ae3-acd03fe4b8ad\" class=\"colab-df-container\">\n",
              "    <div>\n",
              "<style scoped>\n",
              "    .dataframe tbody tr th:only-of-type {\n",
              "        vertical-align: middle;\n",
              "    }\n",
              "\n",
              "    .dataframe tbody tr th {\n",
              "        vertical-align: top;\n",
              "    }\n",
              "\n",
              "    .dataframe thead th {\n",
              "        text-align: right;\n",
              "    }\n",
              "</style>\n",
              "<table border=\"1\" class=\"dataframe\">\n",
              "  <thead>\n",
              "    <tr style=\"text-align: right;\">\n",
              "      <th></th>\n",
              "      <th>age</th>\n",
              "      <th>sex</th>\n",
              "      <th>bmi</th>\n",
              "      <th>children</th>\n",
              "      <th>smoker</th>\n",
              "      <th>region</th>\n",
              "      <th>charges</th>\n",
              "    </tr>\n",
              "  </thead>\n",
              "  <tbody>\n",
              "    <tr>\n",
              "      <th>0</th>\n",
              "      <td>19</td>\n",
              "      <td>female</td>\n",
              "      <td>27.900</td>\n",
              "      <td>0</td>\n",
              "      <td>yes</td>\n",
              "      <td>southwest</td>\n",
              "      <td>16884.92400</td>\n",
              "    </tr>\n",
              "    <tr>\n",
              "      <th>1</th>\n",
              "      <td>18</td>\n",
              "      <td>male</td>\n",
              "      <td>33.770</td>\n",
              "      <td>1</td>\n",
              "      <td>no</td>\n",
              "      <td>southeast</td>\n",
              "      <td>1725.55230</td>\n",
              "    </tr>\n",
              "    <tr>\n",
              "      <th>2</th>\n",
              "      <td>28</td>\n",
              "      <td>male</td>\n",
              "      <td>33.000</td>\n",
              "      <td>3</td>\n",
              "      <td>no</td>\n",
              "      <td>southeast</td>\n",
              "      <td>4449.46200</td>\n",
              "    </tr>\n",
              "    <tr>\n",
              "      <th>3</th>\n",
              "      <td>33</td>\n",
              "      <td>male</td>\n",
              "      <td>22.705</td>\n",
              "      <td>0</td>\n",
              "      <td>no</td>\n",
              "      <td>northwest</td>\n",
              "      <td>21984.47061</td>\n",
              "    </tr>\n",
              "    <tr>\n",
              "      <th>4</th>\n",
              "      <td>32</td>\n",
              "      <td>male</td>\n",
              "      <td>28.880</td>\n",
              "      <td>0</td>\n",
              "      <td>no</td>\n",
              "      <td>northwest</td>\n",
              "      <td>3866.85520</td>\n",
              "    </tr>\n",
              "    <tr>\n",
              "      <th>...</th>\n",
              "      <td>...</td>\n",
              "      <td>...</td>\n",
              "      <td>...</td>\n",
              "      <td>...</td>\n",
              "      <td>...</td>\n",
              "      <td>...</td>\n",
              "      <td>...</td>\n",
              "    </tr>\n",
              "    <tr>\n",
              "      <th>1333</th>\n",
              "      <td>50</td>\n",
              "      <td>male</td>\n",
              "      <td>30.970</td>\n",
              "      <td>3</td>\n",
              "      <td>no</td>\n",
              "      <td>northwest</td>\n",
              "      <td>10600.54830</td>\n",
              "    </tr>\n",
              "    <tr>\n",
              "      <th>1334</th>\n",
              "      <td>18</td>\n",
              "      <td>female</td>\n",
              "      <td>31.920</td>\n",
              "      <td>0</td>\n",
              "      <td>no</td>\n",
              "      <td>northeast</td>\n",
              "      <td>2205.98080</td>\n",
              "    </tr>\n",
              "    <tr>\n",
              "      <th>1335</th>\n",
              "      <td>18</td>\n",
              "      <td>female</td>\n",
              "      <td>36.850</td>\n",
              "      <td>0</td>\n",
              "      <td>no</td>\n",
              "      <td>southeast</td>\n",
              "      <td>1629.83350</td>\n",
              "    </tr>\n",
              "    <tr>\n",
              "      <th>1336</th>\n",
              "      <td>21</td>\n",
              "      <td>female</td>\n",
              "      <td>25.800</td>\n",
              "      <td>0</td>\n",
              "      <td>no</td>\n",
              "      <td>southwest</td>\n",
              "      <td>2007.94500</td>\n",
              "    </tr>\n",
              "    <tr>\n",
              "      <th>1337</th>\n",
              "      <td>61</td>\n",
              "      <td>female</td>\n",
              "      <td>29.070</td>\n",
              "      <td>0</td>\n",
              "      <td>yes</td>\n",
              "      <td>northwest</td>\n",
              "      <td>29141.36030</td>\n",
              "    </tr>\n",
              "  </tbody>\n",
              "</table>\n",
              "<p>1338 rows × 7 columns</p>\n",
              "</div>\n",
              "    <div class=\"colab-df-buttons\">\n",
              "\n",
              "  <div class=\"colab-df-container\">\n",
              "    <button class=\"colab-df-convert\" onclick=\"convertToInteractive('df-3487337c-b923-477f-8ae3-acd03fe4b8ad')\"\n",
              "            title=\"Convert this dataframe to an interactive table.\"\n",
              "            style=\"display:none;\">\n",
              "\n",
              "  <svg xmlns=\"http://www.w3.org/2000/svg\" height=\"24px\" viewBox=\"0 -960 960 960\">\n",
              "    <path d=\"M120-120v-720h720v720H120Zm60-500h600v-160H180v160Zm220 220h160v-160H400v160Zm0 220h160v-160H400v160ZM180-400h160v-160H180v160Zm440 0h160v-160H620v160ZM180-180h160v-160H180v160Zm440 0h160v-160H620v160Z\"/>\n",
              "  </svg>\n",
              "    </button>\n",
              "\n",
              "  <style>\n",
              "    .colab-df-container {\n",
              "      display:flex;\n",
              "      gap: 12px;\n",
              "    }\n",
              "\n",
              "    .colab-df-convert {\n",
              "      background-color: #E8F0FE;\n",
              "      border: none;\n",
              "      border-radius: 50%;\n",
              "      cursor: pointer;\n",
              "      display: none;\n",
              "      fill: #1967D2;\n",
              "      height: 32px;\n",
              "      padding: 0 0 0 0;\n",
              "      width: 32px;\n",
              "    }\n",
              "\n",
              "    .colab-df-convert:hover {\n",
              "      background-color: #E2EBFA;\n",
              "      box-shadow: 0px 1px 2px rgba(60, 64, 67, 0.3), 0px 1px 3px 1px rgba(60, 64, 67, 0.15);\n",
              "      fill: #174EA6;\n",
              "    }\n",
              "\n",
              "    .colab-df-buttons div {\n",
              "      margin-bottom: 4px;\n",
              "    }\n",
              "\n",
              "    [theme=dark] .colab-df-convert {\n",
              "      background-color: #3B4455;\n",
              "      fill: #D2E3FC;\n",
              "    }\n",
              "\n",
              "    [theme=dark] .colab-df-convert:hover {\n",
              "      background-color: #434B5C;\n",
              "      box-shadow: 0px 1px 3px 1px rgba(0, 0, 0, 0.15);\n",
              "      filter: drop-shadow(0px 1px 2px rgba(0, 0, 0, 0.3));\n",
              "      fill: #FFFFFF;\n",
              "    }\n",
              "  </style>\n",
              "\n",
              "    <script>\n",
              "      const buttonEl =\n",
              "        document.querySelector('#df-3487337c-b923-477f-8ae3-acd03fe4b8ad button.colab-df-convert');\n",
              "      buttonEl.style.display =\n",
              "        google.colab.kernel.accessAllowed ? 'block' : 'none';\n",
              "\n",
              "      async function convertToInteractive(key) {\n",
              "        const element = document.querySelector('#df-3487337c-b923-477f-8ae3-acd03fe4b8ad');\n",
              "        const dataTable =\n",
              "          await google.colab.kernel.invokeFunction('convertToInteractive',\n",
              "                                                    [key], {});\n",
              "        if (!dataTable) return;\n",
              "\n",
              "        const docLinkHtml = 'Like what you see? Visit the ' +\n",
              "          '<a target=\"_blank\" href=https://colab.research.google.com/notebooks/data_table.ipynb>data table notebook</a>'\n",
              "          + ' to learn more about interactive tables.';\n",
              "        element.innerHTML = '';\n",
              "        dataTable['output_type'] = 'display_data';\n",
              "        await google.colab.output.renderOutput(dataTable, element);\n",
              "        const docLink = document.createElement('div');\n",
              "        docLink.innerHTML = docLinkHtml;\n",
              "        element.appendChild(docLink);\n",
              "      }\n",
              "    </script>\n",
              "  </div>\n",
              "\n",
              "\n",
              "<div id=\"df-0a67d723-3630-4462-842b-94dbf54eb5cd\">\n",
              "  <button class=\"colab-df-quickchart\" onclick=\"quickchart('df-0a67d723-3630-4462-842b-94dbf54eb5cd')\"\n",
              "            title=\"Suggest charts\"\n",
              "            style=\"display:none;\">\n",
              "\n",
              "<svg xmlns=\"http://www.w3.org/2000/svg\" height=\"24px\"viewBox=\"0 0 24 24\"\n",
              "     width=\"24px\">\n",
              "    <g>\n",
              "        <path d=\"M19 3H5c-1.1 0-2 .9-2 2v14c0 1.1.9 2 2 2h14c1.1 0 2-.9 2-2V5c0-1.1-.9-2-2-2zM9 17H7v-7h2v7zm4 0h-2V7h2v10zm4 0h-2v-4h2v4z\"/>\n",
              "    </g>\n",
              "</svg>\n",
              "  </button>\n",
              "\n",
              "<style>\n",
              "  .colab-df-quickchart {\n",
              "      --bg-color: #E8F0FE;\n",
              "      --fill-color: #1967D2;\n",
              "      --hover-bg-color: #E2EBFA;\n",
              "      --hover-fill-color: #174EA6;\n",
              "      --disabled-fill-color: #AAA;\n",
              "      --disabled-bg-color: #DDD;\n",
              "  }\n",
              "\n",
              "  [theme=dark] .colab-df-quickchart {\n",
              "      --bg-color: #3B4455;\n",
              "      --fill-color: #D2E3FC;\n",
              "      --hover-bg-color: #434B5C;\n",
              "      --hover-fill-color: #FFFFFF;\n",
              "      --disabled-bg-color: #3B4455;\n",
              "      --disabled-fill-color: #666;\n",
              "  }\n",
              "\n",
              "  .colab-df-quickchart {\n",
              "    background-color: var(--bg-color);\n",
              "    border: none;\n",
              "    border-radius: 50%;\n",
              "    cursor: pointer;\n",
              "    display: none;\n",
              "    fill: var(--fill-color);\n",
              "    height: 32px;\n",
              "    padding: 0;\n",
              "    width: 32px;\n",
              "  }\n",
              "\n",
              "  .colab-df-quickchart:hover {\n",
              "    background-color: var(--hover-bg-color);\n",
              "    box-shadow: 0 1px 2px rgba(60, 64, 67, 0.3), 0 1px 3px 1px rgba(60, 64, 67, 0.15);\n",
              "    fill: var(--button-hover-fill-color);\n",
              "  }\n",
              "\n",
              "  .colab-df-quickchart-complete:disabled,\n",
              "  .colab-df-quickchart-complete:disabled:hover {\n",
              "    background-color: var(--disabled-bg-color);\n",
              "    fill: var(--disabled-fill-color);\n",
              "    box-shadow: none;\n",
              "  }\n",
              "\n",
              "  .colab-df-spinner {\n",
              "    border: 2px solid var(--fill-color);\n",
              "    border-color: transparent;\n",
              "    border-bottom-color: var(--fill-color);\n",
              "    animation:\n",
              "      spin 1s steps(1) infinite;\n",
              "  }\n",
              "\n",
              "  @keyframes spin {\n",
              "    0% {\n",
              "      border-color: transparent;\n",
              "      border-bottom-color: var(--fill-color);\n",
              "      border-left-color: var(--fill-color);\n",
              "    }\n",
              "    20% {\n",
              "      border-color: transparent;\n",
              "      border-left-color: var(--fill-color);\n",
              "      border-top-color: var(--fill-color);\n",
              "    }\n",
              "    30% {\n",
              "      border-color: transparent;\n",
              "      border-left-color: var(--fill-color);\n",
              "      border-top-color: var(--fill-color);\n",
              "      border-right-color: var(--fill-color);\n",
              "    }\n",
              "    40% {\n",
              "      border-color: transparent;\n",
              "      border-right-color: var(--fill-color);\n",
              "      border-top-color: var(--fill-color);\n",
              "    }\n",
              "    60% {\n",
              "      border-color: transparent;\n",
              "      border-right-color: var(--fill-color);\n",
              "    }\n",
              "    80% {\n",
              "      border-color: transparent;\n",
              "      border-right-color: var(--fill-color);\n",
              "      border-bottom-color: var(--fill-color);\n",
              "    }\n",
              "    90% {\n",
              "      border-color: transparent;\n",
              "      border-bottom-color: var(--fill-color);\n",
              "    }\n",
              "  }\n",
              "</style>\n",
              "\n",
              "  <script>\n",
              "    async function quickchart(key) {\n",
              "      const quickchartButtonEl =\n",
              "        document.querySelector('#' + key + ' button');\n",
              "      quickchartButtonEl.disabled = true;  // To prevent multiple clicks.\n",
              "      quickchartButtonEl.classList.add('colab-df-spinner');\n",
              "      try {\n",
              "        const charts = await google.colab.kernel.invokeFunction(\n",
              "            'suggestCharts', [key], {});\n",
              "      } catch (error) {\n",
              "        console.error('Error during call to suggestCharts:', error);\n",
              "      }\n",
              "      quickchartButtonEl.classList.remove('colab-df-spinner');\n",
              "      quickchartButtonEl.classList.add('colab-df-quickchart-complete');\n",
              "    }\n",
              "    (() => {\n",
              "      let quickchartButtonEl =\n",
              "        document.querySelector('#df-0a67d723-3630-4462-842b-94dbf54eb5cd button');\n",
              "      quickchartButtonEl.style.display =\n",
              "        google.colab.kernel.accessAllowed ? 'block' : 'none';\n",
              "    })();\n",
              "  </script>\n",
              "</div>\n",
              "\n",
              "  <div id=\"id_822f821a-ddf2-4090-bdf9-16edde50daf7\">\n",
              "    <style>\n",
              "      .colab-df-generate {\n",
              "        background-color: #E8F0FE;\n",
              "        border: none;\n",
              "        border-radius: 50%;\n",
              "        cursor: pointer;\n",
              "        display: none;\n",
              "        fill: #1967D2;\n",
              "        height: 32px;\n",
              "        padding: 0 0 0 0;\n",
              "        width: 32px;\n",
              "      }\n",
              "\n",
              "      .colab-df-generate:hover {\n",
              "        background-color: #E2EBFA;\n",
              "        box-shadow: 0px 1px 2px rgba(60, 64, 67, 0.3), 0px 1px 3px 1px rgba(60, 64, 67, 0.15);\n",
              "        fill: #174EA6;\n",
              "      }\n",
              "\n",
              "      [theme=dark] .colab-df-generate {\n",
              "        background-color: #3B4455;\n",
              "        fill: #D2E3FC;\n",
              "      }\n",
              "\n",
              "      [theme=dark] .colab-df-generate:hover {\n",
              "        background-color: #434B5C;\n",
              "        box-shadow: 0px 1px 3px 1px rgba(0, 0, 0, 0.15);\n",
              "        filter: drop-shadow(0px 1px 2px rgba(0, 0, 0, 0.3));\n",
              "        fill: #FFFFFF;\n",
              "      }\n",
              "    </style>\n",
              "    <button class=\"colab-df-generate\" onclick=\"generateWithVariable('insurance')\"\n",
              "            title=\"Generate code using this dataframe.\"\n",
              "            style=\"display:none;\">\n",
              "\n",
              "  <svg xmlns=\"http://www.w3.org/2000/svg\" height=\"24px\"viewBox=\"0 0 24 24\"\n",
              "       width=\"24px\">\n",
              "    <path d=\"M7,19H8.4L18.45,9,17,7.55,7,17.6ZM5,21V16.75L18.45,3.32a2,2,0,0,1,2.83,0l1.4,1.43a1.91,1.91,0,0,1,.58,1.4,1.91,1.91,0,0,1-.58,1.4L9.25,21ZM18.45,9,17,7.55Zm-12,3A5.31,5.31,0,0,0,4.9,8.1,5.31,5.31,0,0,0,1,6.5,5.31,5.31,0,0,0,4.9,4.9,5.31,5.31,0,0,0,6.5,1,5.31,5.31,0,0,0,8.1,4.9,5.31,5.31,0,0,0,12,6.5,5.46,5.46,0,0,0,6.5,12Z\"/>\n",
              "  </svg>\n",
              "    </button>\n",
              "    <script>\n",
              "      (() => {\n",
              "      const buttonEl =\n",
              "        document.querySelector('#id_822f821a-ddf2-4090-bdf9-16edde50daf7 button.colab-df-generate');\n",
              "      buttonEl.style.display =\n",
              "        google.colab.kernel.accessAllowed ? 'block' : 'none';\n",
              "\n",
              "      buttonEl.onclick = () => {\n",
              "        google.colab.notebook.generateWithVariable('insurance');\n",
              "      }\n",
              "      })();\n",
              "    </script>\n",
              "  </div>\n",
              "\n",
              "    </div>\n",
              "  </div>\n"
            ],
            "text/plain": [
              "      age     sex     bmi  children smoker     region      charges\n",
              "0      19  female  27.900         0    yes  southwest  16884.92400\n",
              "1      18    male  33.770         1     no  southeast   1725.55230\n",
              "2      28    male  33.000         3     no  southeast   4449.46200\n",
              "3      33    male  22.705         0     no  northwest  21984.47061\n",
              "4      32    male  28.880         0     no  northwest   3866.85520\n",
              "...   ...     ...     ...       ...    ...        ...          ...\n",
              "1333   50    male  30.970         3     no  northwest  10600.54830\n",
              "1334   18  female  31.920         0     no  northeast   2205.98080\n",
              "1335   18  female  36.850         0     no  southeast   1629.83350\n",
              "1336   21  female  25.800         0     no  southwest   2007.94500\n",
              "1337   61  female  29.070         0    yes  northwest  29141.36030\n",
              "\n",
              "[1338 rows x 7 columns]"
            ]
          },
          "execution_count": 2,
          "metadata": {},
          "output_type": "execute_result"
        }
      ],
      "source": [
        "# Read in the insurance dataset\n",
        "insurance = pd.read_csv(\"https://raw.githubusercontent.com/stedy/Machine-Learning-with-R-datasets/master/insurance.csv\")\n",
        "insurance"
      ]
    },
    {
      "cell_type": "code",
      "execution_count": null,
      "metadata": {
        "colab": {
          "base_uri": "https://localhost:8080/",
          "height": 226
        },
        "id": "Y9kodAkH7G1r",
        "outputId": "8a8a788a-8585-4529-f849-58bc9ce7f678"
      },
      "outputs": [
        {
          "data": {
            "text/html": [
              "\n",
              "  <div id=\"df-ef079ded-e6d2-4123-a730-fde9e48bafd7\" class=\"colab-df-container\">\n",
              "    <div>\n",
              "<style scoped>\n",
              "    .dataframe tbody tr th:only-of-type {\n",
              "        vertical-align: middle;\n",
              "    }\n",
              "\n",
              "    .dataframe tbody tr th {\n",
              "        vertical-align: top;\n",
              "    }\n",
              "\n",
              "    .dataframe thead th {\n",
              "        text-align: right;\n",
              "    }\n",
              "</style>\n",
              "<table border=\"1\" class=\"dataframe\">\n",
              "  <thead>\n",
              "    <tr style=\"text-align: right;\">\n",
              "      <th></th>\n",
              "      <th>age</th>\n",
              "      <th>bmi</th>\n",
              "      <th>children</th>\n",
              "      <th>charges</th>\n",
              "      <th>sex_female</th>\n",
              "      <th>sex_male</th>\n",
              "      <th>smoker_no</th>\n",
              "      <th>smoker_yes</th>\n",
              "      <th>region_northeast</th>\n",
              "      <th>region_northwest</th>\n",
              "      <th>region_southeast</th>\n",
              "      <th>region_southwest</th>\n",
              "    </tr>\n",
              "  </thead>\n",
              "  <tbody>\n",
              "    <tr>\n",
              "      <th>0</th>\n",
              "      <td>19</td>\n",
              "      <td>27.900</td>\n",
              "      <td>0</td>\n",
              "      <td>16884.92400</td>\n",
              "      <td>1</td>\n",
              "      <td>0</td>\n",
              "      <td>0</td>\n",
              "      <td>1</td>\n",
              "      <td>0</td>\n",
              "      <td>0</td>\n",
              "      <td>0</td>\n",
              "      <td>1</td>\n",
              "    </tr>\n",
              "    <tr>\n",
              "      <th>1</th>\n",
              "      <td>18</td>\n",
              "      <td>33.770</td>\n",
              "      <td>1</td>\n",
              "      <td>1725.55230</td>\n",
              "      <td>0</td>\n",
              "      <td>1</td>\n",
              "      <td>1</td>\n",
              "      <td>0</td>\n",
              "      <td>0</td>\n",
              "      <td>0</td>\n",
              "      <td>1</td>\n",
              "      <td>0</td>\n",
              "    </tr>\n",
              "    <tr>\n",
              "      <th>2</th>\n",
              "      <td>28</td>\n",
              "      <td>33.000</td>\n",
              "      <td>3</td>\n",
              "      <td>4449.46200</td>\n",
              "      <td>0</td>\n",
              "      <td>1</td>\n",
              "      <td>1</td>\n",
              "      <td>0</td>\n",
              "      <td>0</td>\n",
              "      <td>0</td>\n",
              "      <td>1</td>\n",
              "      <td>0</td>\n",
              "    </tr>\n",
              "    <tr>\n",
              "      <th>3</th>\n",
              "      <td>33</td>\n",
              "      <td>22.705</td>\n",
              "      <td>0</td>\n",
              "      <td>21984.47061</td>\n",
              "      <td>0</td>\n",
              "      <td>1</td>\n",
              "      <td>1</td>\n",
              "      <td>0</td>\n",
              "      <td>0</td>\n",
              "      <td>1</td>\n",
              "      <td>0</td>\n",
              "      <td>0</td>\n",
              "    </tr>\n",
              "    <tr>\n",
              "      <th>4</th>\n",
              "      <td>32</td>\n",
              "      <td>28.880</td>\n",
              "      <td>0</td>\n",
              "      <td>3866.85520</td>\n",
              "      <td>0</td>\n",
              "      <td>1</td>\n",
              "      <td>1</td>\n",
              "      <td>0</td>\n",
              "      <td>0</td>\n",
              "      <td>1</td>\n",
              "      <td>0</td>\n",
              "      <td>0</td>\n",
              "    </tr>\n",
              "  </tbody>\n",
              "</table>\n",
              "</div>\n",
              "    <div class=\"colab-df-buttons\">\n",
              "\n",
              "  <div class=\"colab-df-container\">\n",
              "    <button class=\"colab-df-convert\" onclick=\"convertToInteractive('df-ef079ded-e6d2-4123-a730-fde9e48bafd7')\"\n",
              "            title=\"Convert this dataframe to an interactive table.\"\n",
              "            style=\"display:none;\">\n",
              "\n",
              "  <svg xmlns=\"http://www.w3.org/2000/svg\" height=\"24px\" viewBox=\"0 -960 960 960\">\n",
              "    <path d=\"M120-120v-720h720v720H120Zm60-500h600v-160H180v160Zm220 220h160v-160H400v160Zm0 220h160v-160H400v160ZM180-400h160v-160H180v160Zm440 0h160v-160H620v160ZM180-180h160v-160H180v160Zm440 0h160v-160H620v160Z\"/>\n",
              "  </svg>\n",
              "    </button>\n",
              "\n",
              "  <style>\n",
              "    .colab-df-container {\n",
              "      display:flex;\n",
              "      gap: 12px;\n",
              "    }\n",
              "\n",
              "    .colab-df-convert {\n",
              "      background-color: #E8F0FE;\n",
              "      border: none;\n",
              "      border-radius: 50%;\n",
              "      cursor: pointer;\n",
              "      display: none;\n",
              "      fill: #1967D2;\n",
              "      height: 32px;\n",
              "      padding: 0 0 0 0;\n",
              "      width: 32px;\n",
              "    }\n",
              "\n",
              "    .colab-df-convert:hover {\n",
              "      background-color: #E2EBFA;\n",
              "      box-shadow: 0px 1px 2px rgba(60, 64, 67, 0.3), 0px 1px 3px 1px rgba(60, 64, 67, 0.15);\n",
              "      fill: #174EA6;\n",
              "    }\n",
              "\n",
              "    .colab-df-buttons div {\n",
              "      margin-bottom: 4px;\n",
              "    }\n",
              "\n",
              "    [theme=dark] .colab-df-convert {\n",
              "      background-color: #3B4455;\n",
              "      fill: #D2E3FC;\n",
              "    }\n",
              "\n",
              "    [theme=dark] .colab-df-convert:hover {\n",
              "      background-color: #434B5C;\n",
              "      box-shadow: 0px 1px 3px 1px rgba(0, 0, 0, 0.15);\n",
              "      filter: drop-shadow(0px 1px 2px rgba(0, 0, 0, 0.3));\n",
              "      fill: #FFFFFF;\n",
              "    }\n",
              "  </style>\n",
              "\n",
              "    <script>\n",
              "      const buttonEl =\n",
              "        document.querySelector('#df-ef079ded-e6d2-4123-a730-fde9e48bafd7 button.colab-df-convert');\n",
              "      buttonEl.style.display =\n",
              "        google.colab.kernel.accessAllowed ? 'block' : 'none';\n",
              "\n",
              "      async function convertToInteractive(key) {\n",
              "        const element = document.querySelector('#df-ef079ded-e6d2-4123-a730-fde9e48bafd7');\n",
              "        const dataTable =\n",
              "          await google.colab.kernel.invokeFunction('convertToInteractive',\n",
              "                                                    [key], {});\n",
              "        if (!dataTable) return;\n",
              "\n",
              "        const docLinkHtml = 'Like what you see? Visit the ' +\n",
              "          '<a target=\"_blank\" href=https://colab.research.google.com/notebooks/data_table.ipynb>data table notebook</a>'\n",
              "          + ' to learn more about interactive tables.';\n",
              "        element.innerHTML = '';\n",
              "        dataTable['output_type'] = 'display_data';\n",
              "        await google.colab.output.renderOutput(dataTable, element);\n",
              "        const docLink = document.createElement('div');\n",
              "        docLink.innerHTML = docLinkHtml;\n",
              "        element.appendChild(docLink);\n",
              "      }\n",
              "    </script>\n",
              "  </div>\n",
              "\n",
              "\n",
              "<div id=\"df-d7ce7a20-dce6-46fe-a371-76cd723c414c\">\n",
              "  <button class=\"colab-df-quickchart\" onclick=\"quickchart('df-d7ce7a20-dce6-46fe-a371-76cd723c414c')\"\n",
              "            title=\"Suggest charts\"\n",
              "            style=\"display:none;\">\n",
              "\n",
              "<svg xmlns=\"http://www.w3.org/2000/svg\" height=\"24px\"viewBox=\"0 0 24 24\"\n",
              "     width=\"24px\">\n",
              "    <g>\n",
              "        <path d=\"M19 3H5c-1.1 0-2 .9-2 2v14c0 1.1.9 2 2 2h14c1.1 0 2-.9 2-2V5c0-1.1-.9-2-2-2zM9 17H7v-7h2v7zm4 0h-2V7h2v10zm4 0h-2v-4h2v4z\"/>\n",
              "    </g>\n",
              "</svg>\n",
              "  </button>\n",
              "\n",
              "<style>\n",
              "  .colab-df-quickchart {\n",
              "      --bg-color: #E8F0FE;\n",
              "      --fill-color: #1967D2;\n",
              "      --hover-bg-color: #E2EBFA;\n",
              "      --hover-fill-color: #174EA6;\n",
              "      --disabled-fill-color: #AAA;\n",
              "      --disabled-bg-color: #DDD;\n",
              "  }\n",
              "\n",
              "  [theme=dark] .colab-df-quickchart {\n",
              "      --bg-color: #3B4455;\n",
              "      --fill-color: #D2E3FC;\n",
              "      --hover-bg-color: #434B5C;\n",
              "      --hover-fill-color: #FFFFFF;\n",
              "      --disabled-bg-color: #3B4455;\n",
              "      --disabled-fill-color: #666;\n",
              "  }\n",
              "\n",
              "  .colab-df-quickchart {\n",
              "    background-color: var(--bg-color);\n",
              "    border: none;\n",
              "    border-radius: 50%;\n",
              "    cursor: pointer;\n",
              "    display: none;\n",
              "    fill: var(--fill-color);\n",
              "    height: 32px;\n",
              "    padding: 0;\n",
              "    width: 32px;\n",
              "  }\n",
              "\n",
              "  .colab-df-quickchart:hover {\n",
              "    background-color: var(--hover-bg-color);\n",
              "    box-shadow: 0 1px 2px rgba(60, 64, 67, 0.3), 0 1px 3px 1px rgba(60, 64, 67, 0.15);\n",
              "    fill: var(--button-hover-fill-color);\n",
              "  }\n",
              "\n",
              "  .colab-df-quickchart-complete:disabled,\n",
              "  .colab-df-quickchart-complete:disabled:hover {\n",
              "    background-color: var(--disabled-bg-color);\n",
              "    fill: var(--disabled-fill-color);\n",
              "    box-shadow: none;\n",
              "  }\n",
              "\n",
              "  .colab-df-spinner {\n",
              "    border: 2px solid var(--fill-color);\n",
              "    border-color: transparent;\n",
              "    border-bottom-color: var(--fill-color);\n",
              "    animation:\n",
              "      spin 1s steps(1) infinite;\n",
              "  }\n",
              "\n",
              "  @keyframes spin {\n",
              "    0% {\n",
              "      border-color: transparent;\n",
              "      border-bottom-color: var(--fill-color);\n",
              "      border-left-color: var(--fill-color);\n",
              "    }\n",
              "    20% {\n",
              "      border-color: transparent;\n",
              "      border-left-color: var(--fill-color);\n",
              "      border-top-color: var(--fill-color);\n",
              "    }\n",
              "    30% {\n",
              "      border-color: transparent;\n",
              "      border-left-color: var(--fill-color);\n",
              "      border-top-color: var(--fill-color);\n",
              "      border-right-color: var(--fill-color);\n",
              "    }\n",
              "    40% {\n",
              "      border-color: transparent;\n",
              "      border-right-color: var(--fill-color);\n",
              "      border-top-color: var(--fill-color);\n",
              "    }\n",
              "    60% {\n",
              "      border-color: transparent;\n",
              "      border-right-color: var(--fill-color);\n",
              "    }\n",
              "    80% {\n",
              "      border-color: transparent;\n",
              "      border-right-color: var(--fill-color);\n",
              "      border-bottom-color: var(--fill-color);\n",
              "    }\n",
              "    90% {\n",
              "      border-color: transparent;\n",
              "      border-bottom-color: var(--fill-color);\n",
              "    }\n",
              "  }\n",
              "</style>\n",
              "\n",
              "  <script>\n",
              "    async function quickchart(key) {\n",
              "      const quickchartButtonEl =\n",
              "        document.querySelector('#' + key + ' button');\n",
              "      quickchartButtonEl.disabled = true;  // To prevent multiple clicks.\n",
              "      quickchartButtonEl.classList.add('colab-df-spinner');\n",
              "      try {\n",
              "        const charts = await google.colab.kernel.invokeFunction(\n",
              "            'suggestCharts', [key], {});\n",
              "      } catch (error) {\n",
              "        console.error('Error during call to suggestCharts:', error);\n",
              "      }\n",
              "      quickchartButtonEl.classList.remove('colab-df-spinner');\n",
              "      quickchartButtonEl.classList.add('colab-df-quickchart-complete');\n",
              "    }\n",
              "    (() => {\n",
              "      let quickchartButtonEl =\n",
              "        document.querySelector('#df-d7ce7a20-dce6-46fe-a371-76cd723c414c button');\n",
              "      quickchartButtonEl.style.display =\n",
              "        google.colab.kernel.accessAllowed ? 'block' : 'none';\n",
              "    })();\n",
              "  </script>\n",
              "</div>\n",
              "\n",
              "    </div>\n",
              "  </div>\n"
            ],
            "text/plain": [
              "   age     bmi  children      charges  sex_female  sex_male  smoker_no  \\\n",
              "0   19  27.900         0  16884.92400           1         0          0   \n",
              "1   18  33.770         1   1725.55230           0         1          1   \n",
              "2   28  33.000         3   4449.46200           0         1          1   \n",
              "3   33  22.705         0  21984.47061           0         1          1   \n",
              "4   32  28.880         0   3866.85520           0         1          1   \n",
              "\n",
              "   smoker_yes  region_northeast  region_northwest  region_southeast  \\\n",
              "0           1                 0                 0                 0   \n",
              "1           0                 0                 0                 1   \n",
              "2           0                 0                 0                 1   \n",
              "3           0                 0                 1                 0   \n",
              "4           0                 0                 1                 0   \n",
              "\n",
              "   region_southwest  \n",
              "0                 1  \n",
              "1                 0  \n",
              "2                 0  \n",
              "3                 0  \n",
              "4                 0  "
            ]
          },
          "execution_count": 3,
          "metadata": {},
          "output_type": "execute_result"
        }
      ],
      "source": [
        "# Let's try to one-hot encode our DataFrame\n",
        "insurance_one_hot = pd.get_dummies(insurance)\n",
        "insurance_one_hot.head()"
      ]
    },
    {
      "cell_type": "code",
      "execution_count": null,
      "metadata": {
        "colab": {
          "base_uri": "https://localhost:8080/"
        },
        "id": "BTD0XfE89GG_",
        "outputId": "413cfb00-1816-4dae-e674-9ca3b56d3702"
      },
      "outputs": [
        {
          "data": {
            "text/plain": [
              "(<tf.Tensor: shape=(1338, 11), dtype=float64, numpy=\n",
              " array([[19.  , 27.9 ,  0.  , ...,  0.  ,  0.  ,  1.  ],\n",
              "        [18.  , 33.77,  1.  , ...,  0.  ,  1.  ,  0.  ],\n",
              "        [28.  , 33.  ,  3.  , ...,  0.  ,  1.  ,  0.  ],\n",
              "        ...,\n",
              "        [18.  , 36.85,  0.  , ...,  0.  ,  1.  ,  0.  ],\n",
              "        [21.  , 25.8 ,  0.  , ...,  0.  ,  0.  ,  1.  ],\n",
              "        [61.  , 29.07,  0.  , ...,  1.  ,  0.  ,  0.  ]])>,\n",
              " <tf.Tensor: shape=(1338,), dtype=float64, numpy=\n",
              " array([16884.924 ,  1725.5523,  4449.462 , ...,  1629.8335,  2007.945 ,\n",
              "        29141.3603])>)"
            ]
          },
          "execution_count": 4,
          "metadata": {},
          "output_type": "execute_result"
        }
      ],
      "source": [
        "# Create X & y values (features and labels)\n",
        "X = tf.constant(insurance_one_hot.drop(\"charges\", axis=1))\n",
        "y = tf.constant(insurance_one_hot[\"charges\"])\n",
        "\n",
        "X, y"
      ]
    },
    {
      "cell_type": "code",
      "execution_count": null,
      "metadata": {
        "colab": {
          "base_uri": "https://localhost:8080/"
        },
        "id": "9TXe-T3B_kYn",
        "outputId": "25923d91-7861-4063-9765-56ac300f2f67"
      },
      "outputs": [
        {
          "data": {
            "text/plain": [
              "(1070, 1070, 268, 268)"
            ]
          },
          "execution_count": 5,
          "metadata": {},
          "output_type": "execute_result"
        }
      ],
      "source": [
        "# Convert tu numpy to use train_test_split\n",
        "X_np = X.numpy()\n",
        "y_np = y.numpy()\n",
        "\n",
        "# Divide the data\n",
        "X_train_np, X_test_np, y_train_np, y_test_np = train_test_split(X_np, y_np, test_size=0.2, random_state=42)\n",
        "\n",
        "# Convert to tensors\n",
        "X_train = tf.constant(X_train_np)\n",
        "y_train = tf.constant(y_train_np)\n",
        "X_test = tf.constant(X_test_np)\n",
        "y_test = tf.constant(y_test_np)\n",
        "\n",
        "len(X_train), len(y_train), len(X_test), len(y_test)"
      ]
    },
    {
      "cell_type": "code",
      "execution_count": null,
      "metadata": {
        "colab": {
          "base_uri": "https://localhost:8080/"
        },
        "id": "R2hLssvZD23O",
        "outputId": "d9689858-fc32-4d24-abd2-35fc4f488b89"
      },
      "outputs": [
        {
          "data": {
            "text/plain": [
              "<keras.src.callbacks.History at 0x7bb91d455540>"
            ]
          },
          "execution_count": 6,
          "metadata": {},
          "output_type": "execute_result"
        }
      ],
      "source": [
        "# Set random state\n",
        "tf.random.set_seed(42)\n",
        "\n",
        "# 1. Create the model\n",
        "insurance_model = tf.keras.Sequential([\n",
        "    tf.keras.layers.Dense(10),\n",
        "    tf.keras.layers.Dense(1)\n",
        "])\n",
        "\n",
        "# 2. Compile the model\n",
        "insurance_model.compile(optimizer=\"SGD\",\n",
        "                loss=\"mae\",\n",
        "                metrics=[\"mae\"])\n",
        "\n",
        "# 3. Fit the model\n",
        "insurance_model.fit(X_train, y_train, epochs=100, verbose=0)"
      ]
    },
    {
      "cell_type": "code",
      "execution_count": null,
      "metadata": {
        "colab": {
          "base_uri": "https://localhost:8080/"
        },
        "id": "Hriv4AmWMfn2",
        "outputId": "b30f686c-53b0-4d42-fb8b-e754e0abb8b5"
      },
      "outputs": [
        {
          "name": "stdout",
          "output_type": "stream",
          "text": [
            "9/9 [==============================] - 0s 3ms/step - loss: 7283.3755 - mae: 7283.3755\n"
          ]
        },
        {
          "data": {
            "text/plain": [
              "[7283.37548828125, 7283.37548828125]"
            ]
          },
          "execution_count": 7,
          "metadata": {},
          "output_type": "execute_result"
        }
      ],
      "source": [
        "# Check the results 0f the insurance model on the test data\n",
        "insurance_model.evaluate(X_test, y_test)"
      ]
    },
    {
      "cell_type": "code",
      "execution_count": null,
      "metadata": {
        "colab": {
          "base_uri": "https://localhost:8080/"
        },
        "id": "rhqaq5JtaJ7C",
        "outputId": "b1bd1207-d439-42b3-9b71-df66b13a7543"
      },
      "outputs": [
        {
          "data": {
            "text/plain": [
              "(9382.033, 13270.422265141257)"
            ]
          },
          "execution_count": 8,
          "metadata": {},
          "output_type": "execute_result"
        }
      ],
      "source": [
        "y_pd = insurance_one_hot[\"charges\"]\n",
        "y_pd.median(), y_pd.mean()"
      ]
    },
    {
      "cell_type": "markdown",
      "metadata": {
        "id": "7w9N3o3VOWF4"
      },
      "source": [
        "Right now it looks like our model isn't performing too well.. let's try and improve it!\n",
        "To (try) improve our model, we'll run 2 experiments:\n",
        "1. Add an extra layer with more hidden units and use the Adam optimizer\n",
        "2. Same as above but train for longer (200 epochs)\n",
        "3. (insert your own experiment here)"
      ]
    },
    {
      "cell_type": "code",
      "execution_count": null,
      "metadata": {
        "colab": {
          "base_uri": "https://localhost:8080/"
        },
        "id": "RLlwZ3avuk9o",
        "outputId": "507a7df3-9117-4a55-a47e-4e132eca14db"
      },
      "outputs": [
        {
          "data": {
            "text/plain": [
              "<keras.src.callbacks.History at 0x7bb91ddf2380>"
            ]
          },
          "execution_count": 11,
          "metadata": {},
          "output_type": "execute_result"
        }
      ],
      "source": [
        "# Set random seed\n",
        "tf.random.set_seed(42)\n",
        "\n",
        "# 1. Create a model\n",
        "insurance_model_2 = tf.keras.Sequential([\n",
        "    tf.keras.layers.Dense(100),\n",
        "    tf.keras.layers.Dense(10),\n",
        "    tf.keras.layers.Dense(1)\n",
        "])\n",
        "\n",
        "# 2. Compile a model\n",
        "insurance_model_2.compile(loss=\"mae\",\n",
        "                          optimizer=\"Adam\",\n",
        "                          metrics=[\"mae\"])\n",
        "\n",
        "# 3. Fit the model\n",
        "insurance_model_2.fit(X_train, y_train, epochs=100, verbose=0)"
      ]
    },
    {
      "cell_type": "code",
      "execution_count": null,
      "metadata": {
        "colab": {
          "base_uri": "https://localhost:8080/"
        },
        "id": "bPCxvEs4Aw16",
        "outputId": "fd3906e9-2e29-4232-f92c-dcc705b792ba"
      },
      "outputs": [
        {
          "name": "stdout",
          "output_type": "stream",
          "text": [
            "9/9 [==============================] - 0s 2ms/step - loss: 4748.1846 - mae: 4748.1846\n"
          ]
        },
        {
          "data": {
            "text/plain": [
              "[4748.1845703125, 4748.1845703125]"
            ]
          },
          "execution_count": 12,
          "metadata": {},
          "output_type": "execute_result"
        }
      ],
      "source": [
        "# Evaluate the larger model\n",
        "insurance_model_2.evaluate(X_test, y_test)"
      ]
    },
    {
      "cell_type": "code",
      "execution_count": null,
      "metadata": {
        "id": "gJAKqdAtElQY"
      },
      "outputs": [],
      "source": [
        "# Set random seed\n",
        "tf.random.set_seed(42)\n",
        "\n",
        "# 1. Create the model\n",
        "insurance_model_3 = tf.keras.Sequential([\n",
        "    tf.keras.layers.Dense(100),\n",
        "    tf.keras.layers.Dense(10),\n",
        "    tf.keras.layers.Dense(1)\n",
        "])\n",
        "\n",
        "# 2. Compile the model\n",
        "insurance_model_3.compile(loss=\"mae\",\n",
        "                          optimizer=\"Adam\",\n",
        "                          metrics=[\"mae\"])\n",
        "\n",
        "# 3. Fit the model\n",
        "history = insurance_model_3.fit(X_train, y_train, epochs=200, verbose=0)"
      ]
    },
    {
      "cell_type": "code",
      "execution_count": null,
      "metadata": {
        "colab": {
          "base_uri": "https://localhost:8080/"
        },
        "id": "lgg9AGkMFPRI",
        "outputId": "c9c154ec-631f-4ed0-f04e-ef5798921d13"
      },
      "outputs": [
        {
          "name": "stdout",
          "output_type": "stream",
          "text": [
            "9/9 [==============================] - 0s 2ms/step - loss: 3496.9319 - mae: 3496.9319\n"
          ]
        },
        {
          "data": {
            "text/plain": [
              "[3496.931884765625, 3496.931884765625]"
            ]
          },
          "execution_count": 15,
          "metadata": {},
          "output_type": "execute_result"
        }
      ],
      "source": [
        "insurance_model_3.evaluate(X_test, y_test)"
      ]
    },
    {
      "cell_type": "code",
      "execution_count": null,
      "metadata": {
        "colab": {
          "base_uri": "https://localhost:8080/",
          "height": 466
        },
        "id": "Q0nei_u0Fu5o",
        "outputId": "0c809005-e040-41d9-ddd3-6e40421c3e72"
      },
      "outputs": [
        {
          "data": {
            "text/plain": [
              "Text(0.5, 0, 'epochs')"
            ]
          },
          "execution_count": 17,
          "metadata": {},
          "output_type": "execute_result"
        },
        {
          "data": {
            "image/png": "[encoded data removed]",
            "text/plain": [
              "<Figure size 640x480 with 1 Axes>"
            ]
          },
          "metadata": {},
          "output_type": "display_data"
        }
      ],
      "source": [
        "# Plot history (alspo known as a loss curve or training curve)\n",
        "pd.DataFrame(history.history).plot()\n",
        "plt.ylabel(\"loss\")\n",
        "plt.xlabel(\"epochs\")"
      ]
    },
    {
      "cell_type": "markdown",
      "metadata": {
        "id": "zU42DoGiGmuX"
      },
      "source": [
        "> 🤔**Question**: How long should you train for?\n",
        "\n",
        "It depends. Really... it depends on the problem you're working on. However, many people have asked this question before... so TensorFlow has a solution! It's called the [EarlyStopping Callback](https://www.tensorflow.org/api_docs/python/tf/keras/callbacks/EarlyStopping), which is a TensorFlow component you can add to your model to stop training once it stops improving a certain metric."
      ]
    },
    {
      "cell_type": "markdown",
      "metadata": {
        "id": "4dvO0j0TH6dh"
      },
      "source": [
        "## Preprocessing data (normalization and standardization)\n",
        "\n",
        "In terms of scaling values, neural networks tend to prefer normalization\n",
        "\n",
        "If you're not sure which to use, you could try both and see wich performs better."
      ]
    },
    {
      "cell_type": "code",
      "execution_count": null,
      "metadata": {
        "colab": {
          "base_uri": "https://localhost:8080/",
          "height": 424
        },
        "id": "LtZgy4N5JpUM",
        "outputId": "61feba0c-6874-4383-c64a-23ab98b2d060"
      },
      "outputs": [
        {
          "data": {
            "text/html": [
              "\n",
              "  <div id=\"df-1bcae12f-4e63-4386-a0d6-679de2486ff8\" class=\"colab-df-container\">\n",
              "    <div>\n",
              "<style scoped>\n",
              "    .dataframe tbody tr th:only-of-type {\n",
              "        vertical-align: middle;\n",
              "    }\n",
              "\n",
              "    .dataframe tbody tr th {\n",
              "        vertical-align: top;\n",
              "    }\n",
              "\n",
              "    .dataframe thead th {\n",
              "        text-align: right;\n",
              "    }\n",
              "</style>\n",
              "<table border=\"1\" class=\"dataframe\">\n",
              "  <thead>\n",
              "    <tr style=\"text-align: right;\">\n",
              "      <th></th>\n",
              "      <th>age</th>\n",
              "      <th>sex</th>\n",
              "      <th>bmi</th>\n",
              "      <th>children</th>\n",
              "      <th>smoker</th>\n",
              "      <th>region</th>\n",
              "      <th>charges</th>\n",
              "    </tr>\n",
              "  </thead>\n",
              "  <tbody>\n",
              "    <tr>\n",
              "      <th>0</th>\n",
              "      <td>19</td>\n",
              "      <td>female</td>\n",
              "      <td>27.900</td>\n",
              "      <td>0</td>\n",
              "      <td>yes</td>\n",
              "      <td>southwest</td>\n",
              "      <td>16884.92400</td>\n",
              "    </tr>\n",
              "    <tr>\n",
              "      <th>1</th>\n",
              "      <td>18</td>\n",
              "      <td>male</td>\n",
              "      <td>33.770</td>\n",
              "      <td>1</td>\n",
              "      <td>no</td>\n",
              "      <td>southeast</td>\n",
              "      <td>1725.55230</td>\n",
              "    </tr>\n",
              "    <tr>\n",
              "      <th>2</th>\n",
              "      <td>28</td>\n",
              "      <td>male</td>\n",
              "      <td>33.000</td>\n",
              "      <td>3</td>\n",
              "      <td>no</td>\n",
              "      <td>southeast</td>\n",
              "      <td>4449.46200</td>\n",
              "    </tr>\n",
              "    <tr>\n",
              "      <th>3</th>\n",
              "      <td>33</td>\n",
              "      <td>male</td>\n",
              "      <td>22.705</td>\n",
              "      <td>0</td>\n",
              "      <td>no</td>\n",
              "      <td>northwest</td>\n",
              "      <td>21984.47061</td>\n",
              "    </tr>\n",
              "    <tr>\n",
              "      <th>4</th>\n",
              "      <td>32</td>\n",
              "      <td>male</td>\n",
              "      <td>28.880</td>\n",
              "      <td>0</td>\n",
              "      <td>no</td>\n",
              "      <td>northwest</td>\n",
              "      <td>3866.85520</td>\n",
              "    </tr>\n",
              "    <tr>\n",
              "      <th>...</th>\n",
              "      <td>...</td>\n",
              "      <td>...</td>\n",
              "      <td>...</td>\n",
              "      <td>...</td>\n",
              "      <td>...</td>\n",
              "      <td>...</td>\n",
              "      <td>...</td>\n",
              "    </tr>\n",
              "    <tr>\n",
              "      <th>1333</th>\n",
              "      <td>50</td>\n",
              "      <td>male</td>\n",
              "      <td>30.970</td>\n",
              "      <td>3</td>\n",
              "      <td>no</td>\n",
              "      <td>northwest</td>\n",
              "      <td>10600.54830</td>\n",
              "    </tr>\n",
              "    <tr>\n",
              "      <th>1334</th>\n",
              "      <td>18</td>\n",
              "      <td>female</td>\n",
              "      <td>31.920</td>\n",
              "      <td>0</td>\n",
              "      <td>no</td>\n",
              "      <td>northeast</td>\n",
              "      <td>2205.98080</td>\n",
              "    </tr>\n",
              "    <tr>\n",
              "      <th>1335</th>\n",
              "      <td>18</td>\n",
              "      <td>female</td>\n",
              "      <td>36.850</td>\n",
              "      <td>0</td>\n",
              "      <td>no</td>\n",
              "      <td>southeast</td>\n",
              "      <td>1629.83350</td>\n",
              "    </tr>\n",
              "    <tr>\n",
              "      <th>1336</th>\n",
              "      <td>21</td>\n",
              "      <td>female</td>\n",
              "      <td>25.800</td>\n",
              "      <td>0</td>\n",
              "      <td>no</td>\n",
              "      <td>southwest</td>\n",
              "      <td>2007.94500</td>\n",
              "    </tr>\n",
              "    <tr>\n",
              "      <th>1337</th>\n",
              "      <td>61</td>\n",
              "      <td>female</td>\n",
              "      <td>29.070</td>\n",
              "      <td>0</td>\n",
              "      <td>yes</td>\n",
              "      <td>northwest</td>\n",
              "      <td>29141.36030</td>\n",
              "    </tr>\n",
              "  </tbody>\n",
              "</table>\n",
              "<p>1338 rows × 7 columns</p>\n",
              "</div>\n",
              "    <div class=\"colab-df-buttons\">\n",
              "\n",
              "  <div class=\"colab-df-container\">\n",
              "    <button class=\"colab-df-convert\" onclick=\"convertToInteractive('df-1bcae12f-4e63-4386-a0d6-679de2486ff8')\"\n",
              "            title=\"Convert this dataframe to an interactive table.\"\n",
              "            style=\"display:none;\">\n",
              "\n",
              "  <svg xmlns=\"http://www.w3.org/2000/svg\" height=\"24px\" viewBox=\"0 -960 960 960\">\n",
              "    <path d=\"M120-120v-720h720v720H120Zm60-500h600v-160H180v160Zm220 220h160v-160H400v160Zm0 220h160v-160H400v160ZM180-400h160v-160H180v160Zm440 0h160v-160H620v160ZM180-180h160v-160H180v160Zm440 0h160v-160H620v160Z\"/>\n",
              "  </svg>\n",
              "    </button>\n",
              "\n",
              "  <style>\n",
              "    .colab-df-container {\n",
              "      display:flex;\n",
              "      gap: 12px;\n",
              "    }\n",
              "\n",
              "    .colab-df-convert {\n",
              "      background-color: #E8F0FE;\n",
              "      border: none;\n",
              "      border-radius: 50%;\n",
              "      cursor: pointer;\n",
              "      display: none;\n",
              "      fill: #1967D2;\n",
              "      height: 32px;\n",
              "      padding: 0 0 0 0;\n",
              "      width: 32px;\n",
              "    }\n",
              "\n",
              "    .colab-df-convert:hover {\n",
              "      background-color: #E2EBFA;\n",
              "      box-shadow: 0px 1px 2px rgba(60, 64, 67, 0.3), 0px 1px 3px 1px rgba(60, 64, 67, 0.15);\n",
              "      fill: #174EA6;\n",
              "    }\n",
              "\n",
              "    .colab-df-buttons div {\n",
              "      margin-bottom: 4px;\n",
              "    }\n",
              "\n",
              "    [theme=dark] .colab-df-convert {\n",
              "      background-color: #3B4455;\n",
              "      fill: #D2E3FC;\n",
              "    }\n",
              "\n",
              "    [theme=dark] .colab-df-convert:hover {\n",
              "      background-color: #434B5C;\n",
              "      box-shadow: 0px 1px 3px 1px rgba(0, 0, 0, 0.15);\n",
              "      filter: drop-shadow(0px 1px 2px rgba(0, 0, 0, 0.3));\n",
              "      fill: #FFFFFF;\n",
              "    }\n",
              "  </style>\n",
              "\n",
              "    <script>\n",
              "      const buttonEl =\n",
              "        document.querySelector('#df-1bcae12f-4e63-4386-a0d6-679de2486ff8 button.colab-df-convert');\n",
              "      buttonEl.style.display =\n",
              "        google.colab.kernel.accessAllowed ? 'block' : 'none';\n",
              "\n",
              "      async function convertToInteractive(key) {\n",
              "        const element = document.querySelector('#df-1bcae12f-4e63-4386-a0d6-679de2486ff8');\n",
              "        const dataTable =\n",
              "          await google.colab.kernel.invokeFunction('convertToInteractive',\n",
              "                                                    [key], {});\n",
              "        if (!dataTable) return;\n",
              "\n",
              "        const docLinkHtml = 'Like what you see? Visit the ' +\n",
              "          '<a target=\"_blank\" href=https://colab.research.google.com/notebooks/data_table.ipynb>data table notebook</a>'\n",
              "          + ' to learn more about interactive tables.';\n",
              "        element.innerHTML = '';\n",
              "        dataTable['output_type'] = 'display_data';\n",
              "        await google.colab.output.renderOutput(dataTable, element);\n",
              "        const docLink = document.createElement('div');\n",
              "        docLink.innerHTML = docLinkHtml;\n",
              "        element.appendChild(docLink);\n",
              "      }\n",
              "    </script>\n",
              "  </div>\n",
              "\n",
              "\n",
              "<div id=\"df-d0c94b88-8577-408f-8b52-630c345df0ab\">\n",
              "  <button class=\"colab-df-quickchart\" onclick=\"quickchart('df-d0c94b88-8577-408f-8b52-630c345df0ab')\"\n",
              "            title=\"Suggest charts\"\n",
              "            style=\"display:none;\">\n",
              "\n",
              "<svg xmlns=\"http://www.w3.org/2000/svg\" height=\"24px\"viewBox=\"0 0 24 24\"\n",
              "     width=\"24px\">\n",
              "    <g>\n",
              "        <path d=\"M19 3H5c-1.1 0-2 .9-2 2v14c0 1.1.9 2 2 2h14c1.1 0 2-.9 2-2V5c0-1.1-.9-2-2-2zM9 17H7v-7h2v7zm4 0h-2V7h2v10zm4 0h-2v-4h2v4z\"/>\n",
              "    </g>\n",
              "</svg>\n",
              "  </button>\n",
              "\n",
              "<style>\n",
              "  .colab-df-quickchart {\n",
              "      --bg-color: #E8F0FE;\n",
              "      --fill-color: #1967D2;\n",
              "      --hover-bg-color: #E2EBFA;\n",
              "      --hover-fill-color: #174EA6;\n",
              "      --disabled-fill-color: #AAA;\n",
              "      --disabled-bg-color: #DDD;\n",
              "  }\n",
              "\n",
              "  [theme=dark] .colab-df-quickchart {\n",
              "      --bg-color: #3B4455;\n",
              "      --fill-color: #D2E3FC;\n",
              "      --hover-bg-color: #434B5C;\n",
              "      --hover-fill-color: #FFFFFF;\n",
              "      --disabled-bg-color: #3B4455;\n",
              "      --disabled-fill-color: #666;\n",
              "  }\n",
              "\n",
              "  .colab-df-quickchart {\n",
              "    background-color: var(--bg-color);\n",
              "    border: none;\n",
              "    border-radius: 50%;\n",
              "    cursor: pointer;\n",
              "    display: none;\n",
              "    fill: var(--fill-color);\n",
              "    height: 32px;\n",
              "    padding: 0;\n",
              "    width: 32px;\n",
              "  }\n",
              "\n",
              "  .colab-df-quickchart:hover {\n",
              "    background-color: var(--hover-bg-color);\n",
              "    box-shadow: 0 1px 2px rgba(60, 64, 67, 0.3), 0 1px 3px 1px rgba(60, 64, 67, 0.15);\n",
              "    fill: var(--button-hover-fill-color);\n",
              "  }\n",
              "\n",
              "  .colab-df-quickchart-complete:disabled,\n",
              "  .colab-df-quickchart-complete:disabled:hover {\n",
              "    background-color: var(--disabled-bg-color);\n",
              "    fill: var(--disabled-fill-color);\n",
              "    box-shadow: none;\n",
              "  }\n",
              "\n",
              "  .colab-df-spinner {\n",
              "    border: 2px solid var(--fill-color);\n",
              "    border-color: transparent;\n",
              "    border-bottom-color: var(--fill-color);\n",
              "    animation:\n",
              "      spin 1s steps(1) infinite;\n",
              "  }\n",
              "\n",
              "  @keyframes spin {\n",
              "    0% {\n",
              "      border-color: transparent;\n",
              "      border-bottom-color: var(--fill-color);\n",
              "      border-left-color: var(--fill-color);\n",
              "    }\n",
              "    20% {\n",
              "      border-color: transparent;\n",
              "      border-left-color: var(--fill-color);\n",
              "      border-top-color: var(--fill-color);\n",
              "    }\n",
              "    30% {\n",
              "      border-color: transparent;\n",
              "      border-left-color: var(--fill-color);\n",
              "      border-top-color: var(--fill-color);\n",
              "      border-right-color: var(--fill-color);\n",
              "    }\n",
              "    40% {\n",
              "      border-color: transparent;\n",
              "      border-right-color: var(--fill-color);\n",
              "      border-top-color: var(--fill-color);\n",
              "    }\n",
              "    60% {\n",
              "      border-color: transparent;\n",
              "      border-right-color: var(--fill-color);\n",
              "    }\n",
              "    80% {\n",
              "      border-color: transparent;\n",
              "      border-right-color: var(--fill-color);\n",
              "      border-bottom-color: var(--fill-color);\n",
              "    }\n",
              "    90% {\n",
              "      border-color: transparent;\n",
              "      border-bottom-color: var(--fill-color);\n",
              "    }\n",
              "  }\n",
              "</style>\n",
              "\n",
              "  <script>\n",
              "    async function quickchart(key) {\n",
              "      const quickchartButtonEl =\n",
              "        document.querySelector('#' + key + ' button');\n",
              "      quickchartButtonEl.disabled = true;  // To prevent multiple clicks.\n",
              "      quickchartButtonEl.classList.add('colab-df-spinner');\n",
              "      try {\n",
              "        const charts = await google.colab.kernel.invokeFunction(\n",
              "            'suggestCharts', [key], {});\n",
              "      } catch (error) {\n",
              "        console.error('Error during call to suggestCharts:', error);\n",
              "      }\n",
              "      quickchartButtonEl.classList.remove('colab-df-spinner');\n",
              "      quickchartButtonEl.classList.add('colab-df-quickchart-complete');\n",
              "    }\n",
              "    (() => {\n",
              "      let quickchartButtonEl =\n",
              "        document.querySelector('#df-d0c94b88-8577-408f-8b52-630c345df0ab button');\n",
              "      quickchartButtonEl.style.display =\n",
              "        google.colab.kernel.accessAllowed ? 'block' : 'none';\n",
              "    })();\n",
              "  </script>\n",
              "</div>\n",
              "\n",
              "  <div id=\"id_ab870c23-b002-40f5-940f-33939d366f84\">\n",
              "    <style>\n",
              "      .colab-df-generate {\n",
              "        background-color: #E8F0FE;\n",
              "        border: none;\n",
              "        border-radius: 50%;\n",
              "        cursor: pointer;\n",
              "        display: none;\n",
              "        fill: #1967D2;\n",
              "        height: 32px;\n",
              "        padding: 0 0 0 0;\n",
              "        width: 32px;\n",
              "      }\n",
              "\n",
              "      .colab-df-generate:hover {\n",
              "        background-color: #E2EBFA;\n",
              "        box-shadow: 0px 1px 2px rgba(60, 64, 67, 0.3), 0px 1px 3px 1px rgba(60, 64, 67, 0.15);\n",
              "        fill: #174EA6;\n",
              "      }\n",
              "\n",
              "      [theme=dark] .colab-df-generate {\n",
              "        background-color: #3B4455;\n",
              "        fill: #D2E3FC;\n",
              "      }\n",
              "\n",
              "      [theme=dark] .colab-df-generate:hover {\n",
              "        background-color: #434B5C;\n",
              "        box-shadow: 0px 1px 3px 1px rgba(0, 0, 0, 0.15);\n",
              "        filter: drop-shadow(0px 1px 2px rgba(0, 0, 0, 0.3));\n",
              "        fill: #FFFFFF;\n",
              "      }\n",
              "    </style>\n",
              "    <button class=\"colab-df-generate\" onclick=\"generateWithVariable('insurance')\"\n",
              "            title=\"Generate code using this dataframe.\"\n",
              "            style=\"display:none;\">\n",
              "\n",
              "  <svg xmlns=\"http://www.w3.org/2000/svg\" height=\"24px\"viewBox=\"0 0 24 24\"\n",
              "       width=\"24px\">\n",
              "    <path d=\"M7,19H8.4L18.45,9,17,7.55,7,17.6ZM5,21V16.75L18.45,3.32a2,2,0,0,1,2.83,0l1.4,1.43a1.91,1.91,0,0,1,.58,1.4,1.91,1.91,0,0,1-.58,1.4L9.25,21ZM18.45,9,17,7.55Zm-12,3A5.31,5.31,0,0,0,4.9,8.1,5.31,5.31,0,0,0,1,6.5,5.31,5.31,0,0,0,4.9,4.9,5.31,5.31,0,0,0,6.5,1,5.31,5.31,0,0,0,8.1,4.9,5.31,5.31,0,0,0,12,6.5,5.46,5.46,0,0,0,6.5,12Z\"/>\n",
              "  </svg>\n",
              "    </button>\n",
              "    <script>\n",
              "      (() => {\n",
              "      const buttonEl =\n",
              "        document.querySelector('#id_ab870c23-b002-40f5-940f-33939d366f84 button.colab-df-generate');\n",
              "      buttonEl.style.display =\n",
              "        google.colab.kernel.accessAllowed ? 'block' : 'none';\n",
              "\n",
              "      buttonEl.onclick = () => {\n",
              "        google.colab.notebook.generateWithVariable('insurance');\n",
              "      }\n",
              "      })();\n",
              "    </script>\n",
              "  </div>\n",
              "\n",
              "    </div>\n",
              "  </div>\n"
            ],
            "text/plain": [
              "      age     sex     bmi  children smoker     region      charges\n",
              "0      19  female  27.900         0    yes  southwest  16884.92400\n",
              "1      18    male  33.770         1     no  southeast   1725.55230\n",
              "2      28    male  33.000         3     no  southeast   4449.46200\n",
              "3      33    male  22.705         0     no  northwest  21984.47061\n",
              "4      32    male  28.880         0     no  northwest   3866.85520\n",
              "...   ...     ...     ...       ...    ...        ...          ...\n",
              "1333   50    male  30.970         3     no  northwest  10600.54830\n",
              "1334   18  female  31.920         0     no  northeast   2205.98080\n",
              "1335   18  female  36.850         0     no  southeast   1629.83350\n",
              "1336   21  female  25.800         0     no  southwest   2007.94500\n",
              "1337   61  female  29.070         0    yes  northwest  29141.36030\n",
              "\n",
              "[1338 rows x 7 columns]"
            ]
          },
          "execution_count": 23,
          "metadata": {},
          "output_type": "execute_result"
        }
      ],
      "source": [
        "import pandas as pd\n",
        "import matplotlib.pyplot as plt\n",
        "import tensorflow as tf\n",
        "\n",
        "from sklearn.compose import make_column_transformer\n",
        "from sklearn.preprocessing import MinMaxScaler, OneHotEncoder\n",
        "from sklearn.model_selection import train_test_split\n",
        "\n",
        "# Read in the insurance dataset\n",
        "insurance = pd.read_csv(\"https://raw.githubusercontent.com/stedy/Machine-Learning-with-R-datasets/master/insurance.csv\")\n",
        "insurance"
      ]
    },
    {
      "cell_type": "markdown",
      "metadata": {
        "id": "YCBd7zs3M5Rt"
      },
      "source": [
        "To prepare our data, we can borrow a few classes from Scikit-learn"
      ]
    },
    {
      "cell_type": "code",
      "execution_count": null,
      "metadata": {
        "id": "O6BwJ_25MulR"
      },
      "outputs": [],
      "source": [
        "# Create a column transformer\n",
        "ct = make_column_transformer(\n",
        "    (MinMaxScaler(), [\"age\", \"bmi\", \"children\"]), # turn all values in these columns between o and 1\n",
        "    (OneHotEncoder(handle_unknown=\"ignore\"), [\"sex\", \"smoker\", \"region\"])\n",
        ")\n",
        "\n",
        "# Create X & y\n",
        "X = insurance.drop(\"charges\", axis=1)\n",
        "y = insurance[\"charges\"]\n",
        "\n",
        "# Build our train and test sets\n",
        "X_train, X_test, y_train, y_test = train_test_split(X, y, test_size=0.2, random_state=42)\n",
        "\n",
        "# Fit the column transformer to our training data\n",
        "ct.fit(X_train)\n",
        "\n",
        "# Transform training and test data with normalization (MinMaxScaler) and OneHotEncoding\n",
        "X_train_normal = ct.transform(X_train)\n",
        "X_test_normal = ct.transform(X_test)"
      ]
    },
    {
      "cell_type": "code",
      "execution_count": null,
      "metadata": {
        "colab": {
          "base_uri": "https://localhost:8080/"
        },
        "id": "OldUhAI2UavJ",
        "outputId": "65a3cd16-6819-48eb-b1aa-43f2ff529423"
      },
      "outputs": [
        {
          "data": {
            "text/plain": [
              "array([0.60869565, 0.10734463, 0.4       , 1.        , 0.        ,\n",
              "       1.        , 0.        , 0.        , 1.        , 0.        ,\n",
              "       0.        ])"
            ]
          },
          "execution_count": 26,
          "metadata": {},
          "output_type": "execute_result"
        }
      ],
      "source": [
        "X_train_normal[0]"
      ]
    },
    {
      "cell_type": "code",
      "execution_count": null,
      "metadata": {
        "id": "4rAA_352V2nR"
      },
      "outputs": [],
      "source": [
        "X_train_normal_tf = tf.constant(X_train_normal)\n",
        "X_test_normal_tf = tf.constant(X_test_normal)\n",
        "y_train_tf = tf.constant(y_train)\n",
        "y_test_tf = tf.constant(y_test)"
      ]
    },
    {
      "cell_type": "code",
      "execution_count": null,
      "metadata": {
        "colab": {
          "base_uri": "https://localhost:8080/"
        },
        "id": "dMA92dwIWeUF",
        "outputId": "6713d1d3-224b-46bf-b3f7-1f5ea356e683"
      },
      "outputs": [
        {
          "data": {
            "text/plain": [
              "<keras.src.callbacks.History at 0x7bb91c30d210>"
            ]
          },
          "execution_count": 31,
          "metadata": {},
          "output_type": "execute_result"
        }
      ],
      "source": [
        "# Set random seed\n",
        "tf.random.set_seed(42)\n",
        "\n",
        "# 1. Create a model\n",
        "insurance_model_4 = tf.keras.Sequential([\n",
        "    tf.keras.layers.Dense(100),\n",
        "    tf.keras.layers.Dense(10),\n",
        "    tf.keras.layers.Dense(1)\n",
        "])\n",
        "\n",
        "# 2. Compile the model\n",
        "insurance_model_4.compile(loss=\"mae\",\n",
        "                          optimizer=\"Adam\",\n",
        "                          metrics=[\"mae\"])\n",
        "\n",
        "# 3. Fit the model\n",
        "insurance_model_4.fit(X_train_normal_tf, y_train_tf, epochs=200, verbose=0)"
      ]
    },
    {
      "cell_type": "code",
      "execution_count": null,
      "metadata": {
        "colab": {
          "base_uri": "https://localhost:8080/"
        },
        "id": "61dSi4tEXzxX",
        "outputId": "b62090d5-060f-4d37-fc40-7dce26496a20"
      },
      "outputs": [
        {
          "name": "stdout",
          "output_type": "stream",
          "text": [
            "9/9 [==============================] - 0s 2ms/step - loss: 3170.0942 - mae: 3170.0942\n"
          ]
        },
        {
          "data": {
            "text/plain": [
              "[3170.09423828125, 3170.09423828125]"
            ]
          },
          "execution_count": 32,
          "metadata": {},
          "output_type": "execute_result"
        }
      ],
      "source": [
        "insurance_model_4.evaluate(X_test_normal_tf, y_test_tf)"
      ]
    },
    {
      "cell_type": "markdown",
      "metadata": {
        "id": "19vG8D5lc2ah"
      },
      "source": [
        "## 🛠️Excercises\n",
        "\n",
        "Import the Boston pricing dataset from TensorFlow tf.keras.datasets and model it."
      ]
    },
    {
      "cell_type": "code",
      "execution_count": 2,
      "metadata": {
        "id": "3Py9Prc1c4V3"
      },
      "outputs": [
        {
          "name": "stderr",
          "output_type": "stream",
          "text": [
            "2023-12-30 19:49:41.061930: I tensorflow/core/util/port.cc:113] oneDNN custom operations are on. You may see slightly different numerical results due to floating-point round-off errors from different computation orders. To turn them off, set the environment variable `TF_ENABLE_ONEDNN_OPTS=0`.\n",
            "2023-12-30 19:49:41.142625: I external/local_tsl/tsl/cuda/cudart_stub.cc:31] Could not find cuda drivers on your machine, GPU will not be used.\n",
            "2023-12-30 19:49:41.652353: E external/local_xla/xla/stream_executor/cuda/cuda_dnn.cc:9261] Unable to register cuDNN factory: Attempting to register factory for plugin cuDNN when one has already been registered\n",
            "2023-12-30 19:49:41.652399: E external/local_xla/xla/stream_executor/cuda/cuda_fft.cc:607] Unable to register cuFFT factory: Attempting to register factory for plugin cuFFT when one has already been registered\n",
            "2023-12-30 19:49:41.737717: E external/local_xla/xla/stream_executor/cuda/cuda_blas.cc:1515] Unable to register cuBLAS factory: Attempting to register factory for plugin cuBLAS when one has already been registered\n",
            "2023-12-30 19:49:41.894192: I external/local_tsl/tsl/cuda/cudart_stub.cc:31] Could not find cuda drivers on your machine, GPU will not be used.\n",
            "2023-12-30 19:49:41.896272: I tensorflow/core/platform/cpu_feature_guard.cc:182] This TensorFlow binary is optimized to use available CPU instructions in performance-critical operations.\n",
            "To enable the following instructions: AVX2 AVX_VNNI FMA, in other operations, rebuild TensorFlow with the appropriate compiler flags.\n",
            "2023-12-30 19:49:43.409231: W tensorflow/compiler/tf2tensorrt/utils/py_utils.cc:38] TF-TRT Warning: Could not find TensorRT\n"
          ]
        }
      ],
      "source": [
        " import pandas as pd\n",
        " import matplotlib.pyplot as plt\n",
        " import tensorflow as tf\n",
        "\n",
        "from sklearn.compose import make_column_transformer\n",
        "from sklearn.preprocessing import MinMaxScaler\n",
        "from sklearn.model_selection import train_test_split"
      ]
    },
    {
      "cell_type": "code",
      "execution_count": 6,
      "metadata": {
        "colab": {
          "base_uri": "https://localhost:8080/",
          "height": 444
        },
        "id": "Ytq_gtzxdhjQ",
        "outputId": "b8f80d2a-c1b1-45ad-bc33-5f7fc7b2c24d"
      },
      "outputs": [
        {
          "data": {
            "text/html": [
              "<div>\n",
              "<style scoped>\n",
              "    .dataframe tbody tr th:only-of-type {\n",
              "        vertical-align: middle;\n",
              "    }\n",
              "\n",
              "    .dataframe tbody tr th {\n",
              "        vertical-align: top;\n",
              "    }\n",
              "\n",
              "    .dataframe thead th {\n",
              "        text-align: right;\n",
              "    }\n",
              "</style>\n",
              "<table border=\"1\" class=\"dataframe\">\n",
              "  <thead>\n",
              "    <tr style=\"text-align: right;\">\n",
              "      <th></th>\n",
              "      <th>longitude</th>\n",
              "      <th>latitude</th>\n",
              "      <th>housing_median_age</th>\n",
              "      <th>total_rooms</th>\n",
              "      <th>total_bedrooms</th>\n",
              "      <th>population</th>\n",
              "      <th>households</th>\n",
              "      <th>median_income</th>\n",
              "      <th>median_house_value</th>\n",
              "    </tr>\n",
              "  </thead>\n",
              "  <tbody>\n",
              "    <tr>\n",
              "      <th>0</th>\n",
              "      <td>-122.05</td>\n",
              "      <td>37.37</td>\n",
              "      <td>27.0</td>\n",
              "      <td>3885.0</td>\n",
              "      <td>661.0</td>\n",
              "      <td>1537.0</td>\n",
              "      <td>606.0</td>\n",
              "      <td>6.6085</td>\n",
              "      <td>344700.0</td>\n",
              "    </tr>\n",
              "    <tr>\n",
              "      <th>1</th>\n",
              "      <td>-118.30</td>\n",
              "      <td>34.26</td>\n",
              "      <td>43.0</td>\n",
              "      <td>1510.0</td>\n",
              "      <td>310.0</td>\n",
              "      <td>809.0</td>\n",
              "      <td>277.0</td>\n",
              "      <td>3.5990</td>\n",
              "      <td>176500.0</td>\n",
              "    </tr>\n",
              "    <tr>\n",
              "      <th>2</th>\n",
              "      <td>-117.81</td>\n",
              "      <td>33.78</td>\n",
              "      <td>27.0</td>\n",
              "      <td>3589.0</td>\n",
              "      <td>507.0</td>\n",
              "      <td>1484.0</td>\n",
              "      <td>495.0</td>\n",
              "      <td>5.7934</td>\n",
              "      <td>270500.0</td>\n",
              "    </tr>\n",
              "    <tr>\n",
              "      <th>3</th>\n",
              "      <td>-118.36</td>\n",
              "      <td>33.82</td>\n",
              "      <td>28.0</td>\n",
              "      <td>67.0</td>\n",
              "      <td>15.0</td>\n",
              "      <td>49.0</td>\n",
              "      <td>11.0</td>\n",
              "      <td>6.1359</td>\n",
              "      <td>330000.0</td>\n",
              "    </tr>\n",
              "    <tr>\n",
              "      <th>4</th>\n",
              "      <td>-119.67</td>\n",
              "      <td>36.33</td>\n",
              "      <td>19.0</td>\n",
              "      <td>1241.0</td>\n",
              "      <td>244.0</td>\n",
              "      <td>850.0</td>\n",
              "      <td>237.0</td>\n",
              "      <td>2.9375</td>\n",
              "      <td>81700.0</td>\n",
              "    </tr>\n",
              "    <tr>\n",
              "      <th>...</th>\n",
              "      <td>...</td>\n",
              "      <td>...</td>\n",
              "      <td>...</td>\n",
              "      <td>...</td>\n",
              "      <td>...</td>\n",
              "      <td>...</td>\n",
              "      <td>...</td>\n",
              "      <td>...</td>\n",
              "      <td>...</td>\n",
              "    </tr>\n",
              "    <tr>\n",
              "      <th>19995</th>\n",
              "      <td>-124.26</td>\n",
              "      <td>40.58</td>\n",
              "      <td>52.0</td>\n",
              "      <td>2217.0</td>\n",
              "      <td>394.0</td>\n",
              "      <td>907.0</td>\n",
              "      <td>369.0</td>\n",
              "      <td>2.3571</td>\n",
              "      <td>111400.0</td>\n",
              "    </tr>\n",
              "    <tr>\n",
              "      <th>19996</th>\n",
              "      <td>-124.27</td>\n",
              "      <td>40.69</td>\n",
              "      <td>36.0</td>\n",
              "      <td>2349.0</td>\n",
              "      <td>528.0</td>\n",
              "      <td>1194.0</td>\n",
              "      <td>465.0</td>\n",
              "      <td>2.5179</td>\n",
              "      <td>79000.0</td>\n",
              "    </tr>\n",
              "    <tr>\n",
              "      <th>19997</th>\n",
              "      <td>-124.30</td>\n",
              "      <td>41.84</td>\n",
              "      <td>17.0</td>\n",
              "      <td>2677.0</td>\n",
              "      <td>531.0</td>\n",
              "      <td>1244.0</td>\n",
              "      <td>456.0</td>\n",
              "      <td>3.0313</td>\n",
              "      <td>103600.0</td>\n",
              "    </tr>\n",
              "    <tr>\n",
              "      <th>19998</th>\n",
              "      <td>-124.30</td>\n",
              "      <td>41.80</td>\n",
              "      <td>19.0</td>\n",
              "      <td>2672.0</td>\n",
              "      <td>552.0</td>\n",
              "      <td>1298.0</td>\n",
              "      <td>478.0</td>\n",
              "      <td>1.9797</td>\n",
              "      <td>85800.0</td>\n",
              "    </tr>\n",
              "    <tr>\n",
              "      <th>19999</th>\n",
              "      <td>-124.35</td>\n",
              "      <td>40.54</td>\n",
              "      <td>52.0</td>\n",
              "      <td>1820.0</td>\n",
              "      <td>300.0</td>\n",
              "      <td>806.0</td>\n",
              "      <td>270.0</td>\n",
              "      <td>3.0147</td>\n",
              "      <td>94600.0</td>\n",
              "    </tr>\n",
              "  </tbody>\n",
              "</table>\n",
              "<p>20000 rows × 9 columns</p>\n",
              "</div>"
            ],
            "text/plain": [
              "       longitude  latitude  housing_median_age  total_rooms  total_bedrooms  \\\n",
              "0        -122.05     37.37                27.0       3885.0           661.0   \n",
              "1        -118.30     34.26                43.0       1510.0           310.0   \n",
              "2        -117.81     33.78                27.0       3589.0           507.0   \n",
              "3        -118.36     33.82                28.0         67.0            15.0   \n",
              "4        -119.67     36.33                19.0       1241.0           244.0   \n",
              "...          ...       ...                 ...          ...             ...   \n",
              "19995    -124.26     40.58                52.0       2217.0           394.0   \n",
              "19996    -124.27     40.69                36.0       2349.0           528.0   \n",
              "19997    -124.30     41.84                17.0       2677.0           531.0   \n",
              "19998    -124.30     41.80                19.0       2672.0           552.0   \n",
              "19999    -124.35     40.54                52.0       1820.0           300.0   \n",
              "\n",
              "       population  households  median_income  median_house_value  \n",
              "0          1537.0       606.0         6.6085            344700.0  \n",
              "1           809.0       277.0         3.5990            176500.0  \n",
              "2          1484.0       495.0         5.7934            270500.0  \n",
              "3            49.0        11.0         6.1359            330000.0  \n",
              "4           850.0       237.0         2.9375             81700.0  \n",
              "...           ...         ...            ...                 ...  \n",
              "19995       907.0       369.0         2.3571            111400.0  \n",
              "19996      1194.0       465.0         2.5179             79000.0  \n",
              "19997      1244.0       456.0         3.0313            103600.0  \n",
              "19998      1298.0       478.0         1.9797             85800.0  \n",
              "19999       806.0       270.0         3.0147             94600.0  \n",
              "\n",
              "[20000 rows x 9 columns]"
            ]
          },
          "execution_count": 6,
          "metadata": {},
          "output_type": "execute_result"
        }
      ],
      "source": [
        "df_california_housing = pd.concat([\n",
        "    pd.read_csv(\"california_housing_test.csv\"),\n",
        "    pd.read_csv(\"california_housing_train.csv\")\n",
        "], ignore_index=True)\n",
        "\n",
        "df_california_housing"
      ]
    },
    {
      "cell_type": "code",
      "execution_count": null,
      "metadata": {
        "id": "bLKDRiKIhRj3"
      },
      "outputs": [],
      "source": [
        "ct = make_column_transformer(\n",
        "    (MinMaxScaler(), [\"longitude\",\t\"latitude\",\t\"housing_median_age\",\t\"total_rooms\", \"total_bedrooms\",\t\"population\",\t\"households\",\t\"median_income\"])\n",
        ")\n",
        "\n",
        "X = df_california_housing.drop(\"median_house_value\", axis=1)\n",
        "y = df_california_housing[\"median_house_value\"]\n",
        "\n",
        "X_train, X_test, y_train, y_test = train_test_split(X, y, test_size=0.2, random_state=42)\n",
        "\n",
        "ct.fit(X_train)\n",
        "\n",
        "X_train_normal = ct.transform(X_train)\n",
        "X_test_normal = ct.transform(X_test)\n",
        "\n",
        "X_train_normal_tf = tf.constant(X_train_normal)\n",
        "y_train_tf = tf.constant(y_train)\n",
        "X_test_normal_tf = tf.constant(X_test_normal)\n",
        "y_test_tf = tf.constant(y_test)"
      ]
    },
    {
      "cell_type": "code",
      "execution_count": null,
      "metadata": {
        "colab": {
          "base_uri": "https://localhost:8080/"
        },
        "id": "VC9nFiPjkW9v",
        "outputId": "7ffd51f9-12a3-4f4a-cbed-79b37dc16d83"
      },
      "outputs": [
        {
          "name": "stdout",
          "output_type": "stream",
          "text": [
            "Epoch 1/200\n",
            "500/500 [==============================] - 2s 3ms/step - loss: 206460.2656 - mae: 206460.2656\n",
            "Epoch 2/200\n",
            "500/500 [==============================] - 1s 2ms/step - loss: 196652.0156 - mae: 196652.0156\n",
            "Epoch 3/200\n",
            "500/500 [==============================] - 2s 4ms/step - loss: 165138.5469 - mae: 165138.5469\n",
            "Epoch 4/200\n",
            "500/500 [==============================] - 2s 4ms/step - loss: 118376.8906 - mae: 118376.8906\n",
            "Epoch 5/200\n",
            "500/500 [==============================] - 1s 1ms/step - loss: 90800.8594 - mae: 90800.8594\n",
            "Epoch 6/200\n",
            "500/500 [==============================] - 1s 2ms/step - loss: 84931.1250 - mae: 84931.1250\n",
            "Epoch 7/200\n",
            "500/500 [==============================] - 1s 2ms/step - loss: 84158.8047 - mae: 84158.8047\n",
            "Epoch 8/200\n",
            "500/500 [==============================] - 1s 2ms/step - loss: 83640.2188 - mae: 83640.2188\n",
            "Epoch 9/200\n",
            "500/500 [==============================] - 1s 2ms/step - loss: 83104.7266 - mae: 83104.7266\n",
            "Epoch 10/200\n",
            "500/500 [==============================] - 1s 2ms/step - loss: 82539.9375 - mae: 82539.9375\n",
            "Epoch 11/200\n",
            "500/500 [==============================] - 1s 2ms/step - loss: 81950.0625 - mae: 81950.0625\n",
            "Epoch 12/200\n",
            "500/500 [==============================] - 1s 2ms/step - loss: 81338.3125 - mae: 81338.3125\n",
            "Epoch 13/200\n",
            "500/500 [==============================] - 1s 2ms/step - loss: 80701.9922 - mae: 80701.9922\n",
            "Epoch 14/200\n",
            "500/500 [==============================] - 1s 2ms/step - loss: 80046.7656 - mae: 80046.7656\n",
            "Epoch 15/200\n",
            "500/500 [==============================] - 1s 2ms/step - loss: 79359.7578 - mae: 79359.7578\n",
            "Epoch 16/200\n",
            "500/500 [==============================] - 1s 2ms/step - loss: 78632.3672 - mae: 78632.3672\n",
            "Epoch 17/200\n",
            "500/500 [==============================] - 1s 2ms/step - loss: 77876.5234 - mae: 77876.5234\n",
            "Epoch 18/200\n",
            "500/500 [==============================] - 1s 2ms/step - loss: 77081.5547 - mae: 77081.5547\n",
            "Epoch 19/200\n",
            "500/500 [==============================] - 1s 2ms/step - loss: 76253.0156 - mae: 76253.0156\n",
            "Epoch 20/200\n",
            "500/500 [==============================] - 1s 2ms/step - loss: 75373.3516 - mae: 75373.3516\n",
            "Epoch 21/200\n",
            "500/500 [==============================] - 1s 2ms/step - loss: 74450.0859 - mae: 74450.0859\n",
            "Epoch 22/200\n",
            "500/500 [==============================] - 1s 2ms/step - loss: 73463.0781 - mae: 73463.0781\n",
            "Epoch 23/200\n",
            "500/500 [==============================] - 1s 2ms/step - loss: 72409.6406 - mae: 72409.6406\n",
            "Epoch 24/200\n",
            "500/500 [==============================] - 1s 2ms/step - loss: 71300.0078 - mae: 71300.0078\n",
            "Epoch 25/200\n",
            "500/500 [==============================] - 1s 2ms/step - loss: 70125.1172 - mae: 70125.1172\n",
            "Epoch 26/200\n",
            "500/500 [==============================] - 1s 1ms/step - loss: 68879.1719 - mae: 68879.1719\n",
            "Epoch 27/200\n",
            "500/500 [==============================] - 1s 2ms/step - loss: 67537.0156 - mae: 67537.0156\n",
            "Epoch 28/200\n",
            "500/500 [==============================] - 1s 2ms/step - loss: 66130.4219 - mae: 66130.4219\n",
            "Epoch 29/200\n",
            "500/500 [==============================] - 1s 2ms/step - loss: 64689.9766 - mae: 64689.9766\n",
            "Epoch 30/200\n",
            "500/500 [==============================] - 1s 1ms/step - loss: 63290.6680 - mae: 63290.6680\n",
            "Epoch 31/200\n",
            "500/500 [==============================] - 1s 1ms/step - loss: 61968.4375 - mae: 61968.4375\n",
            "Epoch 32/200\n",
            "500/500 [==============================] - 1s 1ms/step - loss: 60733.2461 - mae: 60733.2461\n",
            "Epoch 33/200\n",
            "500/500 [==============================] - 1s 2ms/step - loss: 59599.1172 - mae: 59599.1172\n",
            "Epoch 34/200\n",
            "500/500 [==============================] - 2s 5ms/step - loss: 58611.5352 - mae: 58611.5352\n",
            "Epoch 35/200\n",
            "500/500 [==============================] - 1s 2ms/step - loss: 57814.7188 - mae: 57814.7188\n",
            "Epoch 36/200\n",
            "500/500 [==============================] - 1s 2ms/step - loss: 57193.1523 - mae: 57193.1523\n",
            "Epoch 37/200\n",
            "500/500 [==============================] - 1s 1ms/step - loss: 56725.2188 - mae: 56725.2188\n",
            "Epoch 38/200\n",
            "500/500 [==============================] - 1s 2ms/step - loss: 56374.9609 - mae: 56374.9609\n",
            "Epoch 39/200\n",
            "500/500 [==============================] - 1s 2ms/step - loss: 56121.4102 - mae: 56121.4102\n",
            "Epoch 40/200\n",
            "500/500 [==============================] - 1s 2ms/step - loss: 55938.3945 - mae: 55938.3945\n",
            "Epoch 41/200\n",
            "500/500 [==============================] - 1s 1ms/step - loss: 55802.9961 - mae: 55802.9961\n",
            "Epoch 42/200\n",
            "500/500 [==============================] - 1s 1ms/step - loss: 55697.7539 - mae: 55697.7539\n",
            "Epoch 43/200\n",
            "500/500 [==============================] - 1s 1ms/step - loss: 55597.7656 - mae: 55597.7656\n",
            "Epoch 44/200\n",
            "500/500 [==============================] - 1s 2ms/step - loss: 55525.0117 - mae: 55525.0117\n",
            "Epoch 45/200\n",
            "500/500 [==============================] - 1s 2ms/step - loss: 55456.7969 - mae: 55456.7969\n",
            "Epoch 46/200\n",
            "500/500 [==============================] - 1s 2ms/step - loss: 55382.3984 - mae: 55382.3984\n",
            "Epoch 47/200\n",
            "500/500 [==============================] - 1s 2ms/step - loss: 55311.8164 - mae: 55311.8164\n",
            "Epoch 48/200\n",
            "500/500 [==============================] - 1s 2ms/step - loss: 55248.0898 - mae: 55248.0898\n",
            "Epoch 49/200\n",
            "500/500 [==============================] - 1s 2ms/step - loss: 55189.7383 - mae: 55189.7383\n",
            "Epoch 50/200\n",
            "500/500 [==============================] - 1s 2ms/step - loss: 55119.0234 - mae: 55119.0234\n",
            "Epoch 51/200\n",
            "500/500 [==============================] - 1s 2ms/step - loss: 55065.7266 - mae: 55065.7266\n",
            "Epoch 52/200\n",
            "500/500 [==============================] - 1s 2ms/step - loss: 55003.4688 - mae: 55003.4688\n",
            "Epoch 53/200\n",
            "500/500 [==============================] - 1s 1ms/step - loss: 54946.4023 - mae: 54946.4023\n",
            "Epoch 54/200\n",
            "500/500 [==============================] - 1s 2ms/step - loss: 54884.1953 - mae: 54884.1953\n",
            "Epoch 55/200\n",
            "500/500 [==============================] - 1s 2ms/step - loss: 54830.7617 - mae: 54830.7617\n",
            "Epoch 56/200\n",
            "500/500 [==============================] - 1s 2ms/step - loss: 54772.2695 - mae: 54772.2695\n",
            "Epoch 57/200\n",
            "500/500 [==============================] - 1s 2ms/step - loss: 54711.3906 - mae: 54711.3906\n",
            "Epoch 58/200\n",
            "500/500 [==============================] - 1s 2ms/step - loss: 54655.0742 - mae: 54655.0742\n",
            "Epoch 59/200\n",
            "500/500 [==============================] - 1s 2ms/step - loss: 54597.5938 - mae: 54597.5938\n",
            "Epoch 60/200\n",
            "500/500 [==============================] - 1s 2ms/step - loss: 54549.1250 - mae: 54549.1250\n",
            "Epoch 61/200\n",
            "500/500 [==============================] - 1s 1ms/step - loss: 54485.1484 - mae: 54485.1484\n",
            "Epoch 62/200\n",
            "500/500 [==============================] - 1s 1ms/step - loss: 54434.4297 - mae: 54434.4297\n",
            "Epoch 63/200\n",
            "500/500 [==============================] - 1s 2ms/step - loss: 54374.7422 - mae: 54374.7422\n",
            "Epoch 64/200\n",
            "500/500 [==============================] - 1s 2ms/step - loss: 54322.8125 - mae: 54322.8125\n",
            "Epoch 65/200\n",
            "500/500 [==============================] - 1s 2ms/step - loss: 54267.6484 - mae: 54267.6484\n",
            "Epoch 66/200\n",
            "500/500 [==============================] - 1s 2ms/step - loss: 54210.1562 - mae: 54210.1562\n",
            "Epoch 67/200\n",
            "500/500 [==============================] - 1s 2ms/step - loss: 54156.7031 - mae: 54156.7031\n",
            "Epoch 68/200\n",
            "500/500 [==============================] - 1s 2ms/step - loss: 54098.1484 - mae: 54098.1484\n",
            "Epoch 69/200\n",
            "500/500 [==============================] - 1s 2ms/step - loss: 54049.3711 - mae: 54049.3711\n",
            "Epoch 70/200\n",
            "500/500 [==============================] - 1s 2ms/step - loss: 53995.2617 - mae: 53995.2617\n",
            "Epoch 71/200\n",
            "500/500 [==============================] - 1s 2ms/step - loss: 53942.2969 - mae: 53942.2969\n",
            "Epoch 72/200\n",
            "500/500 [==============================] - 1s 1ms/step - loss: 53892.0898 - mae: 53892.0898\n",
            "Epoch 73/200\n",
            "500/500 [==============================] - 1s 2ms/step - loss: 53829.7617 - mae: 53829.7617\n",
            "Epoch 74/200\n",
            "500/500 [==============================] - 1s 2ms/step - loss: 53792.1953 - mae: 53792.1953\n",
            "Epoch 75/200\n",
            "500/500 [==============================] - 1s 2ms/step - loss: 53731.0078 - mae: 53731.0078\n",
            "Epoch 76/200\n",
            "500/500 [==============================] - 1s 2ms/step - loss: 53677.3125 - mae: 53677.3125\n",
            "Epoch 77/200\n",
            "500/500 [==============================] - 1s 2ms/step - loss: 53627.1289 - mae: 53627.1289\n",
            "Epoch 78/200\n",
            "500/500 [==============================] - 1s 2ms/step - loss: 53576.9688 - mae: 53576.9688\n",
            "Epoch 79/200\n",
            "500/500 [==============================] - 1s 2ms/step - loss: 53527.2109 - mae: 53527.2109\n",
            "Epoch 80/200\n",
            "500/500 [==============================] - 1s 2ms/step - loss: 53478.7930 - mae: 53478.7930\n",
            "Epoch 81/200\n",
            "500/500 [==============================] - 1s 2ms/step - loss: 53427.3008 - mae: 53427.3008\n",
            "Epoch 82/200\n",
            "500/500 [==============================] - 1s 2ms/step - loss: 53372.6641 - mae: 53372.6641\n",
            "Epoch 83/200\n",
            "500/500 [==============================] - 1s 2ms/step - loss: 53316.1016 - mae: 53316.1016\n",
            "Epoch 84/200\n",
            "500/500 [==============================] - 1s 2ms/step - loss: 53263.5547 - mae: 53263.5547\n",
            "Epoch 85/200\n",
            "500/500 [==============================] - 1s 2ms/step - loss: 53222.8477 - mae: 53222.8477\n",
            "Epoch 86/200\n",
            "500/500 [==============================] - 1s 2ms/step - loss: 53178.2539 - mae: 53178.2539\n",
            "Epoch 87/200\n",
            "500/500 [==============================] - 1s 1ms/step - loss: 53114.2070 - mae: 53114.2070\n",
            "Epoch 88/200\n",
            "500/500 [==============================] - 1s 2ms/step - loss: 53079.2734 - mae: 53079.2734\n",
            "Epoch 89/200\n",
            "500/500 [==============================] - 1s 1ms/step - loss: 53027.6367 - mae: 53027.6367\n",
            "Epoch 90/200\n",
            "500/500 [==============================] - 1s 2ms/step - loss: 52973.5781 - mae: 52973.5781\n",
            "Epoch 91/200\n",
            "500/500 [==============================] - 1s 1ms/step - loss: 52927.1250 - mae: 52927.1250\n",
            "Epoch 92/200\n",
            "500/500 [==============================] - 1s 2ms/step - loss: 52881.1484 - mae: 52881.1484\n",
            "Epoch 93/200\n",
            "500/500 [==============================] - 1s 2ms/step - loss: 52830.7344 - mae: 52830.7344\n",
            "Epoch 94/200\n",
            "500/500 [==============================] - 1s 2ms/step - loss: 52791.0742 - mae: 52791.0742\n",
            "Epoch 95/200\n",
            "500/500 [==============================] - 1s 2ms/step - loss: 52738.1953 - mae: 52738.1953\n",
            "Epoch 96/200\n",
            "500/500 [==============================] - 1s 2ms/step - loss: 52705.1289 - mae: 52705.1289\n",
            "Epoch 97/200\n",
            "500/500 [==============================] - 1s 2ms/step - loss: 52637.8242 - mae: 52637.8242\n",
            "Epoch 98/200\n",
            "500/500 [==============================] - 1s 2ms/step - loss: 52603.4023 - mae: 52603.4023\n",
            "Epoch 99/200\n",
            "500/500 [==============================] - 1s 2ms/step - loss: 52554.8633 - mae: 52554.8633\n",
            "Epoch 100/200\n",
            "500/500 [==============================] - 1s 2ms/step - loss: 52511.6875 - mae: 52511.6875\n",
            "Epoch 101/200\n",
            "500/500 [==============================] - 1s 2ms/step - loss: 52467.7852 - mae: 52467.7852\n",
            "Epoch 102/200\n",
            "500/500 [==============================] - 1s 2ms/step - loss: 52419.9648 - mae: 52419.9648\n",
            "Epoch 103/200\n",
            "500/500 [==============================] - 1s 2ms/step - loss: 52378.9609 - mae: 52378.9609\n",
            "Epoch 104/200\n",
            "500/500 [==============================] - 1s 2ms/step - loss: 52337.5078 - mae: 52337.5078\n",
            "Epoch 105/200\n",
            "500/500 [==============================] - 1s 2ms/step - loss: 52292.5352 - mae: 52292.5352\n",
            "Epoch 106/200\n",
            "500/500 [==============================] - 1s 2ms/step - loss: 52256.2734 - mae: 52256.2734\n",
            "Epoch 107/200\n",
            "500/500 [==============================] - 1s 2ms/step - loss: 52203.5000 - mae: 52203.5000\n",
            "Epoch 108/200\n",
            "500/500 [==============================] - 1s 2ms/step - loss: 52171.5039 - mae: 52171.5039\n",
            "Epoch 109/200\n",
            "500/500 [==============================] - 1s 2ms/step - loss: 52126.7422 - mae: 52126.7422\n",
            "Epoch 110/200\n",
            "500/500 [==============================] - 1s 2ms/step - loss: 52084.6055 - mae: 52084.6055\n",
            "Epoch 111/200\n",
            "500/500 [==============================] - 1s 2ms/step - loss: 52042.4609 - mae: 52042.4609\n",
            "Epoch 112/200\n",
            "500/500 [==============================] - 1s 2ms/step - loss: 52007.4375 - mae: 52007.4375\n",
            "Epoch 113/200\n",
            "500/500 [==============================] - 1s 2ms/step - loss: 51969.4883 - mae: 51969.4883\n",
            "Epoch 114/200\n",
            "500/500 [==============================] - 1s 2ms/step - loss: 51931.5547 - mae: 51931.5547\n",
            "Epoch 115/200\n",
            "500/500 [==============================] - 1s 2ms/step - loss: 51887.3828 - mae: 51887.3828\n",
            "Epoch 116/200\n",
            "500/500 [==============================] - 1s 2ms/step - loss: 51849.2461 - mae: 51849.2461\n",
            "Epoch 117/200\n",
            "500/500 [==============================] - 1s 2ms/step - loss: 51816.9570 - mae: 51816.9570\n",
            "Epoch 118/200\n",
            "500/500 [==============================] - 1s 2ms/step - loss: 51787.4453 - mae: 51787.4453\n",
            "Epoch 119/200\n",
            "500/500 [==============================] - 1s 2ms/step - loss: 51740.9727 - mae: 51740.9727\n",
            "Epoch 120/200\n",
            "500/500 [==============================] - 1s 2ms/step - loss: 51707.0352 - mae: 51707.0352\n",
            "Epoch 121/200\n",
            "500/500 [==============================] - 1s 2ms/step - loss: 51672.8203 - mae: 51672.8203\n",
            "Epoch 122/200\n",
            "500/500 [==============================] - 1s 1ms/step - loss: 51634.2031 - mae: 51634.2031\n",
            "Epoch 123/200\n",
            "500/500 [==============================] - 1s 1ms/step - loss: 51601.3984 - mae: 51601.3984\n",
            "Epoch 124/200\n",
            "500/500 [==============================] - 1s 2ms/step - loss: 51564.4805 - mae: 51564.4805\n",
            "Epoch 125/200\n",
            "500/500 [==============================] - 1s 2ms/step - loss: 51529.4805 - mae: 51529.4805\n",
            "Epoch 126/200\n",
            "500/500 [==============================] - 1s 2ms/step - loss: 51495.0977 - mae: 51495.0977\n",
            "Epoch 127/200\n",
            "500/500 [==============================] - 1s 2ms/step - loss: 51463.2070 - mae: 51463.2070\n",
            "Epoch 128/200\n",
            "500/500 [==============================] - 1s 2ms/step - loss: 51432.2266 - mae: 51432.2266\n",
            "Epoch 129/200\n",
            "500/500 [==============================] - 1s 2ms/step - loss: 51393.6406 - mae: 51393.6406\n",
            "Epoch 130/200\n",
            "500/500 [==============================] - 1s 2ms/step - loss: 51364.8594 - mae: 51364.8594\n",
            "Epoch 131/200\n",
            "500/500 [==============================] - 1s 2ms/step - loss: 51338.1680 - mae: 51338.1680\n",
            "Epoch 132/200\n",
            "500/500 [==============================] - 1s 2ms/step - loss: 51307.8633 - mae: 51307.8633\n",
            "Epoch 133/200\n",
            "500/500 [==============================] - 1s 2ms/step - loss: 51272.5273 - mae: 51272.5273\n",
            "Epoch 134/200\n",
            "500/500 [==============================] - 1s 2ms/step - loss: 51240.1953 - mae: 51240.1953\n",
            "Epoch 135/200\n",
            "500/500 [==============================] - 1s 2ms/step - loss: 51212.6445 - mae: 51212.6445\n",
            "Epoch 136/200\n",
            "500/500 [==============================] - 1s 2ms/step - loss: 51184.0703 - mae: 51184.0703\n",
            "Epoch 137/200\n",
            "500/500 [==============================] - 1s 2ms/step - loss: 51151.5234 - mae: 51151.5234\n",
            "Epoch 138/200\n",
            "500/500 [==============================] - 1s 2ms/step - loss: 51127.1016 - mae: 51127.1016\n",
            "Epoch 139/200\n",
            "500/500 [==============================] - 1s 2ms/step - loss: 51096.6992 - mae: 51096.6992\n",
            "Epoch 140/200\n",
            "500/500 [==============================] - 1s 2ms/step - loss: 51062.6758 - mae: 51062.6758\n",
            "Epoch 141/200\n",
            "500/500 [==============================] - 1s 2ms/step - loss: 51036.0273 - mae: 51036.0273\n",
            "Epoch 142/200\n",
            "500/500 [==============================] - 1s 2ms/step - loss: 51011.0078 - mae: 51011.0078\n",
            "Epoch 143/200\n",
            "500/500 [==============================] - 1s 2ms/step - loss: 50980.3008 - mae: 50980.3008\n",
            "Epoch 144/200\n",
            "500/500 [==============================] - 1s 2ms/step - loss: 50956.1016 - mae: 50956.1016\n",
            "Epoch 145/200\n",
            "500/500 [==============================] - 1s 2ms/step - loss: 50937.3242 - mae: 50937.3242\n",
            "Epoch 146/200\n",
            "500/500 [==============================] - 1s 2ms/step - loss: 50914.2188 - mae: 50914.2188\n",
            "Epoch 147/200\n",
            "500/500 [==============================] - 1s 2ms/step - loss: 50878.8164 - mae: 50878.8164\n",
            "Epoch 148/200\n",
            "500/500 [==============================] - 1s 2ms/step - loss: 50860.0938 - mae: 50860.0938\n",
            "Epoch 149/200\n",
            "500/500 [==============================] - 1s 2ms/step - loss: 50831.9961 - mae: 50831.9961\n",
            "Epoch 150/200\n",
            "500/500 [==============================] - 1s 2ms/step - loss: 50813.6406 - mae: 50813.6406\n",
            "Epoch 151/200\n",
            "500/500 [==============================] - 1s 2ms/step - loss: 50777.9023 - mae: 50777.9023\n",
            "Epoch 152/200\n",
            "500/500 [==============================] - 1s 2ms/step - loss: 50768.8555 - mae: 50768.8555\n",
            "Epoch 153/200\n",
            "500/500 [==============================] - 1s 2ms/step - loss: 50733.8359 - mae: 50733.8359\n",
            "Epoch 154/200\n",
            "500/500 [==============================] - 1s 2ms/step - loss: 50711.1172 - mae: 50711.1172\n",
            "Epoch 155/200\n",
            "500/500 [==============================] - 1s 2ms/step - loss: 50690.7695 - mae: 50690.7695\n",
            "Epoch 156/200\n",
            "500/500 [==============================] - 1s 2ms/step - loss: 50664.1641 - mae: 50664.1641\n",
            "Epoch 157/200\n",
            "500/500 [==============================] - 1s 2ms/step - loss: 50652.0898 - mae: 50652.0898\n",
            "Epoch 158/200\n",
            "500/500 [==============================] - 1s 2ms/step - loss: 50627.1680 - mae: 50627.1680\n",
            "Epoch 159/200\n",
            "500/500 [==============================] - 1s 2ms/step - loss: 50597.8945 - mae: 50597.8945\n",
            "Epoch 160/200\n",
            "500/500 [==============================] - 1s 2ms/step - loss: 50591.2344 - mae: 50591.2344\n",
            "Epoch 161/200\n",
            "500/500 [==============================] - 1s 2ms/step - loss: 50568.8750 - mae: 50568.8750\n",
            "Epoch 162/200\n",
            "500/500 [==============================] - 1s 2ms/step - loss: 50552.0664 - mae: 50552.0664\n",
            "Epoch 163/200\n",
            "500/500 [==============================] - 1s 2ms/step - loss: 50524.7266 - mae: 50524.7266\n",
            "Epoch 164/200\n",
            "500/500 [==============================] - 1s 2ms/step - loss: 50492.9961 - mae: 50492.9961\n",
            "Epoch 165/200\n",
            "500/500 [==============================] - 1s 2ms/step - loss: 50491.4766 - mae: 50491.4766\n",
            "Epoch 166/200\n",
            "500/500 [==============================] - 1s 2ms/step - loss: 50451.7461 - mae: 50451.7461\n",
            "Epoch 167/200\n",
            "500/500 [==============================] - 1s 2ms/step - loss: 50449.1016 - mae: 50449.1016\n",
            "Epoch 168/200\n",
            "500/500 [==============================] - 1s 2ms/step - loss: 50426.4453 - mae: 50426.4453\n",
            "Epoch 169/200\n",
            "500/500 [==============================] - 1s 2ms/step - loss: 50414.5625 - mae: 50414.5625\n",
            "Epoch 170/200\n",
            "500/500 [==============================] - 1s 2ms/step - loss: 50403.1172 - mae: 50403.1172\n",
            "Epoch 171/200\n",
            "500/500 [==============================] - 1s 2ms/step - loss: 50367.7266 - mae: 50367.7266\n",
            "Epoch 172/200\n",
            "500/500 [==============================] - 1s 2ms/step - loss: 50374.0117 - mae: 50374.0117\n",
            "Epoch 173/200\n",
            "500/500 [==============================] - 1s 2ms/step - loss: 50344.7070 - mae: 50344.7070\n",
            "Epoch 174/200\n",
            "500/500 [==============================] - 1s 2ms/step - loss: 50324.4023 - mae: 50324.4023\n",
            "Epoch 175/200\n",
            "500/500 [==============================] - 1s 2ms/step - loss: 50305.7305 - mae: 50305.7305\n",
            "Epoch 176/200\n",
            "500/500 [==============================] - 1s 2ms/step - loss: 50294.7656 - mae: 50294.7656\n",
            "Epoch 177/200\n",
            "500/500 [==============================] - 1s 2ms/step - loss: 50278.1445 - mae: 50278.1445\n",
            "Epoch 178/200\n",
            "500/500 [==============================] - 1s 2ms/step - loss: 50251.1992 - mae: 50251.1992\n",
            "Epoch 179/200\n",
            "500/500 [==============================] - 1s 2ms/step - loss: 50247.4375 - mae: 50247.4375\n",
            "Epoch 180/200\n",
            "500/500 [==============================] - 1s 2ms/step - loss: 50231.6016 - mae: 50231.6016\n",
            "Epoch 181/200\n",
            "500/500 [==============================] - 1s 2ms/step - loss: 50214.3789 - mae: 50214.3789\n",
            "Epoch 182/200\n",
            "500/500 [==============================] - 1s 2ms/step - loss: 50204.5352 - mae: 50204.5352\n",
            "Epoch 183/200\n",
            "500/500 [==============================] - 1s 2ms/step - loss: 50196.1016 - mae: 50196.1016\n",
            "Epoch 184/200\n",
            "500/500 [==============================] - 1s 2ms/step - loss: 50174.0000 - mae: 50174.0000\n",
            "Epoch 185/200\n",
            "500/500 [==============================] - 1s 2ms/step - loss: 50161.9023 - mae: 50161.9023\n",
            "Epoch 186/200\n",
            "500/500 [==============================] - 1s 2ms/step - loss: 50147.6875 - mae: 50147.6875\n",
            "Epoch 187/200\n",
            "500/500 [==============================] - 1s 2ms/step - loss: 50139.3594 - mae: 50139.3594\n",
            "Epoch 188/200\n",
            "500/500 [==============================] - 1s 2ms/step - loss: 50120.5273 - mae: 50120.5273\n",
            "Epoch 189/200\n",
            "500/500 [==============================] - 1s 2ms/step - loss: 50115.2305 - mae: 50115.2305\n",
            "Epoch 190/200\n",
            "500/500 [==============================] - 1s 2ms/step - loss: 50106.8633 - mae: 50106.8633\n",
            "Epoch 191/200\n",
            "500/500 [==============================] - 1s 2ms/step - loss: 50089.3750 - mae: 50089.3750\n",
            "Epoch 192/200\n",
            "500/500 [==============================] - 1s 2ms/step - loss: 50081.4648 - mae: 50081.4648\n",
            "Epoch 193/200\n",
            "500/500 [==============================] - 1s 2ms/step - loss: 50073.4648 - mae: 50073.4648\n",
            "Epoch 194/200\n",
            "500/500 [==============================] - 1s 2ms/step - loss: 50063.6836 - mae: 50063.6836\n",
            "Epoch 195/200\n",
            "500/500 [==============================] - 1s 2ms/step - loss: 50046.2891 - mae: 50046.2891\n",
            "Epoch 196/200\n",
            "500/500 [==============================] - 1s 2ms/step - loss: 50035.1523 - mae: 50035.1523\n",
            "Epoch 197/200\n",
            "500/500 [==============================] - 1s 2ms/step - loss: 50034.5469 - mae: 50034.5469\n",
            "Epoch 198/200\n",
            "500/500 [==============================] - 1s 2ms/step - loss: 50015.3750 - mae: 50015.3750\n",
            "Epoch 199/200\n",
            "500/500 [==============================] - 1s 2ms/step - loss: 50012.6055 - mae: 50012.6055\n",
            "Epoch 200/200\n",
            "500/500 [==============================] - 1s 2ms/step - loss: 49996.5312 - mae: 49996.5312\n"
          ]
        }
      ],
      "source": [
        "tf.random.set_seed(42)\n",
        "\n",
        "california_housing_model = tf.keras.Sequential([\n",
        "    tf.keras.layers.Dense(100),\n",
        "    tf.keras.layers.Dense(10),\n",
        "    tf.keras.layers.Dense(1)\n",
        "])\n",
        "\n",
        "california_housing_model.compile(loss=\"mae\",\n",
        "                                 optimizer=\"Adam\",\n",
        "                                 metrics=[\"mae\"])\n",
        "\n",
        "history = california_housing_model.fit(X_train_normal_tf, y_train_tf, epochs=200, verbose=1)"
      ]
    },
    {
      "cell_type": "code",
      "execution_count": null,
      "metadata": {
        "colab": {
          "base_uri": "https://localhost:8080/"
        },
        "id": "NiPs-bpwntLL",
        "outputId": "872ce63f-8222-4214-d8af-7de8d4b6832b"
      },
      "outputs": [
        {
          "data": {
            "text/plain": [
              "207082.71675"
            ]
          },
          "execution_count": 49,
          "metadata": {},
          "output_type": "execute_result"
        }
      ],
      "source": [
        "y.mean()"
      ]
    },
    {
      "cell_type": "code",
      "execution_count": null,
      "metadata": {
        "colab": {
          "base_uri": "https://localhost:8080/",
          "height": 466
        },
        "id": "OjOLSr57m7d5",
        "outputId": "66fc480b-77ca-4e45-baf5-6b7a48996009"
      },
      "outputs": [
        {
          "data": {
            "text/plain": [
              "Text(0.5, 0, 'epochs')"
            ]
          },
          "execution_count": 47,
          "metadata": {},
          "output_type": "execute_result"
        },
        {
          "data": {
            "image/png": "[encoded data removed]",
            "text/plain": [
              "<Figure size 640x480 with 1 Axes>"
            ]
          },
          "metadata": {},
          "output_type": "display_data"
        }
      ],
      "source": [
        "pd.DataFrame(history.history).plot()\n",
        "plt.ylabel(\"loss\")\n",
        "plt.xlabel(\"epochs\")"
      ]
    },
    {
      "cell_type": "code",
      "execution_count": null,
      "metadata": {
        "colab": {
          "base_uri": "https://localhost:8080/"
        },
        "id": "vuNCmDnRn28_",
        "outputId": "f9104d1b-e349-42d2-e21d-8f6846a7c112"
      },
      "outputs": [
        {
          "name": "stdout",
          "output_type": "stream",
          "text": [
            "125/125 [==============================] - 1s 2ms/step - loss: 49519.8242 - mae: 49519.8242\n"
          ]
        },
        {
          "data": {
            "text/plain": [
              "[49519.82421875, 49519.82421875]"
            ]
          },
          "execution_count": 50,
          "metadata": {},
          "output_type": "execute_result"
        }
      ],
      "source": [
        "california_housing_model.evaluate(X_test_normal_tf, y_test_tf)"
      ]
    }
  ],
  "metadata": {
    "colab": {
      "provenance": []
    },
    "kernelspec": {
      "display_name": "Python 3",
      "language": "python",
      "name": "python3"
    },
    "language_info": {
      "codemirror_mode": {
        "name": "ipython",
        "version": 3
      },
      "file_extension": ".py",
      "mimetype": "text/x-python",
      "name": "python",
      "nbconvert_exporter": "python",
      "pygments_lexer": "ipython3",
      "version": "3.10.12"
    }
  },
  "nbformat": 4,
  "nbformat_minor": 0
}
